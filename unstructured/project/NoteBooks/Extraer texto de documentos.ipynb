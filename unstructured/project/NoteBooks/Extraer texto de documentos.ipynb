{
 "cells": [
  {
   "cell_type": "code",
   "execution_count": 47,
   "id": "initial_id",
   "metadata": {
    "ExecuteTime": {
     "end_time": "2024-08-18T21:27:30.467733Z",
     "start_time": "2024-08-18T21:27:30.462613Z"
    },
    "collapsed": true
   },
   "outputs": [],
   "source": [
    "# Recupera los nombres de todos los archivos del directorio\n",
    "\n",
    "import os\n",
    "\n",
    "def listar_archivos(directorio, modificar_nombre=None):\n",
    "    if modificar_nombre is None:\n",
    "        modificar_nombre = lambda x: x\n",
    "    archivos = [archivo for archivo in os.listdir(directorio) if archivo.endswith('.pdf') or archivo.endswith('.csv')]\n",
    "    archivos = [modificar_nombre(os.path.join(directorio, archivo)) if modificar_nombre else archivo for archivo in archivos]\n",
    "    return archivos"
   ]
  },
  {
   "cell_type": "code",
   "execution_count": 48,
   "id": "cd04accd093ad314",
   "metadata": {
    "ExecuteTime": {
     "end_time": "2024-08-18T21:27:30.491017Z",
     "start_time": "2024-08-18T21:27:30.475127Z"
    }
   },
   "outputs": [
    {
     "data": {
      "text/plain": [
       "['../papers/Retrieval-Augmented Generation for Knowledge-Intensive NLP Tasks.pdf']"
      ]
     },
     "execution_count": 48,
     "metadata": {},
     "output_type": "execute_result"
    }
   ],
   "source": [
    "paper_dir = listar_archivos('../papers')\n",
    "paper_dir"
   ]
  },
  {
   "cell_type": "code",
   "execution_count": 49,
   "id": "f18e557b772f9b4",
   "metadata": {
    "ExecuteTime": {
     "end_time": "2024-08-18T21:27:30.503695Z",
     "start_time": "2024-08-18T21:27:30.493343Z"
    }
   },
   "outputs": [
    {
     "data": {
      "text/plain": [
       "['./data/raw/Retrieval-Augmented Generation for Knowledge-Intensive NLP Tasks.pdf']"
      ]
     },
     "execution_count": 49,
     "metadata": {},
     "output_type": "execute_result"
    }
   ],
   "source": [
    "# Funcion que elimina la extencion .csv que se encuentra al final de cada archivo\n",
    "def eliminar_extension(archivo):\n",
    "    if archivo.endswith('.csv'):\n",
    "        return archivo[:-4]\n",
    "    return archivo\n",
    "\n",
    "extracted_dir = listar_archivos('./data/raw', eliminar_extension)\n",
    "extracted_dir"
   ]
  },
  {
   "cell_type": "code",
   "execution_count": 50,
   "id": "c8de1ed6a568350c",
   "metadata": {
    "ExecuteTime": {
     "end_time": "2024-08-18T21:27:30.516046Z",
     "start_time": "2024-08-18T21:27:30.506608Z"
    }
   },
   "outputs": [
    {
     "data": {
      "text/plain": [
       "[]"
      ]
     },
     "execution_count": 50,
     "metadata": {},
     "output_type": "execute_result"
    }
   ],
   "source": [
    "# Recuperar nombres de archivos que estan en paper_dir, pero no en extracted_dir\n",
    "def archivos_faltantes(paper_dir, extracted_dir):\n",
    "    return [(archivo, os.path.basename(archivo)) for archivo in paper_dir if os.path.basename(archivo) not in [os.path.basename(exr_dir) for exr_dir in extracted_dir]]\n",
    "\n",
    "new_files = archivos_faltantes(paper_dir, extracted_dir)\n",
    "new_files"
   ]
  },
  {
   "cell_type": "code",
   "execution_count": 51,
   "id": "31c64c8fd8bfffa5",
   "metadata": {
    "ExecuteTime": {
     "end_time": "2024-08-18T21:27:30.529501Z",
     "start_time": "2024-08-18T21:27:30.518537Z"
    }
   },
   "outputs": [],
   "source": [
    "from unstructured.partition.pdf import partition_pdf\n",
    "from unstructured.staging.base import convert_to_dataframe\n",
    "\n",
    "for path_file, file_name in new_files:\n",
    "    elements = partition_pdf(\n",
    "        filename=path_file,                                     # mandatory\n",
    "        strategy=\"hi_res\",                                     # mandatory to use ``hi_res`` strategy\n",
    "        extract_images_in_pdf=True,                            # mandatory to set as ``True``\n",
    "        extract_image_block_types=[\"Image\", \"Table\"],          # optional\n",
    "        extract_image_block_to_payload=False,                  # optional\n",
    "        extract_image_block_output_dir=f\"./images/{file_name}/\",  # optional - only works when ``extract_image_block_to_payload=False``\n",
    "        )\n",
    "    df = convert_to_dataframe(elements)\n",
    "    df.to_csv(f\"data/raw/{file_name}.csv\", index=True)\n",
    "    print(f\"Archivo {file_name} extraido con exito\")"
   ]
  },
  {
   "cell_type": "code",
   "execution_count": 51,
   "id": "eabeb702464c8151",
   "metadata": {
    "ExecuteTime": {
     "end_time": "2024-08-18T21:27:30.535401Z",
     "start_time": "2024-08-18T21:27:30.532500Z"
    }
   },
   "outputs": [],
   "source": []
  }
 ],
 "metadata": {
  "kernelspec": {
   "display_name": "Python 3",
   "language": "python",
   "name": "python3"
  },
  "language_info": {
   "codemirror_mode": {
    "name": "ipython",
    "version": 2
   },
   "file_extension": ".py",
   "mimetype": "text/x-python",
   "name": "python",
   "nbconvert_exporter": "python",
   "pygments_lexer": "ipython2",
   "version": "2.7.6"
  }
 },
 "nbformat": 4,
 "nbformat_minor": 5
}
