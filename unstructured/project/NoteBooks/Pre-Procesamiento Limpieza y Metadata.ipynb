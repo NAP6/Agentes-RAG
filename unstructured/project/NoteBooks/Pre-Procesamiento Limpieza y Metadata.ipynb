{
 "cells": [
  {
   "cell_type": "code",
   "id": "initial_id",
   "metadata": {
    "collapsed": true,
    "ExecuteTime": {
     "end_time": "2024-08-24T14:56:40.862391Z",
     "start_time": "2024-08-24T14:56:39.488458Z"
    }
   },
   "source": [
    "import os\n",
    "import pandas as pd\n",
    "\n",
    "\n",
    "def leer_y_combinar_csv(directorio):\n",
    "    archivos_csv = [archivo for archivo in os.listdir(directorio) if archivo.endswith('.csv')]\n",
    "    dataframes = [pd.read_csv(os.path.join(directorio, archivo), index_col=0) for archivo in archivos_csv]\n",
    "    df_combinado = pd.concat(dataframes, ignore_index=True)\n",
    "    return df_combinado\n",
    "\n",
    "\n",
    "# Uso de ejemplo\n",
    "directorio = './data/raw'\n",
    "file_name = 'Retrieval-Augmented Generation for Knowledge-Intensive NLP Tasks.pdf'\n",
    "# df_raw = leer_y_combinar_csv(directorio)\n",
    "df_raw = pd.read_csv(os.path.join(directorio, file_name + '.csv'), index_col=0)"
   ],
   "outputs": [],
   "execution_count": 1
  },
  {
   "cell_type": "code",
   "id": "df8005ca9dadf09b",
   "metadata": {
    "ExecuteTime": {
     "end_time": "2024-08-24T14:56:44.178970Z",
     "start_time": "2024-08-24T14:56:44.169342Z"
    }
   },
   "source": [
    "df_raw.columns"
   ],
   "outputs": [
    {
     "data": {
      "text/plain": [
       "Index(['type', 'element_id', 'text', 'coordinates_points',\n",
       "       'coordinates_system', 'coordinates_layout_width',\n",
       "       'coordinates_layout_height', 'last_modified', 'filetype', 'languages',\n",
       "       'page_number', 'file_directory', 'filename', 'detection_class_prob',\n",
       "       'parent_id', 'image_path'],\n",
       "      dtype='object')"
      ]
     },
     "execution_count": 2,
     "metadata": {},
     "output_type": "execute_result"
    }
   ],
   "execution_count": 2
  },
  {
   "cell_type": "code",
   "id": "8b6466094559c291",
   "metadata": {
    "ExecuteTime": {
     "end_time": "2024-08-24T14:56:45.675238Z",
     "start_time": "2024-08-24T14:56:45.669700Z"
    }
   },
   "source": [
    "# Eliminar la columna coordinates_points, coordinates_system\n",
    "df_raw = df_raw.drop(columns=['coordinates_system', 'coordinates_layout_width',\n",
    "                              'coordinates_layout_height', 'last_modified', 'file_directory', ])"
   ],
   "outputs": [],
   "execution_count": 3
  },
  {
   "cell_type": "code",
   "id": "9818b384d39b6b32",
   "metadata": {
    "ExecuteTime": {
     "end_time": "2024-08-24T14:56:53.635537Z",
     "start_time": "2024-08-24T14:56:49.357714Z"
    }
   },
   "source": [
    "from langchain_core.output_parsers import JsonOutputParser\n",
    "from langchain_core.prompts import PromptTemplate\n",
    "from langchain_core.pydantic_v1 import BaseModel, Field, validator\n",
    "from langchain_ollama.chat_models import ChatOllama\n",
    "from langchain_openai import ChatOpenAI\n",
    "\n",
    "# model = ChatOllama(model='llama3.1', temperature=0)\n",
    "model = ChatOpenAI(model='gpt-4o', temperature=0.0)\n",
    "\n",
    "try:\n",
    "    with open(os.path.join(directorio, file_name + '.json'), 'r') as archivo:\n",
    "        meta = archivo.read()\n",
    "except:\n",
    "    meta = \"\"\n"
   ],
   "outputs": [],
   "execution_count": 4
  },
  {
   "cell_type": "code",
   "id": "6e0b652beb606d23",
   "metadata": {
    "ExecuteTime": {
     "end_time": "2024-08-24T14:57:05.276087Z",
     "start_time": "2024-08-24T14:57:05.270657Z"
    }
   },
   "source": [
    "# Assuming you have a class defined for handling the structured output\n",
    "class TextEvaluation(BaseModel):\n",
    "    makes_sense: bool = Field(\n",
    "        default=False,\n",
    "        description=\"Indicates whether the text is coherent and understandable.\"\n",
    "    )\n",
    "    block_type: str = Field(\n",
    "        default=\"\",\n",
    "        description=\"Specifies the category of the text block, such as 'Title', 'Author Names', 'Bibliography', etc.\"\n",
    "    )\n",
    "    description: str = Field(\n",
    "        default=\"\",\n",
    "        description=\"Provides a concise summary or explanation of the text block's content.\"\n",
    "    )\n",
    "\n"
   ],
   "outputs": [],
   "execution_count": 5
  },
  {
   "cell_type": "code",
   "id": "1dfe0c09bc64d46",
   "metadata": {
    "ExecuteTime": {
     "end_time": "2024-08-24T14:57:06.336777Z",
     "start_time": "2024-08-24T14:57:06.328599Z"
    }
   },
   "source": [
    "# Define meta-information and evaluation criteria as a string\n",
    "meta_info = \"\"\"\n",
    "Review the previously classified text block:\n",
    "<Text_to_evaluate>\n",
    "    {text_to_evaluate}\n",
    "</Text_to_evaluate>\n",
    "\n",
    "Classification: {old_type}\n",
    "\n",
    "Assessment Task:\n",
    "1. Determine if the text makes sense by itself.\n",
    "   - If it does not make sense, label it as 'UncategorizedText'.\n",
    "   - If it does make sense, classify it into one of the following categories based on its content:\n",
    "\n",
    "Categories:\n",
    "- 'Title': For main and sectional headings of a document, such as \"Annual Report,\" \"Introduction,\" \"Methodology,\" or more specific parts like \"1. Introduction,\" \"2. Methodology.\"\n",
    "- 'Author Names': For listing one or more authors of the document.\n",
    "- 'Bibliography': For parts of the bibliography section, which may include citations of books, articles, and online sources typically found at the end of academic works.\n",
    "- 'FigureCaption': For labels and descriptions of figures or tables, such as \"Figure 1: Population Trends over Time\" or \"Table 2: Detailed Revenue Comparison by Quarter.\"\n",
    "- 'NarrativeText': For extensive text blocks that form the main content of the document. These are usually longer, containing multiple sentences and spanning several paragraphs, providing in-depth information and discussion.\n",
    "- 'UncategorizedText': For text that does not clearly fit into any other categories or whose meaning is unclear.\n",
    "\n",
    "Additional Meta Information:\n",
    "<meta>\n",
    "{meta}\n",
    "</meta>\n",
    "\n",
    "Formatting Instructions:\n",
    "{format_instructions}\n",
    "\n",
    "Please follow the formatting guidelines provided to ensure consistency in the classification process.\n",
    "\"\"\"\n",
    "\n",
    "# Set up a parser + inject instructions into the prompt template.\n",
    "parser = JsonOutputParser(pydantic_object=TextEvaluation)\n",
    "\n",
    "prompt = PromptTemplate(\n",
    "    template=meta_info,\n",
    "    input_variables=[\"text_to_evaluate\", \"old_type\"],\n",
    "    partial_variables={\n",
    "        \"meta\": meta,\n",
    "        \"format_instructions\": parser.get_format_instructions(),\n",
    "    },\n",
    ")\n",
    "\n",
    "# Assuming 'model' is an instance of a language model from langchain\n",
    "chain = prompt | model | parser\n"
   ],
   "outputs": [],
   "execution_count": 6
  },
  {
   "cell_type": "code",
   "id": "55efc70583c71c0a",
   "metadata": {
    "ExecuteTime": {
     "end_time": "2024-08-24T15:02:10.800194Z",
     "start_time": "2024-08-24T14:57:29.733323Z"
    }
   },
   "source": [
    "df_raw[\"makes_sense\"] = None\n",
    "df_raw[\"block_type\"] = None\n",
    "df_raw[\"description\"] = None\n",
    "for i in range(len(df_raw)):\n",
    "    if df_raw.loc[i, 'type'] in ['Image', 'Table']:\n",
    "        continue\n",
    "    # Text for evaluation (would be dynamically inserted in a real application)\n",
    "    text_to_evaluate = df_raw.loc[i, 'text']\n",
    "    old_type = df_raw.loc[i, 'type']\n",
    "\n",
    "    try:\n",
    "        # Invocation with dynamic content\n",
    "        result = chain.invoke({\"text_to_evaluate\": text_to_evaluate, \"old_type\": old_type})\n",
    "        print(i, result)\n",
    "\n",
    "        df_raw.loc[i, \"makes_sense\"] = result[\"makes_sense\"]\n",
    "        df_raw.loc[i, \"block_type\"] = result[\"block_type\"]\n",
    "        df_raw.loc[i, \"description\"] = result[\"description\"]\n",
    "    except:\n",
    "        print(1, \"Failed\")\n",
    "        continue  # Salta a la siguiente iteración si el JSON es inválido"
   ],
   "outputs": [
    {
     "name": "stdout",
     "output_type": "stream",
     "text": [
      "0 {'makes_sense': False, 'block_type': 'UncategorizedText', 'description': \"The text block '1 2 0 2' does not provide coherent or understandable information and does not fit into any of the specified categories.\"}\n",
      "1 {'makes_sense': False, 'block_type': 'UncategorizedText', 'description': 'The text block does not form a coherent or understandable sentence or phrase.'}\n",
      "2 {'makes_sense': False, 'block_type': 'UncategorizedText', 'description': 'The text block does not make sense and does not fit into any of the specified categories.'}\n",
      "3 {'makes_sense': True, 'block_type': 'Title', 'description': 'The text is a title for a document or section, likely related to a method or approach in natural language processing (NLP) that involves retrieval-augmented generation for tasks requiring extensive knowledge.'}\n",
      "4 {'makes_sense': True, 'block_type': 'Author Names', 'description': 'The text block lists the names of authors, specifically Patrick Lewis and Ethan Perez.'}\n",
      "5 {'makes_sense': True, 'block_type': 'Author Names', 'description': 'This text block lists the names of authors, typically found at the beginning of academic papers or articles.'}\n",
      "6 {'makes_sense': True, 'block_type': 'Author Names', 'description': 'This text block lists the names of the authors of a document.'}\n",
      "7 {'makes_sense': False, 'block_type': 'UncategorizedText', 'description': 'The text block does not form a coherent or understandable sentence or phrase. It appears to be a mix of affiliations and an email address, but it is not clear or complete enough to classify accurately.'}\n",
      "8 {'makes_sense': True, 'block_type': 'Title', 'description': \"The text 'Abstract' is a sectional heading commonly used in academic and research documents to introduce a summary of the content.\"}\n",
      "9 {'makes_sense': True, 'block_type': 'NarrativeText', 'description': 'This text block discusses the capabilities and limitations of large pre-trained language models, particularly in the context of knowledge-intensive tasks. It introduces Retrieval-Augmented Generation (RAG) models, which combine parametric and non-parametric memory for language generation, and compares their performance to other models on various NLP tasks.'}\n",
      "10 {'makes_sense': True, 'block_type': 'Title', 'description': 'This text block is a sectional heading, specifically the introduction section of a document.'}\n",
      "11 {'makes_sense': True, 'block_type': 'NarrativeText', 'description': 'The text discusses the capabilities and limitations of pre-trained neural language models, highlighting the benefits of hybrid models that combine parametric and non-parametric memories. It mentions specific models like REALM and ORQA as examples of such hybrid approaches.'}\n",
      "13 {'makes_sense': True, 'block_type': 'FigureCaption', 'description': 'This text block is a caption for Figure 1, describing an overview of the approach combining a pre-trained retriever with a pre-trained seq2seq model, and the process of fine-tuning end-to-end.'}\n",
      "14 {'makes_sense': True, 'block_type': 'NarrativeText', 'description': 'The text discusses the exploration of open-domain extractive question answering and introduces the concept of hybrid parametric and non-parametric memory in sequence-to-sequence models.'}\n",
      "15 {'makes_sense': True, 'block_type': 'NarrativeText', 'description': 'The text describes a method for enhancing pre-trained generation models with non-parametric memory using a fine-tuning approach called retrieval-augmented generation (RAG). It explains the components involved, such as a seq2seq transformer and a dense vector index of Wikipedia, and how they are combined in a probabilistic model trained end-to-end.'}\n",
      "16 {'makes_sense': True, 'block_type': 'NarrativeText', 'description': 'The text discusses the use of pre-trained parametric and non-parametric memory components in systems, contrasting it with previous work that trained such components from scratch for specific tasks.'}\n",
      "17 {'makes_sense': True, 'block_type': 'NarrativeText', 'description': \"This text block discusses the benefits of combining parametric and non-parametric memory for knowledge-intensive tasks, highlights the performance of RAG models on various datasets, and mentions the ability to update the models' knowledge as the world changes.\"}\n",
      "18 {'properties': {'makes_sense': {'title': 'Makes Sense', 'description': 'Indicates whether the text is coherent and understandable.', 'default': False, 'type': 'boolean'}, 'block_type': {'title': 'Block Type', 'description': \"Specifies the category of the text block, such as 'Title', 'Author Names', 'Bibliography', etc.\", 'default': '', 'type': 'string'}, 'description': {'title': 'Description', 'description': \"Provides a concise summary or explanation of the text block's content.\", 'default': '', 'type': 'string'}}, 'makes_sense': True, 'block_type': 'Title', 'description': 'This text block is a sectional heading indicating the methods section of a document.'}\n",
      "19 {'makes_sense': True, 'block_type': 'NarrativeText', 'description': 'The text discusses RAG models, explaining their components: a retriever and a generator, and how they work together to generate target sequences using retrieved text documents as context.'}\n",
      "20 {'makes_sense': True, 'block_type': 'NarrativeText', 'description': 'The text provides information about the availability of code and an interactive demo for running experiments with RAG, part of the HuggingFace Transformers Library.'}\n",
      "21 {'makes_sense': False, 'block_type': 'UncategorizedText', 'description': \"The text '2' does not provide enough context or information to be classified into any specific category.\"}\n",
      "22 {'makes_sense': True, 'block_type': 'UncategorizedText', 'description': 'The text appears to be a fragment of a technical or academic discussion, possibly related to machine learning or natural language processing, but it lacks sufficient context to be fully understood.'}\n",
      "23 {'makes_sense': True, 'block_type': 'NarrativeText', 'description': 'The text discusses two models, RAG-Sequence and RAG-Token, for training a retriever and generator end-to-end by treating the retrieved document as a latent variable. It explains how these models marginalize over latent documents to produce a distribution over generated text and mentions the training and decoding procedure.'}\n",
      "24 {'makes_sense': True, 'block_type': 'Title', 'description': \"This text block is a sectional heading, indicating the start of a new section in a document, specifically section 2.1 titled 'Models'.\"}\n",
      "25 {'makes_sense': True, 'block_type': 'NarrativeText', 'description': 'The text describes the RAG-Sequence model, explaining how it uses retrieved documents to generate sequences and the process of marginalizing the sequence probability.'}\n",
      "26 {'makes_sense': False, 'block_type': 'UncategorizedText', 'description': 'The text block does not make sense and does not fit into any of the specified categories.'}\n",
      "27 {'makes_sense': True, 'block_type': 'NarrativeText', 'description': 'The text describes the RAG-Token model, explaining how it retrieves and marginalizes documents to generate answers.'}\n",
      "28 {'makes_sense': False, 'block_type': 'UncategorizedText', 'description': 'The text block does not make sense and does not fit into any of the specified categories.'}\n",
      "29 {'properties': {'makes_sense': {'title': 'Makes Sense', 'description': 'Indicates whether the text is coherent and understandable.', 'default': False, 'type': 'boolean'}, 'block_type': {'title': 'Block Type', 'description': \"Specifies the category of the text block, such as 'Title', 'Author Names', 'Bibliography', etc.\", 'default': '', 'type': 'string'}, 'description': {'title': 'Description', 'description': \"Provides a concise summary or explanation of the text block's content.\", 'default': '', 'type': 'string'}}}\n",
      "1 Failed\n",
      "30 {'makes_sense': True, 'block_type': 'Title', 'description': \"The text '2.2 Retriever: DPR' appears to be a sectional heading, likely indicating a specific part or subsection of a document.\"}\n",
      "31 {'makes_sense': True, 'block_type': 'NarrativeText', 'description': 'The text describes the retrieval component pη(z|x) based on DPR, which follows a bi-encoder architecture.'}\n",
      "32 {'makes_sense': False, 'block_type': 'UncategorizedText', 'description': 'The text block does not make sense and does not fit into any of the specified categories.'}\n",
      "33 {'makes_sense': True, 'block_type': 'UncategorizedText', 'description': 'The text appears to be a formula or notation involving BERT, but it lacks context to be fully understood.'}\n",
      "34 {'makes_sense': True, 'block_type': 'NarrativeText', 'description': 'This text block discusses the use of BERT-based encoders for document and query representation, the Maximum Inner Product Search (MIPS) problem, and the initialization of a retriever using a pre-trained bi-encoder from DPR for document retrieval in the context of TriviaQA and Natural Questions.'}\n",
      "35 {'makes_sense': True, 'block_type': 'Title', 'description': \"The text '2.3 Generator: BART' appears to be a sectional heading, likely indicating a specific part or subsection of a document.\"}\n",
      "36 {'makes_sense': True, 'block_type': 'NarrativeText', 'description': \"This text block discusses the use of the BART-large model, a pre-trained seq2seq transformer, for generating text. It explains how the input and retrieved content are combined and highlights the model's pre-training and performance.\"}\n",
      "37 {'makes_sense': True, 'block_type': 'Title', 'description': 'This text block is a sectional heading, indicating a specific part of a document related to training.'}\n",
      "38 {'makes_sense': True, 'block_type': 'NarrativeText', 'description': 'The text discusses the joint training of retriever and generator components without direct supervision on document retrieval, within the context of a fine-tuning training corpus of input/output pairs.'}\n",
      "39 {'properties': {'makes_sense': {'title': 'Makes Sense', 'description': 'Indicates whether the text is coherent and understandable.', 'default': False, 'type': 'boolean'}, 'block_type': {'title': 'Block Type', 'description': \"Specifies the category of the text block, such as 'Title', 'Author Names', 'Bibliography', etc.\", 'default': '', 'type': 'string'}, 'description': {'title': 'Description', 'description': \"Provides a concise summary or explanation of the text block's content.\", 'default': '', 'type': 'string'}}}\n",
      "1 Failed\n",
      "40 {'makes_sense': True, 'block_type': 'NarrativeText', 'description': 'The text discusses the process of minimizing the negative marginal log-likelihood using stochastic gradient descent with Adam, and the decision to keep the document encoder fixed while fine-tuning the query encoder and generator.'}\n",
      "41 {'makes_sense': True, 'block_type': 'Title', 'description': 'This text block is a sectional heading, likely indicating a subsection within a larger document, specifically related to the topic of decoding.'}\n",
      "42 {'makes_sense': True, 'block_type': 'UncategorizedText', 'description': 'The text discusses the requirements for approximating arg maxy p(y|x) at test time for RAG-Sequence and RAG-Token, but it is too brief to be considered a narrative text block.'}\n",
      "43 {'makes_sense': False, 'block_type': 'UncategorizedText', 'description': 'The text block contains technical jargon and mathematical notation that is not self-explanatory or coherent without additional context.'}\n",
      "44 {'makes_sense': True, 'block_type': 'NarrativeText', 'description': 'The text block discusses the RAG-Sequence decoding procedures, including Thorough Decoding and Fast Decoding, for generating hypotheses and estimating probabilities in a machine learning context.'}\n",
      "45 {'makes_sense': True, 'block_type': 'Title', 'description': \"The text '3 Experiments' serves as a heading or title for a section likely detailing three different experiments.\"}\n",
      "46 {'makes_sense': True, 'block_type': 'NarrativeText', 'description': 'The text describes an experimental setup for using RAG in knowledge-intensive tasks, detailing the use of a Wikipedia dump, document encoding, and retrieval process.'}\n",
      "47 {'makes_sense': True, 'block_type': 'Title', 'description': 'This text block is a sectional heading indicating a specific part of a document related to open-domain question answering.'}\n",
      "48 {'makes_sense': True, 'block_type': 'NarrativeText', 'description': 'The text discusses the methodology and comparison of different approaches in open-domain question answering (QA), including RAG, extractive QA, and Closed-Book QA. It also mentions the datasets used for evaluation and the metrics reported.'}\n",
      "49 {'properties': {'makes_sense': True, 'block_type': 'Title', 'description': \"This text block is a section heading, specifically for a subsection on 'Abstractive Question Answering'.\"}}\n",
      "1 Failed\n",
      "50 {'makes_sense': True, 'block_type': 'NarrativeText', 'description': 'The text discusses the capabilities of RAG models in generating free-form, abstractive answers in a knowledge-intensive setting, specifically using the MSMARCO NLG task v2.1.'}\n",
      "51 {'makes_sense': True, 'block_type': 'Title', 'description': \"The text '4' could represent a section or chapter number in a document.\"}\n",
      "52 {'makes_sense': True, 'block_type': 'NarrativeText', 'description': 'The text discusses the challenges of using MSMARCO for open-domain abstractive QA tasks, noting that some questions require gold passages or cannot be answered using Wikipedia alone. It also mentions the use of RAG for generating reasonable responses based on parametric knowledge.'}\n",
      "53 {'makes_sense': True, 'block_type': 'Title', 'description': \"The text 'Jeopardy Question Generation' serves as a main or sectional heading, indicating the topic or focus of a document or section.\"}\n",
      "54 {'makes_sense': True, 'block_type': 'NarrativeText', 'description': 'The text discusses the evaluation of RAG’s generation abilities in a non-QA setting by proposing the task of generating Jeopardy questions, which are precise, factual statements conditioned on their answer entities.'}\n",
      "55 {'makes_sense': True, 'block_type': 'NarrativeText', 'description': 'The text describes the methodology and evaluation metrics used in a research study involving a BART model and RAG for question generation. It includes details about the dataset, evaluation metrics, and human evaluation criteria.'}\n",
      "56 {'makes_sense': True, 'block_type': 'Title', 'description': 'This text block is a sectional heading, indicating a specific part of a document related to fact verification.'}\n",
      "57 {'makes_sense': True, 'block_type': 'NarrativeText', 'description': 'The text discusses the FEVER task, which involves classifying natural language claims based on evidence from Wikipedia. It explains the process of retrieving evidence, reasoning over it, and classifying claims as supported, refuted, or unverifiable. The text also mentions the use of RAG models for this task and the importance of not relying on retrieval supervision.'}\n",
      "58 {'makes_sense': True, 'block_type': 'Title', 'description': \"The text '4 Results' is a heading that likely introduces a section of a document where results are discussed.\"}\n",
      "59 {'makes_sense': True, 'block_type': 'Title', 'description': 'This text block is a section heading indicating a specific part of a document related to open-domain question answering.'}\n",
      "60 {'makes_sense': True, 'block_type': 'NarrativeText', 'description': \"The text discusses the performance of the RAG model in comparison to other state-of-the-art models on open-domain QA tasks. It highlights RAG's advantages, such as not requiring expensive pre-training and not needing a re-ranker or extractive reader for state-of-the-art performance.\"}\n",
      "61 {'makes_sense': True, 'block_type': 'NarrativeText', 'description': 'The text discusses the advantages of generating answers over extracting them, particularly in cases where documents contain clues but not the exact answer verbatim.'}\n",
      "62 {'makes_sense': False, 'block_type': 'UncategorizedText', 'description': \"The text '5' does not provide enough context or information to be classified into any specific category.\"}\n",
      "63 {'makes_sense': True, 'block_type': 'FigureCaption', 'description': 'The text block provides descriptions and details for two tables: Table 1, which shows Open-Domain QA Test Scores, and Table 2, which shows Generation and Classification Test Scores. It also references specific test sets and models used in the evaluations.'}\n",
      "64 {'makes_sense': True, 'block_type': 'Title', 'description': \"The text 'Model' serves as a heading or title, likely indicating a section or part of a document related to a model or modeling.\"}\n",
      "65 {'makes_sense': False, 'block_type': 'UncategorizedText', 'description': \"The text 'NQ' does not provide enough context or information to be classified into any specific category.\"}\n",
      "66 {'makes_sense': False, 'block_type': 'UncategorizedText', 'description': \"The text 'TQA WQ CT' does not make sense by itself and does not fit into any of the specified categories.\"}\n",
      "68 {'makes_sense': False, 'block_type': 'UncategorizedText', 'description': 'The text block does not provide a clear or coherent meaning and does not fit into any of the specified categories.'}\n",
      "69 {'makes_sense': False, 'block_type': 'UncategorizedText', 'description': \"The text '92.2*' does not provide enough context or information to be classified into any specific category.\"}\n",
      "70 {'makes_sense': True, 'block_type': 'NarrativeText', 'description': 'The text discusses the effectiveness of RAG in generating correct answers even when the correct answer is not in any retrieved document, highlighting its performance in comparison to an extractive model for NQ.'}\n",
      "71 {'makes_sense': True, 'block_type': 'Title', 'description': 'This text block is a sectional heading indicating a specific part of a document, likely related to a subsection on Abstractive Question Answering.'}\n",
      "72 {'makes_sense': True, 'block_type': 'NarrativeText', 'description': 'This text block discusses the performance of the RAG-Sequence model compared to the BART model on the Open MS-MARCO NLG dataset. It highlights the superior performance of RAG-Sequence in terms of Bleu and Rouge-L points, and mentions qualitative findings regarding the factual correctness and diversity of generated answers.'}\n",
      "73 {'makes_sense': True, 'block_type': 'Title', 'description': \"The text 'Jeopardy Question Generation' serves as a main or sectional heading, indicating the topic or focus of the content that follows.\"}\n",
      "74 {'properties': {'makes_sense': True, 'block_type': 'NarrativeText', 'description': 'The text discusses the performance comparison of different models (RAG-Token, RAG-Sequence, and BART) on Jeopardy question generation, including human evaluation results and specific findings on factuality and specificity.'}}\n",
      "1 Failed\n",
      "75 {'makes_sense': True, 'block_type': 'NarrativeText', 'description': \"The text discusses the performance of the RAG-Token model in generating responses by combining content from several documents. It provides an example involving the titles 'The Sun Also Rises' and 'A Farewell to Arms' to illustrate how the model's parametric and non-parametric memories work together.\"}\n",
      "76 {'makes_sense': True, 'block_type': 'Title', 'description': 'This text block is a sectional heading indicating a specific part of a document, likely related to the verification of facts.'}\n",
      "77 {'makes_sense': True, 'block_type': 'FigureCaption', 'description': 'This text block describes the results shown in Table 2, comparing RAG scores to state-of-the-art models in a 3-way classification task on FEVER.'}\n",
      "78 {'makes_sense': True, 'block_type': 'Title', 'description': \"The text '6' could represent a section or chapter number in a document.\"}\n",
      "81 {'makes_sense': True, 'block_type': 'FigureCaption', 'description': \"This text is a caption for Figure 2, describing the RAG-Token document posterior for each generated token for the input 'Hemingway' in a Jeopardy generation context with 5 retrieved documents.\"}\n",
      "82 {'makes_sense': True, 'block_type': 'FigureCaption', 'description': 'This text block is a caption for Table 3, describing examples from generation tasks and the performance of RAG models in generating specific and factually accurate responses.'}\n",
      "84 {'makes_sense': True, 'block_type': 'NarrativeText', 'description': 'The text discusses the performance comparison of RAG and RoBERTa models in a 2-way classification task, including accuracy metrics and analysis of document retrieval in the FEVER dataset.'}\n",
      "85 {'makes_sense': True, 'block_type': 'Title', 'description': 'This text block is a sectional heading indicating additional results in a document.'}\n",
      "86 {'makes_sense': True, 'block_type': 'NarrativeText', 'description': 'The text discusses the diversity and factual accuracy of different models (RAG and BART) for generating Jeopardy questions, comparing their performance in terms of n-gram diversity.'}\n",
      "87 {'properties': {'makes_sense': True, 'block_type': 'NarrativeText', 'description': 'The text discusses the retrieval mechanism in RAG, mentioning an ablation study where the retriever is frozen during training and the results shown in Table 6.'}}\n",
      "1 Failed\n",
      "88 {'makes_sense': True, 'block_type': 'NarrativeText', 'description': 'The text discusses a comparison between RAG’s dense retriever and a BM25 retriever, highlighting the performance differences across various tasks, particularly noting the effectiveness of BM25 for FEVER and the advantages of differentiable retrieval for Open-Domain QA.'}\n",
      "89 {'makes_sense': True, 'block_type': 'NarrativeText', 'description': 'The text discusses the advantages of non-parametric memory models like RAG over parametric-only models like T5 or BART, particularly in the context of updating knowledge at test time. It also mentions an experiment comparing outputs from RAG using different indices from Wikipedia dumps of different years.'}\n",
      "90 {'makes_sense': False, 'block_type': 'UncategorizedText', 'description': \"The text '7' does not provide enough context or information to be classified into any specific category.\"}\n",
      "91 {'makes_sense': True, 'block_type': 'FigureCaption', 'description': 'This text block is a caption for a table that presents human assessments for the Jeopardy Question Generation Task.'}\n",
      "92 {'makes_sense': True, 'block_type': 'FigureCaption', 'description': 'This text is a caption for a table, specifically describing the ratio of distinct to total tri-grams for generation tasks.'}\n",
      "94 {'makes_sense': True, 'block_type': 'FigureCaption', 'description': 'This text block is a caption for a table, specifically Table 6, discussing ablations on the dev set in the context of a classification task related to FEVER and RAG models.'}\n",
      "96 {'makes_sense': True, 'block_type': 'Title', 'description': 'The text appears to be a title or heading, possibly for a section that discusses the accuracy of different FVR (Feature Vector Representation) models.'}\n",
      "97 {'makes_sense': True, 'block_type': 'NarrativeText', 'description': \"The text discusses the accuracy of the NQ RAG model in identifying world leaders from different years using specific indices, and highlights the impact of updating the model's non-parametric memory on its performance.\"}\n",
      "98 {'makes_sense': True, 'block_type': 'NarrativeText', 'description': 'The text discusses the impact of retrieving different numbers of latent documents on the performance of RAG-Sequence and RAG-Token models in Open-domain QA tasks, including performance metrics like Rouge-L and Bleu-1.'}\n",
      "100 {'makes_sense': True, 'block_type': 'FigureCaption', 'description': 'This text block is a caption for a figure that describes the performance metrics of NQ and MS-MARCO as more documents are retrieved.'}\n",
      "101 {'makes_sense': True, 'block_type': 'Title', 'description': 'This text block is a sectional heading, indicating the start of a section related to previous work or literature review.'}\n",
      "102 {'makes_sense': True, 'block_type': 'NarrativeText', 'description': 'The text discusses the benefits of retrieval in various NLP tasks and highlights the unification of these benefits into a single retrieval-based architecture capable of strong performance across multiple tasks.'}\n",
      "103 {'makes_sense': False, 'block_type': 'UncategorizedText', 'description': \"The text '8' does not provide enough context or information to be classified into any specific category.\"}\n",
      "104 {'makes_sense': True, 'block_type': 'NarrativeText', 'description': 'The text discusses the success of general-purpose architectures for NLP tasks, mentioning specific models like GPT-2, BART, and T5, and their performance on various tasks. It also introduces the idea of expanding task capabilities with a unified architecture that includes a retrieval module.'}\n",
      "105 {'makes_sense': True, 'block_type': 'NarrativeText', 'description': 'The text discusses various approaches to learning retrieval in information retrieval, particularly with pre-trained neural language models. It compares different optimization techniques and highlights the versatility of a single retrieval-based architecture for multiple tasks.'}\n",
      "106 {'makes_sense': True, 'block_type': 'NarrativeText', 'description': 'The text discusses memory-based architectures in neural networks, comparing different approaches to retrieving and utilizing text and embeddings for improving dialog models. It highlights the advantages of using raw text for memory, such as interpretability and dynamic updates.'}\n",
      "107 {'makes_sense': True, 'block_type': 'NarrativeText', 'description': 'The text discusses the similarities and differences between retrieve-and-edit approaches and the method being described. It mentions the success of these approaches in various domains and highlights the unique aspects of the method, such as aggregating content from multiple sources and learning latent retrieval.'}\n",
      "108 {'makes_sense': True, 'block_type': 'Title', 'description': 'This text block is a sectional heading, indicating the start of a discussion section in a document.'}\n",
      "109 {'makes_sense': True, 'block_type': 'NarrativeText', 'description': 'This text block discusses the presentation and evaluation of hybrid generation models with parametric and non-parametric memory, specifically focusing on RAG models and their performance in open-domain QA. It also explores the effectiveness of the retrieval component and suggests future research directions.'}\n",
      "110 {'makes_sense': True, 'block_type': 'UncategorizedText', 'description': \"The text block contains a single digit '9', which does not provide enough context to classify it into any specific category.\"}\n",
      "111 {'makes_sense': True, 'block_type': 'Title', 'description': \"The text 'Broader Impact' serves as a sectional heading, likely introducing a section that discusses the wider implications or effects of the subject matter.\"}\n",
      "112 {'makes_sense': True, 'block_type': 'NarrativeText', 'description': 'This text discusses the societal benefits of a work that is grounded in factual knowledge, specifically mentioning its potential applications in various scenarios such as medical indexing and job efficiency.'}\n",
      "113 {'makes_sense': True, 'block_type': 'NarrativeText', 'description': 'The text discusses the potential downsides of using external knowledge sources like Wikipedia and advanced language models like RAG. It highlights concerns about factual accuracy, bias, and the potential for misuse in generating misleading content, impersonation, and spam. It also mentions the possibility of job automation and suggests using AI systems to mitigate these risks.'}\n",
      "114 {'makes_sense': True, 'block_type': 'Title', 'description': \"The text 'Acknowledgments' is a sectional heading typically found in documents to denote a section where the author expresses gratitude to those who contributed to the work.\"}\n",
      "115 {'makes_sense': True, 'block_type': 'NarrativeText', 'description': 'Acknowledgements section where the authors thank reviewers, collaborators, and funding sources.'}\n",
      "116 {'makes_sense': True, 'block_type': 'Title', 'description': \"The text 'References' is a sectional heading typically used to denote the start of a bibliography or citation section in a document.\"}\n",
      "117 {'makes_sense': True, 'block_type': 'Bibliography', 'description': \"This text block is a bibliographic citation for a paper titled 'MS MARCO: A Human Generated MAchine Reading COmprehension Dataset' authored by multiple individuals and published on arXiv in November 2016.\"}\n",
      "118 {'makes_sense': True, 'block_type': 'Bibliography', 'description': 'This text block is a bibliographic citation for a conference paper by Petr Baudiš and Jan Šedivý, including the title, conference details, page numbers, publisher, year, and URL.'}\n",
      "119 {'makes_sense': True, 'block_type': 'Bibliography', 'description': 'This text block is a bibliographic citation for a paper presented at the 2013 Conference on Empirical Methods in Natural Language Processing.'}\n",
      "120 {'makes_sense': True, 'block_type': 'Bibliography', 'description': \"This text block is a bibliographic citation for a paper titled 'Palm: Pre-training an autoencoding&autoregressive language model for context-conditioned generation' by authors Bin Bi, Chenliang Li, Chen Wu, Ming Yan, and Wei Wang, published on ArXiv in 2020.\"}\n",
      "121 {'makes_sense': True, 'block_type': 'Bibliography', 'description': 'This text block is a bibliographic citation for a paper presented at the 55th Annual Meeting of the Association for Computational Linguistics.'}\n",
      "122 {'makes_sense': True, 'block_type': 'Bibliography', 'description': 'This text block is a bibliographic citation for a paper presented at the 55th Annual Meeting of the Association for Computational Linguistics. It includes the authors, title, publication venue, page numbers, location, date, publisher, DOI, and URL.'}\n",
      "123 {'makes_sense': False, 'block_type': 'UncategorizedText', 'description': \"The text '10' does not provide enough context or information to be classified into any specific category.\"}\n",
      "124 {'makes_sense': True, 'block_type': 'Bibliography', 'description': \"This text block is a bibliographic citation for a paper by Christopher Clark and Matt Gardner titled 'Simple and Effective Multi-Paragraph Reading Comprehension,' published on arXiv in October 2017.\"}\n",
      "125 {'makes_sense': True, 'block_type': 'Bibliography', 'description': \"This text block is a bibliographic citation for a paper titled 'BERT: Pre-training of Deep Bidirectional Transformers for Language Understanding' by Jacob Devlin, Ming-Wei Chang, Kenton Lee, and Kristina Toutanova, published in the Proceedings of the 2019 Conference of the North American Chapter of the Association for Computational Linguistics.\"}\n",
      "126 {'makes_sense': True, 'block_type': 'Bibliography', 'description': 'This text block is a bibliographic citation for a paper presented at the International Conference on Learning Representations in 2019, authored by Emily Dinan, Stephen Roller, Kurt Shuster, Angela Fan, Michael Auli, and Jason Weston.'}\n",
      "127 {'makes_sense': True, 'block_type': 'Bibliography', 'description': \"This text block is a bibliographic citation for a paper titled 'SearchQA: A New Q&A Dataset Augmented with Context from a Search Engine' authored by Matthew Dunn, Levent Sagun, Mike Higgins, V. Ugur Guney, Volkan Cirik, and Kyunghyun Cho, published on arXiv in April 2017.\"}\n",
      "128 {'makes_sense': True, 'block_type': 'Bibliography', 'description': \"This text block is a bibliographic citation for a paper titled 'Hierarchical neural story generation' by Angela Fan, Mike Lewis, and Yann Dauphin, published in the Proceedings of the 56th Annual Meeting of the Association for Computational Linguistics in July 2018.\"}\n",
      "129 {'makes_sense': True, 'block_type': 'Bibliography', 'description': \"This text block is a bibliographic citation for a paper titled 'ELI5: Long form question answering' presented at the 57th Annual Meeting of the Association for Computational Linguistics in 2019.\"}\n",
      "130 {'makes_sense': True, 'block_type': 'Bibliography', 'description': \"This text block is a bibliographic citation of a paper, including the authors' names, title of the work, year of publication, and a URL for accessing the paper.\"}\n",
      "131 {'makes_sense': True, 'block_type': 'Bibliography', 'description': 'This text block is a bibliographic citation of an academic paper, including the authors, title, publication source, and URL.'}\n",
      "132 {'makes_sense': True, 'block_type': 'Bibliography', 'description': \"This text block is a bibliographic citation for a paper titled 'A knowledge-grounded neural conversation model' presented at the AAAI Conference on Artificial Intelligence in 2018.\"}\n",
      "133 {'makes_sense': True, 'block_type': 'Bibliography', 'description': \"This text block is a bibliographic citation for a paper titled 'When will AI exceed human performance? evidence from AI experts' by Katja Grace, John Salvatier, Allan Dafoe, Baobao Zhang, and Owain Evans, published in 2017.\"}\n",
      "134 {'makes_sense': True, 'block_type': 'Bibliography', 'description': 'This text block is a citation from a bibliography section, referencing a paper presented at the AAAI Conference on Artificial Intelligence in 2018.'}\n",
      "135 {'makes_sense': True, 'block_type': 'Bibliography', 'description': 'This text block is a bibliographic citation for a conference paper presented at the 32nd AAAI Conference on Artificial Intelligence in 2018.'}\n",
      "136 {'properties': {'makes_sense': {'title': 'Makes Sense', 'description': 'Indicates whether the text is coherent and understandable.', 'default': False, 'type': 'boolean'}, 'block_type': {'title': 'Block Type', 'description': \"Specifies the category of the text block, such as 'Title', 'Author Names', 'Bibliography', etc.\", 'default': '', 'type': 'string'}, 'description': {'title': 'Description', 'description': \"Provides a concise summary or explanation of the text block's content.\", 'default': '', 'type': 'string'}}}\n",
      "1 Failed\n",
      "137 {'properties': {'makes_sense': {'title': 'Makes Sense', 'description': 'Indicates whether the text is coherent and understandable.', 'default': False, 'type': 'boolean'}, 'block_type': {'title': 'Block Type', 'description': \"Specifies the category of the text block, such as 'Title', 'Author Names', 'Bibliography', etc.\", 'default': '', 'type': 'string'}, 'description': {'title': 'Description', 'description': \"Provides a concise summary or explanation of the text block's content.\", 'default': '', 'type': 'string'}}, 'makes_sense': False, 'block_type': 'UncategorizedText', 'description': \"The text '11' does not provide enough context or information to be classified into any specific category.\"}\n",
      "138 {'makes_sense': True, 'block_type': 'Bibliography', 'description': \"This text block is a bibliographic citation for a paper titled 'REALM: Retrieval-augmented language model pre-training' authored by Kelvin Guu, Kenton Lee, Zora Tung, Panupong Pasupat, and Ming-Wei Chang, published on ArXiv in 2020.\"}\n",
      "139 {'makes_sense': True, 'block_type': 'Bibliography', 'description': \"This text block is a citation from a bibliography section, referencing a paper titled 'A Retrieve-and-Edit Framework for Predicting Structured Outputs' published in Advances by Curran Associates.\"}\n",
      "140 {'makes_sense': True, 'block_type': 'Bibliography', 'description': 'This text block is a bibliographic citation for a paper presented at the 58th Annual Meeting of the Association for Computational Linguistics.'}\n",
      "141 {'makes_sense': True, 'block_type': 'Bibliography', 'description': \"This text block is a bibliographic citation for a paper titled 'Billion-scale similarity search with gpus' by Jeff Johnson, Matthijs Douze, and Hervé Jégou, published as an arXiv preprint in 2017.\"}\n",
      "142 {'makes_sense': True, 'block_type': 'Bibliography', 'description': \"This text block is a bibliographic citation for a paper titled 'TriviaQA: A Large Scale Distantly Supervised Challenge Dataset for Reading Comprehension' by Mandar Joshi, Eunsol Choi, Daniel Weld, and Luke Zettlemoyer, published in the Proceedings of the 55th Annual Meeting of the Association for Computational Linguistics.\"}\n",
      "143 {'makes_sense': True, 'block_type': 'Bibliography', 'description': 'This text block is a citation from a bibliography section, referencing a paper presented at the 28th International Conference on Neural Information Processing Systems in 2015.'}\n",
      "144 {'properties': {'makes_sense': True, 'block_type': 'Bibliography', 'description': 'This text block is a citation entry from a bibliography section, referencing a paper on dense passage retrieval for open-domain question answering.'}}\n",
      "1 Failed\n",
      "145 {'makes_sense': True, 'block_type': 'Bibliography', 'description': 'This text block is a bibliographic citation for a paper presented at the International Conference on Learning Representations in 2020, authored by Urvashi Khandelwal, Omer Levy, Dan Jurafsky, Luke Zettlemoyer, and Mike Lewis.'}\n",
      "146 {'properties': {'makes_sense': True, 'block_type': 'Bibliography', 'description': 'This text block is a bibliographic citation for a paper by Diederik P. Kingma and Jimmy Ba on a method for stochastic optimization, presented at the 3rd International Conference on Learning Representations (ICLR) in 2015.'}}\n",
      "1 Failed\n",
      "147 {'makes_sense': True, 'block_type': 'Bibliography', 'description': \"This text block is a bibliographic citation for a research paper titled 'Natural Questions: a Benchmark for Question Answering Research' authored by multiple individuals and published by the Association of Computational Linguistics in 2019.\"}\n",
      "148 {'makes_sense': True, 'block_type': 'Bibliography', 'description': \"This text block is a bibliographic citation for a paper titled 'Large memory layers with product keys' authored by Guillaume Lample, Alexandre Sablayrolles, Marc’ Aurelio Ranzato, Ludovic Denoyer, and Herve Jegou, published in Advances in Neural Information Processing Systems 32 in 2019.\"}\n",
      "149 {'makes_sense': True, 'block_type': 'Bibliography', 'description': 'This text block is a citation from the bibliography section, referencing a work by Kenton Lee, Ming-Wei Chang, and Kristina Toutanova presented at the 57th Annual Meeting of the Association.'}\n",
      "150 {'makes_sense': False, 'block_type': 'UncategorizedText', 'description': \"The text '12' does not provide enough context or information to be classified into any specific category.\"}\n",
      "151 {'makes_sense': True, 'block_type': 'Bibliography', 'description': 'This text block is a citation from the bibliography section, providing details about a publication including the title, page numbers, location, date, publisher, DOI, and URL.'}\n",
      "152 {'makes_sense': True, 'block_type': 'Bibliography', 'description': 'This text block is a bibliographic citation for a research paper on BART, a denoising sequence-to-sequence pre-training model for natural language generation, translation, and comprehension.'}\n",
      "153 {'makes_sense': True, 'block_type': 'Bibliography', 'description': 'This text block is a bibliographic citation for a paper presented at the 2016 Conference of the North American Chapter of the Association for Computational Linguistics: Human Language Technologies.'}\n",
      "154 {'makes_sense': True, 'block_type': 'Bibliography', 'description': \"This text block is a bibliographic citation of a paper titled 'Acute-eval: Improved dialogue evaluation with optimized questions and multi-turn comparisons' by Margaret Li, Jason Weston, and Stephen Roller, published on ArXiv in 2019.\"}\n",
      "155 {'makes_sense': True, 'block_type': 'Bibliography', 'description': 'This text block is a bibliographic citation for a paper presented at the 57th Annual Meeting of the Association for Computational Linguistics, including details such as authors, title, conference, location, date, publisher, DOI, and URL.'}\n",
      "156 {'makes_sense': True, 'block_type': 'Bibliography', 'description': 'This text block is a citation from a bibliography section, listing authors, title, conference, year, and URL.'}\n",
      "157 {'makes_sense': True, 'block_type': 'Bibliography', 'description': 'This text block is a citation from the bibliography section, referencing a paper by Yury A. Malkov and D. A. Yashunin on approximate nearest neighbor search using hierarchical navigable small world graphs.'}\n",
      "158 {'makes_sense': True, 'block_type': 'Bibliography', 'description': 'This text block is a citation entry from a bibliography section, referencing a work by Gary Marcus on artificial intelligence.'}\n",
      "159 {'makes_sense': True, 'block_type': 'Bibliography', 'description': 'This text block is a bibliographic citation of a paper, listing the authors, title, and publication details.'}\n",
      "160 {'makes_sense': True, 'block_type': 'Bibliography', 'description': 'This text block is a citation from a bibliography section, listing authors, title, conference, year, and URL.'}\n",
      "161 {'makes_sense': True, 'block_type': 'Bibliography', 'description': 'This text block is a bibliographic citation for a paper presented at the 2018 Conference on Empirical Methods in Natural Language Processing.'}\n",
      "162 {'makes_sense': True, 'block_type': 'Bibliography', 'description': 'This text block is a bibliographic citation for a paper presented at the 2018 Conference on Empirical Methods in Natural Language Processing, including details such as authors, title, conference, location, date, publisher, DOI, and URL.'}\n",
      "163 {'makes_sense': True, 'block_type': 'Bibliography', 'description': 'This text block is a citation from the bibliography section, listing authors and the title of a work along with publication details.'}\n",
      "164 {'makes_sense': False, 'block_type': 'UncategorizedText', 'description': \"The text '13' does not provide enough context or information to be classified into any specific category.\"}\n",
      "165 {'makes_sense': True, 'block_type': 'Bibliography', 'description': 'This text block is a bibliographic citation for a workshop proceeding associated with the 30th Annual Conference on Neural Information Processing Systems (NIPS 2016). It includes details such as the event location, date, volume number, and a URL to the paper.'}\n",
      "166 {'makes_sense': True, 'block_type': 'Bibliography', 'description': 'This text block is a citation entry from a bibliography, referencing a preprint article on passage re-ranking with BERT by Rodrigo Nogueira and Kyunghyun Cho.'}\n",
      "167 {'makes_sense': True, 'block_type': 'Bibliography', 'description': 'This text block is a bibliographic citation for a paper presented at the 2019 Conference of the North American Chapter of the Association for Computational Linguistics.'}\n",
      "168 {'makes_sense': True, 'block_type': 'Bibliography', 'description': 'This text block is a bibliographic citation for a paper presented at the 2019 Conference on Empirical Methods in Natural Language Processing and the 9th International Joint Conference on Natural Language Processing. It includes the authors, title, conference details, page numbers, location, publisher, DOI, and URL.'}\n",
      "169 {'makes_sense': True, 'block_type': 'Bibliography', 'description': 'This text block is a bibliographic citation for a paper presented at the 2019 Conference on Empirical Methods in Natural Language Processing and the 9th International Joint Conference on Natural Language Processing (EMNLP-IJCNLP). It includes the authors, title, conference details, page numbers, location, publisher, DOI, and URL.'}\n",
      "170 {'makes_sense': True, 'block_type': 'Bibliography', 'description': \"This text block is a bibliographic citation of a paper presented at the Automated Knowledge Base Construction conference in 2020, including the authors' names, title of the paper, and a URL to the paper.\"}\n",
      "171 {'makes_sense': True, 'block_type': 'Bibliography', 'description': \"This text block is a bibliographic citation for a paper by Alec Radford, Karthik Narasimhan, Tim Salimans, and Ilya Sutskever titled 'proving Language Understanding by Generative Pre-Training' published in 2018, with a URL link to the paper.\"}\n",
      "172 {'makes_sense': True, 'block_type': 'Bibliography', 'description': 'This text block is a citation entry, listing an author and a URL to a document, which is typical of a bibliography section.'}\n",
      "173 {'makes_sense': True, 'block_type': 'Bibliography', 'description': \"This text block is a bibliographic citation for a paper titled 'Exploring the limits of transfer learning with a unified text-to-text transformer' by Colin Raffel and co-authors, published on arXiv in 2019.\"}\n",
      "174 {'makes_sense': True, 'block_type': 'Bibliography', 'description': 'This text block is a bibliographic citation for a paper by Adam Roberts, Colin Raffel, and Noam Shazeer, including the title of the paper, the publication source (arXiv e-prints), the year (2020), and a URL to the paper.'}\n",
      "175 {'makes_sense': True, 'block_type': 'Bibliography', 'description': 'This text block is a bibliographic citation for a publication by Stephen Robertson and Hugo Zaragoza, detailing the probabilistic relevance framework and BM25.'}\n",
      "176 {'makes_sense': True, 'block_type': 'Bibliography', 'description': 'This text block is a citation from a bibliography section, listing authors, title, source, and publication year.'}\n",
      "177 {'makes_sense': True, 'block_type': 'Bibliography', 'description': \"This text block is a bibliographic citation for a paper titled 'End-to-end memory networks' authored by Sainbayar Sukhbaatar, Arthur Szlam, Jason Weston, and Rob Fergus, published in the Advances in Neural Information Processing Systems 28 in 2015.\"}\n",
      "178 {'makes_sense': False, 'block_type': 'UncategorizedText', 'description': \"The text '14' does not provide enough context or information to be classified into any specific category.\"}\n",
      "179 {'makes_sense': True, 'block_type': 'Bibliography', 'description': \"This text block is a bibliographic citation for a paper titled 'FEVER: a large-scale dataset for fact extraction and verification' by James Thorne, Andreas Vlachos, Christos Christodoulopoulos, and Arpit Mittal, published in the Proceedings of the 2018 Conference of the North American Chapter of the Association for Computational Linguistics: Human Language Technologies.\"}\n",
      "180 {'makes_sense': True, 'block_type': 'Bibliography', 'description': 'This text block is a bibliographic citation of a paper by James H. Thorne and Andreas Vlachos, including the title, publication source, and URL.'}\n",
      "181 {'makes_sense': True, 'block_type': 'Bibliography', 'description': \"This text block is a bibliographic citation for a paper titled 'Attention is all you need' by Ashish Vaswani et al., published in Advances in Neural Information Processing Systems 30 in 2017.\"}\n",
      "182 {'makes_sense': True, 'block_type': 'Bibliography', 'description': 'This text block is a bibliographic citation for a paper presented at the AAAI Conference on Artificial Intelligence in 2018, authored by Ashwin Vijayakumar, Michael Cogswell, Ramprasaath Selvaraju, Qing Sun, Stefan Lee, David Crandall, and Dhruv Batra.'}\n",
      "183 {'makes_sense': True, 'block_type': 'Bibliography', 'description': \"This text block is a bibliographic citation for a paper titled 'GLUE: A multi-task benchmark and analysis platform for natural language understanding' by Alex Wang, Amanpreet Singh, Julian Michael, Felix Hill, Omer Levy, and Samuel Bowman, published in the Proceedings of the 2018 EMNLP Workshop BlackboxNLP.\"}\n",
      "184 {'makes_sense': True, 'block_type': 'Bibliography', 'description': \"This text block is a bibliographic citation for a paper titled 'SuperGLUE: A Stickier Benchmark for General-Purpose Language Understanding Systems' authored by Alex Wang, Yada Pruksachatkun, Nikita Nangia, Amanpreet Singh, Julian Michael, Felix Hill, Omer Levy, and Samuel Bowman, published in Advances in Neural Information Processing Systems 32 in 2019.\"}\n",
      "185 {'makes_sense': True, 'block_type': 'Bibliography', 'description': 'This text block is a citation from a bibliography section, referencing a paper presented at the AAAI Conference on Artificial Intelligence in 2018.'}\n",
      "186 {'makes_sense': True, 'block_type': 'Bibliography', 'description': 'This text block is a citation entry from a bibliography section, listing authors, title, conference, year, and URL.'}\n",
      "187 {'properties': {'makes_sense': True, 'block_type': 'Bibliography', 'description': \"This text block is a bibliographic citation for a paper titled 'Memory networks' by Jason Weston, Sumit Chopra, and Antoine Bordes, presented at the 3rd International Conference on Learning Representations (ICLR) in 2015.\"}}\n",
      "1 Failed\n",
      "188 {'makes_sense': True, 'block_type': 'Bibliography', 'description': 'This text block is a bibliographic citation for a paper presented at the 2018 EMNLP Workshop SCAI, including details such as authors, title, publication venue, pages, location, date, publisher, DOI, and URL.'}\n",
      "189 {'makes_sense': False, 'block_type': 'UncategorizedText', 'description': \"The text '15' does not provide enough context or information to be classified into any specific category.\"}\n",
      "190 {'makes_sense': True, 'block_type': 'Bibliography', 'description': \"This text block is a bibliographic citation for a paper titled 'Huggingface’s transformers: State-of-the-art natural language processing' authored by multiple individuals and published on ArXiv in 2019.\"}\n",
      "191 {'makes_sense': True, 'block_type': 'Bibliography', 'description': 'This text block is a bibliographic citation for a paper by Shiyue Zhang and Mohit Bansal, presented at the 2019 Conference on Empirical Methods in Natural Language Processing and the 9th International Joint Conference on Natural Language Processing.'}\n",
      "192 {'makes_sense': True, 'block_type': 'Bibliography', 'description': 'This text block is a bibliographic citation of an academic paper, including the authors, title, publication venue, and URL.'}\n",
      "193 {'makes_sense': False, 'block_type': 'UncategorizedText', 'description': \"The text '16' does not provide enough context or information to be classified into any specific category.\"}\n",
      "194 {'makes_sense': True, 'block_type': 'Title', 'description': 'The text is a title for appendices related to Retrieval-Augmented Generation for Knowledge-Intensive NLP Tasks.'}\n",
      "195 {'properties': {'makes_sense': {'title': 'Makes Sense', 'description': 'Indicates whether the text is coherent and understandable.', 'default': False, 'type': 'boolean'}, 'block_type': {'title': 'Block Type', 'description': \"Specifies the category of the text block, such as 'Title', 'Author Names', 'Bibliography', etc.\", 'default': '', 'type': 'string'}, 'description': {'title': 'Description', 'description': \"Provides a concise summary or explanation of the text block's content.\", 'default': '', 'type': 'string'}}}\n",
      "1 Failed\n",
      "196 {'makes_sense': True, 'block_type': 'NarrativeText', 'description': 'The text block provides detailed information about the evaluation methodology for Open-domain QA, Open-MSMarco, and Jeopardy question generation using RAG-Token and RAG-Sequence models. It includes specifics on the number of retrieved documents, decoding approaches, and baseline models used.'}\n",
      "197 {'makes_sense': True, 'block_type': 'Title', 'description': \"The text 'B Human Evaluation' appears to be a title or heading, likely indicating a section or subsection of a document related to human evaluation.\"}\n",
      "199 {'properties': {'makes_sense': {'title': 'Makes Sense', 'description': 'Indicates whether the text is coherent and understandable.', 'default': True, 'type': 'boolean'}, 'block_type': {'title': 'Block Type', 'description': \"Specifies the category of the text block, such as 'Title', 'Author Names', 'Bibliography', etc.\", 'default': 'FigureCaption', 'type': 'string'}, 'description': {'title': 'Description', 'description': \"Provides a concise summary or explanation of the text block's content.\", 'default': 'A caption describing an annotation interface for human evaluation of factuality, including a pop-out for detailed instructions and a worked example.', 'type': 'string'}}}\n",
      "1 Failed\n",
      "200 {'makes_sense': True, 'block_type': 'NarrativeText', 'description': 'The text describes the user interface for human evaluation, including measures to avoid bias, instructions for annotators, and the removal of annotations from underperforming annotators.'}\n",
      "201 {'makes_sense': True, 'block_type': 'Title', 'description': \"The text 'C Training setup Details' appears to be a sectional heading or title, likely indicating a section of a document that provides details about the training setup.\"}\n",
      "202 {'makes_sense': True, 'block_type': 'NarrativeText', 'description': 'The text describes the training setup and implementation details for RAG models and BART baselines, including the use of Fairseq, mixed precision floating point arithmetic, and FAISS for document indexing. It also mentions the porting of the code to HuggingFace Transformers and provides links to scripts and an interactive demo.'}\n",
      "203 {'properties': {'makes_sense': {'title': 'Makes Sense', 'description': 'Indicates whether the text is coherent and understandable.', 'default': False, 'type': 'boolean'}, 'block_type': {'title': 'Block Type', 'description': \"Specifies the category of the text block, such as 'Title', 'Author Names', 'Bibliography', etc.\", 'default': '', 'type': 'string'}, 'description': {'title': 'Description', 'description': \"Provides a concise summary or explanation of the text block's content.\", 'default': '', 'type': 'string'}}}\n",
      "1 Failed\n",
      "204 {'makes_sense': False, 'block_type': 'UncategorizedText', 'description': \"The text '17' does not provide enough context or information to be classified into any specific category.\"}\n",
      "205 {'makes_sense': True, 'block_type': 'Title', 'description': 'This text block serves as a sectional heading, likely for a subsection providing further details on open-domain question answering.'}\n",
      "206 {'makes_sense': True, 'block_type': 'NarrativeText', 'description': 'The text discusses the use of multiple answer annotations in open-domain QA models, specifically mentioning how different datasets like Natural Questions, WebQuestions, and TriviaQA are handled during training to improve accuracy.'}\n",
      "207 {'makes_sense': True, 'block_type': 'NarrativeText', 'description': 'The text describes a preprocessing method for the CuratedTrec dataset, where answers are given as regular expressions. It explains the steps taken to retrieve documents and generate answers that match the regex patterns.'}\n",
      "208 {'makes_sense': True, 'block_type': 'NarrativeText', 'description': 'The text discusses the evaluation setups for TriviaQA in the context of open-domain QA, comparing different test datasets and reporting results to enable fair comparison between approaches.'}\n",
      "209 {'makes_sense': True, 'block_type': 'Title', 'description': 'The text appears to be a title or heading for a section providing further details on FEVER.'}\n",
      "210 {'makes_sense': True, 'block_type': 'NarrativeText', 'description': 'The text discusses the methodology for FEVER classification, including the process of re-generating claims, classifying them, and marginalizing across documents. It also mentions the two sub-tasks of the FEVER task: classifying claims and extracting supporting evidence from Wikipedia.'}\n",
      "211 {'makes_sense': False, 'block_type': 'UncategorizedText', 'description': \"The text 'F Null Document Probabilities' does not make sense by itself and does not clearly fit into any of the specified categories.\"}\n",
      "212 {'makes_sense': True, 'block_type': 'NarrativeText', 'description': \"The text discusses an experiment with adding a 'Null document' mechanism to RAG, similar to REALM, to handle cases where no useful information is retrieved. It explains the methods explored for modeling the null document logit and concludes that these methods did not improve performance, thus they were omitted for simplicity. It also notes observations from the Open MS-MARCO dataset regarding the retrieval of documents.\"}\n",
      "213 {'makes_sense': True, 'block_type': 'Title', 'description': \"The text 'G Parameters' appears to be a heading or title, likely indicating a section or subsection in a document.\"}\n",
      "214 {'makes_sense': True, 'block_type': 'NarrativeText', 'description': 'The text describes the trainable parameters of RAG models, including the BERT-base query and document encoder of DPR and BART-large, totaling 626M trainable parameters.'}\n",
      "215 {'makes_sense': False, 'block_type': 'UncategorizedText', 'description': \"The text '18' does not provide enough context or information to be classified into any specific category.\"}\n",
      "216 {'makes_sense': True, 'block_type': 'FigureCaption', 'description': 'This text block is a caption for Table 7, indicating the number of instances in the datasets used and mentioning that a hidden subset of this data is used for evaluation.'}\n",
      "218 {'makes_sense': True, 'block_type': 'NarrativeText', 'description': 'This text block discusses the performance of different open-domain QA models, comparing the T5-11B model with 11 billion parameters to the T5-large model with 770 million parameters. It highlights the efficiency of hybrid parametric/non-parametric models, specifically mentioning the RAG-Sequence model and its performance. The text also details the non-parametric memory index and its storage requirements.'}\n",
      "219 {'makes_sense': False, 'block_type': 'UncategorizedText', 'description': \"The text 'H Retrieval Collapse' does not provide enough context or information to be classified into any specific category.\"}\n",
      "220 {'makes_sense': True, 'block_type': 'NarrativeText', 'description': \"The text discusses the behavior of a retrieval component in preliminary experiments, particularly its tendency to 'collapse' and retrieve the same documents regardless of input in certain tasks like story generation. It also mentions the impact of this collapse on the generator and the overall model performance, comparing it to BART. Additionally, it references a study by Perez et al. that found similar issues with spurious retrieval results.\"}\n",
      "221 {'makes_sense': True, 'block_type': 'Title', 'description': 'This text block serves as a sectional heading indicating the number of instances per dataset.'}\n",
      "222 {'makes_sense': True, 'block_type': 'FigureCaption', 'description': 'This text describes the contents of Table 7, which shows the number of training, development, and test datapoints in each dataset.'}\n",
      "223 {'makes_sense': False, 'block_type': 'UncategorizedText', 'description': \"The text '19' does not provide enough context or information to be classified into any specific category.\"}\n"
     ]
    }
   ],
   "execution_count": 7
  },
  {
   "cell_type": "markdown",
   "id": "3b5e3b8c0e509181",
   "metadata": {},
   "source": [
    "Muchos titulos no son encontrados, tal vez hay que preguntar si puede ser el titulo de la siguiente seccion o por que es una frase corta o una sola palabra\n",
    "\n",
    "categoriza como formula un bloque de texto que incluye o explica un fragmento de una formula"
   ]
  },
  {
   "cell_type": "code",
   "id": "9e1aaa99ed0300c9",
   "metadata": {
    "ExecuteTime": {
     "end_time": "2024-08-24T15:02:10.821129Z",
     "start_time": "2024-08-24T15:02:10.801200Z"
    }
   },
   "source": [
    "df_raw[['type', \"block_type\", 'text', \"description\", \"makes_sense\", 'languages', 'page_number', 'filename']]"
   ],
   "outputs": [
    {
     "data": {
      "text/plain": [
       "                  type         block_type  \\\n",
       "0    UncategorizedText  UncategorizedText   \n",
       "1               Header  UncategorizedText   \n",
       "2    UncategorizedText  UncategorizedText   \n",
       "3                Title              Title   \n",
       "4        NarrativeText       Author Names   \n",
       "..                 ...                ...   \n",
       "219              Title  UncategorizedText   \n",
       "220      NarrativeText      NarrativeText   \n",
       "221              Title              Title   \n",
       "222      NarrativeText      FigureCaption   \n",
       "223             Header  UncategorizedText   \n",
       "\n",
       "                                                  text  \\\n",
       "0                                              1 2 0 2   \n",
       "1                              r p A 2 1 ] L C . s c [   \n",
       "2                  4 v 1 0 4 1 1 . 5 0 0 2 : v i X r a   \n",
       "3    Retrieval-Augmented Generation for Knowledge-I...   \n",
       "4                       Patrick Lewis'?, Ethan Perez*,   \n",
       "..                                                 ...   \n",
       "219                               H Retrieval Collapse   \n",
       "220  In preliminary experiments, we observed that f...   \n",
       "221                  I Number of instances per dataset   \n",
       "222  The number of training, development and test d...   \n",
       "223                                                 19   \n",
       "\n",
       "                                           description makes_sense languages  \\\n",
       "0    The text block '1 2 0 2' does not provide cohe...       False   ['eng']   \n",
       "1    The text block does not form a coherent or und...       False   ['eng']   \n",
       "2    The text block does not make sense and does no...       False   ['eng']   \n",
       "3    The text is a title for a document or section,...        True   ['eng']   \n",
       "4    The text block lists the names of authors, spe...        True   ['eng']   \n",
       "..                                                 ...         ...       ...   \n",
       "219  The text 'H Retrieval Collapse' does not provi...       False   ['eng']   \n",
       "220  The text discusses the behavior of a retrieval...        True   ['eng']   \n",
       "221  This text block serves as a sectional heading ...        True   ['eng']   \n",
       "222  This text describes the contents of Table 7, w...        True   ['eng']   \n",
       "223  The text '19' does not provide enough context ...       False   ['eng']   \n",
       "\n",
       "     page_number                                           filename  \n",
       "0              1  Retrieval-Augmented Generation for Knowledge-I...  \n",
       "1              1  Retrieval-Augmented Generation for Knowledge-I...  \n",
       "2              1  Retrieval-Augmented Generation for Knowledge-I...  \n",
       "3              1  Retrieval-Augmented Generation for Knowledge-I...  \n",
       "4              1  Retrieval-Augmented Generation for Knowledge-I...  \n",
       "..           ...                                                ...  \n",
       "219           19  Retrieval-Augmented Generation for Knowledge-I...  \n",
       "220           19  Retrieval-Augmented Generation for Knowledge-I...  \n",
       "221           19  Retrieval-Augmented Generation for Knowledge-I...  \n",
       "222           19  Retrieval-Augmented Generation for Knowledge-I...  \n",
       "223           19  Retrieval-Augmented Generation for Knowledge-I...  \n",
       "\n",
       "[224 rows x 8 columns]"
      ],
      "text/html": [
       "<div>\n",
       "<style scoped>\n",
       "    .dataframe tbody tr th:only-of-type {\n",
       "        vertical-align: middle;\n",
       "    }\n",
       "\n",
       "    .dataframe tbody tr th {\n",
       "        vertical-align: top;\n",
       "    }\n",
       "\n",
       "    .dataframe thead th {\n",
       "        text-align: right;\n",
       "    }\n",
       "</style>\n",
       "<table border=\"1\" class=\"dataframe\">\n",
       "  <thead>\n",
       "    <tr style=\"text-align: right;\">\n",
       "      <th></th>\n",
       "      <th>type</th>\n",
       "      <th>block_type</th>\n",
       "      <th>text</th>\n",
       "      <th>description</th>\n",
       "      <th>makes_sense</th>\n",
       "      <th>languages</th>\n",
       "      <th>page_number</th>\n",
       "      <th>filename</th>\n",
       "    </tr>\n",
       "  </thead>\n",
       "  <tbody>\n",
       "    <tr>\n",
       "      <th>0</th>\n",
       "      <td>UncategorizedText</td>\n",
       "      <td>UncategorizedText</td>\n",
       "      <td>1 2 0 2</td>\n",
       "      <td>The text block '1 2 0 2' does not provide cohe...</td>\n",
       "      <td>False</td>\n",
       "      <td>['eng']</td>\n",
       "      <td>1</td>\n",
       "      <td>Retrieval-Augmented Generation for Knowledge-I...</td>\n",
       "    </tr>\n",
       "    <tr>\n",
       "      <th>1</th>\n",
       "      <td>Header</td>\n",
       "      <td>UncategorizedText</td>\n",
       "      <td>r p A 2 1 ] L C . s c [</td>\n",
       "      <td>The text block does not form a coherent or und...</td>\n",
       "      <td>False</td>\n",
       "      <td>['eng']</td>\n",
       "      <td>1</td>\n",
       "      <td>Retrieval-Augmented Generation for Knowledge-I...</td>\n",
       "    </tr>\n",
       "    <tr>\n",
       "      <th>2</th>\n",
       "      <td>UncategorizedText</td>\n",
       "      <td>UncategorizedText</td>\n",
       "      <td>4 v 1 0 4 1 1 . 5 0 0 2 : v i X r a</td>\n",
       "      <td>The text block does not make sense and does no...</td>\n",
       "      <td>False</td>\n",
       "      <td>['eng']</td>\n",
       "      <td>1</td>\n",
       "      <td>Retrieval-Augmented Generation for Knowledge-I...</td>\n",
       "    </tr>\n",
       "    <tr>\n",
       "      <th>3</th>\n",
       "      <td>Title</td>\n",
       "      <td>Title</td>\n",
       "      <td>Retrieval-Augmented Generation for Knowledge-I...</td>\n",
       "      <td>The text is a title for a document or section,...</td>\n",
       "      <td>True</td>\n",
       "      <td>['eng']</td>\n",
       "      <td>1</td>\n",
       "      <td>Retrieval-Augmented Generation for Knowledge-I...</td>\n",
       "    </tr>\n",
       "    <tr>\n",
       "      <th>4</th>\n",
       "      <td>NarrativeText</td>\n",
       "      <td>Author Names</td>\n",
       "      <td>Patrick Lewis'?, Ethan Perez*,</td>\n",
       "      <td>The text block lists the names of authors, spe...</td>\n",
       "      <td>True</td>\n",
       "      <td>['eng']</td>\n",
       "      <td>1</td>\n",
       "      <td>Retrieval-Augmented Generation for Knowledge-I...</td>\n",
       "    </tr>\n",
       "    <tr>\n",
       "      <th>...</th>\n",
       "      <td>...</td>\n",
       "      <td>...</td>\n",
       "      <td>...</td>\n",
       "      <td>...</td>\n",
       "      <td>...</td>\n",
       "      <td>...</td>\n",
       "      <td>...</td>\n",
       "      <td>...</td>\n",
       "    </tr>\n",
       "    <tr>\n",
       "      <th>219</th>\n",
       "      <td>Title</td>\n",
       "      <td>UncategorizedText</td>\n",
       "      <td>H Retrieval Collapse</td>\n",
       "      <td>The text 'H Retrieval Collapse' does not provi...</td>\n",
       "      <td>False</td>\n",
       "      <td>['eng']</td>\n",
       "      <td>19</td>\n",
       "      <td>Retrieval-Augmented Generation for Knowledge-I...</td>\n",
       "    </tr>\n",
       "    <tr>\n",
       "      <th>220</th>\n",
       "      <td>NarrativeText</td>\n",
       "      <td>NarrativeText</td>\n",
       "      <td>In preliminary experiments, we observed that f...</td>\n",
       "      <td>The text discusses the behavior of a retrieval...</td>\n",
       "      <td>True</td>\n",
       "      <td>['eng']</td>\n",
       "      <td>19</td>\n",
       "      <td>Retrieval-Augmented Generation for Knowledge-I...</td>\n",
       "    </tr>\n",
       "    <tr>\n",
       "      <th>221</th>\n",
       "      <td>Title</td>\n",
       "      <td>Title</td>\n",
       "      <td>I Number of instances per dataset</td>\n",
       "      <td>This text block serves as a sectional heading ...</td>\n",
       "      <td>True</td>\n",
       "      <td>['eng']</td>\n",
       "      <td>19</td>\n",
       "      <td>Retrieval-Augmented Generation for Knowledge-I...</td>\n",
       "    </tr>\n",
       "    <tr>\n",
       "      <th>222</th>\n",
       "      <td>NarrativeText</td>\n",
       "      <td>FigureCaption</td>\n",
       "      <td>The number of training, development and test d...</td>\n",
       "      <td>This text describes the contents of Table 7, w...</td>\n",
       "      <td>True</td>\n",
       "      <td>['eng']</td>\n",
       "      <td>19</td>\n",
       "      <td>Retrieval-Augmented Generation for Knowledge-I...</td>\n",
       "    </tr>\n",
       "    <tr>\n",
       "      <th>223</th>\n",
       "      <td>Header</td>\n",
       "      <td>UncategorizedText</td>\n",
       "      <td>19</td>\n",
       "      <td>The text '19' does not provide enough context ...</td>\n",
       "      <td>False</td>\n",
       "      <td>['eng']</td>\n",
       "      <td>19</td>\n",
       "      <td>Retrieval-Augmented Generation for Knowledge-I...</td>\n",
       "    </tr>\n",
       "  </tbody>\n",
       "</table>\n",
       "<p>224 rows × 8 columns</p>\n",
       "</div>"
      ]
     },
     "execution_count": 8,
     "metadata": {},
     "output_type": "execute_result"
    }
   ],
   "execution_count": 8
  },
  {
   "cell_type": "code",
   "id": "2f1362ed495c2f2a",
   "metadata": {
    "ExecuteTime": {
     "end_time": "2024-08-24T15:02:10.849041Z",
     "start_time": "2024-08-24T15:02:10.822137Z"
    }
   },
   "source": "df_raw.to_csv(os.path.join('./data/pre-procesamiento/', file_name + '.1_2_openia.csv'))",
   "outputs": [],
   "execution_count": 9
  },
  {
   "cell_type": "code",
   "execution_count": 15,
   "id": "bfe6e09d88df27cb",
   "metadata": {
    "ExecuteTime": {
     "end_time": "2024-08-22T07:45:35.129577Z",
     "start_time": "2024-08-22T07:45:35.121319Z"
    }
   },
   "outputs": [],
   "source": [
    "import ollama\n",
    "\n",
    "\n",
    "def describe_img(img_path):\n",
    "    query = \"Describe in comprehensive detail the contents of the image, focusing intensely on what it represents, its functions, and what it shows. Elaborate on the specific elements, their configurations, and how they contribute to the overall meaning or purpose of the image within the context of a scientific paper. Emphasize the significance of any notable features, colors, or patterns, explaining their relevance in understanding the figure. Ensure the description is thorough, avoiding personal references, and strictly maintain an objective tone by stating facts such as 'the image includes...' or 'the figure demonstrates...'\"\n",
    "\n",
    "    response = ollama.generate(\n",
    "        model='llava-llama3',\n",
    "        prompt=query,\n",
    "        images=[img_path]\n",
    "    )\n",
    "    return response['response']"
   ]
  },
  {
   "cell_type": "code",
   "execution_count": 18,
   "id": "5dc044f492009a26",
   "metadata": {
    "ExecuteTime": {
     "end_time": "2024-08-22T07:55:57.104459Z",
     "start_time": "2024-08-22T07:52:53.447623Z"
    }
   },
   "outputs": [
    {
     "name": "stdout",
     "output_type": "stream",
     "text": [
      "12 ./images/Retrieval-Augmented Generation for Knowledge-Intensive NLP Tasks.pdf/figure-2-1.jpg\n",
      "79 ./images/Retrieval-Augmented Generation for Knowledge-Intensive NLP Tasks.pdf/figure-7-2.jpg\n",
      "80 ./images/Retrieval-Augmented Generation for Knowledge-Intensive NLP Tasks.pdf/figure-7-3.jpg\n",
      "99 ./images/Retrieval-Augmented Generation for Knowledge-Intensive NLP Tasks.pdf/figure-8-4.jpg\n",
      "198 ./images/Retrieval-Augmented Generation for Knowledge-Intensive NLP Tasks.pdf/figure-17-5.jpg\n"
     ]
    }
   ],
   "source": [
    "df_raw[\"img_description\"] = None\n",
    "for i in range(len(df_raw)):\n",
    "    if df_raw.loc[i, 'type'] != 'Image':\n",
    "        continue\n",
    "    df_raw.loc[i, 'img_description'] = describe_img(df_raw.loc[i, 'image_path'])\n",
    "    print(i, df_raw.loc[i, 'image_path'])"
   ]
  },
  {
   "cell_type": "code",
   "execution_count": 20,
   "id": "d25b0c139053a3b7",
   "metadata": {
    "ExecuteTime": {
     "end_time": "2024-08-22T08:02:28.785993Z",
     "start_time": "2024-08-22T08:02:28.781762Z"
    }
   },
   "outputs": [
    {
     "name": "stdout",
     "output_type": "stream",
     "text": [
      "The image is a detailed illustration of the \"Flickr-End-to-End Speech-to-Text\" system, as described in a scientific paper. The system is depicted through a series of diagrams and charts, set against a white background.\n",
      "\n",
      "At the top, there's a diagram representing the encoder. It consists of three vertical rectangles, each with a different colored label: \"Query Encoder\", \"Memory Encoder\", and \"Recurrent Neural Network\". These labels indicate the various components that make up the encoder part of the system.\n",
      "\n",
      "Next to this diagram is a flowchart showing the flow of information through the system. The flowchart begins with an input box labeled \"query\", which represents the initial input to the system. From here, the information flows through three boxes: \"Query Encoder\", \"Memory Encoder\", and \"Recurrent Neural Network\". These boxes represent different stages of processing within the system.\n",
      "\n",
      "Finally, there's a chart that illustrates the perplexment score at each point in time during the decoding phase. The chart shows a series of lines representing different points in time, with a single point labeled \"Final Scores\". This chart provides a visual representation of how the perplexment score changes over time during the decoding process.\n",
      "\n",
      "Overall, the image serves as an educational tool for understanding the complex process of the Flickr-End-to-End Speech-to-Text system, providing a clear and detailed overview of its structure and function.\n"
     ]
    }
   ],
   "source": [
    "print(df_raw.loc[12, 'img_description'])"
   ]
  },
  {
   "cell_type": "code",
   "execution_count": 52,
   "id": "6d9899196262db21",
   "metadata": {
    "ExecuteTime": {
     "end_time": "2024-08-19T14:23:59.154632Z",
     "start_time": "2024-08-19T14:23:59.147239Z"
    }
   },
   "outputs": [],
   "source": [
    "def generate_markdown_tables(img_path):\n",
    "    query = \"\"\"\n",
    "    Transform the tables visible in the image into Markdown table format. \n",
    "    Do not include any descriptive text, only provide the tables in Markdown format.\n",
    "    \"\"\"\n",
    "\n",
    "    response = ollama.generate(\n",
    "        model='llava-llama3',\n",
    "        prompt=query,\n",
    "        images=[img_path]\n",
    "    )\n",
    "    return response['response']"
   ]
  },
  {
   "cell_type": "code",
   "execution_count": null,
   "id": "59d6e252a08aa0e",
   "metadata": {},
   "outputs": [],
   "source": [
    "from IPython.display import display, Markdown\n",
    "\n",
    "display(Markdown(generate_markdown_tables(\n",
    "    './images/Retrieval-Augmented Generation for Knowledge-Intensive NLP Tasks.pdf/table-6-1.jpg')))"
   ]
  },
  {
   "cell_type": "code",
   "execution_count": 21,
   "id": "cc4bbb793327d935",
   "metadata": {
    "ExecuteTime": {
     "end_time": "2024-08-22T09:18:54.225661Z",
     "start_time": "2024-08-22T09:18:54.221661Z"
    }
   },
   "outputs": [],
   "source": [
    "import base64\n",
    "\n",
    "\n",
    "def encode_image(image_path):\n",
    "    with open(image_path, \"rb\") as image_file:\n",
    "        encoded_string = base64.b64encode(image_file.read()).decode('utf-8')\n",
    "    return encoded_string\n",
    "\n",
    "# df_raw.loc[12, 'image_path']\n"
   ]
  },
  {
   "cell_type": "code",
   "execution_count": 27,
   "id": "ac94af13d9cd7757",
   "metadata": {
    "ExecuteTime": {
     "end_time": "2024-08-22T09:28:42.051310Z",
     "start_time": "2024-08-22T09:28:41.969466Z"
    }
   },
   "outputs": [
    {
     "ename": "ModuleNotFoundError",
     "evalue": "No module named 'langchain_community'",
     "output_type": "error",
     "traceback": [
      "\u001B[1;31m---------------------------------------------------------------------------\u001B[0m",
      "\u001B[1;31mModuleNotFoundError\u001B[0m                       Traceback (most recent call last)",
      "Cell \u001B[1;32mIn[27], line 2\u001B[0m\n\u001B[0;32m      1\u001B[0m \u001B[38;5;28;01mfrom\u001B[39;00m \u001B[38;5;21;01mlangchain\u001B[39;00m\u001B[38;5;21;01m.\u001B[39;00m\u001B[38;5;21;01mchains\u001B[39;00m \u001B[38;5;28;01mimport\u001B[39;00m LLMChain\n\u001B[1;32m----> 2\u001B[0m \u001B[38;5;28;01mfrom\u001B[39;00m \u001B[38;5;21;01mlangchain\u001B[39;00m\u001B[38;5;21;01m.\u001B[39;00m\u001B[38;5;21;01mllms\u001B[39;00m \u001B[38;5;28;01mimport\u001B[39;00m OpenAI\n\u001B[0;32m      3\u001B[0m \u001B[38;5;28;01mfrom\u001B[39;00m \u001B[38;5;21;01mlangchain\u001B[39;00m\u001B[38;5;21;01m.\u001B[39;00m\u001B[38;5;21;01mschema\u001B[39;00m \u001B[38;5;28;01mimport\u001B[39;00m Prompt\n\u001B[0;32m      4\u001B[0m \u001B[38;5;28;01mfrom\u001B[39;00m \u001B[38;5;21;01mlangchain\u001B[39;00m\u001B[38;5;21;01m.\u001B[39;00m\u001B[38;5;21;01mvision\u001B[39;00m \u001B[38;5;28;01mimport\u001B[39;00m LocalImageClassifier\n",
      "File \u001B[1;32mC:\\Agentes-RAG\\.venv\\Lib\\site-packages\\langchain\\llms\\__init__.py:545\u001B[0m, in \u001B[0;36m__getattr__\u001B[1;34m(name)\u001B[0m\n\u001B[0;32m    544\u001B[0m \u001B[38;5;28;01mdef\u001B[39;00m \u001B[38;5;21m__getattr__\u001B[39m(name: \u001B[38;5;28mstr\u001B[39m) \u001B[38;5;241m-\u001B[39m\u001B[38;5;241m>\u001B[39m Any:\n\u001B[1;32m--> 545\u001B[0m     \u001B[38;5;28;01mfrom\u001B[39;00m \u001B[38;5;21;01mlangchain_community\u001B[39;00m \u001B[38;5;28;01mimport\u001B[39;00m llms\n\u001B[0;32m    547\u001B[0m     \u001B[38;5;66;03m# If not in interactive env, raise warning.\u001B[39;00m\n\u001B[0;32m    548\u001B[0m     \u001B[38;5;28;01mif\u001B[39;00m \u001B[38;5;129;01mnot\u001B[39;00m is_interactive_env():\n",
      "\u001B[1;31mModuleNotFoundError\u001B[0m: No module named 'langchain_community'"
     ]
    }
   ],
   "source": [
    "from langchain.chains import LLMChain\n",
    "from langchain.llms import OpenAI\n",
    "from langchain.schema import Prompt\n",
    "from langchain.vision import LocalImageClassifier\n",
    "\n",
    "# Configure your API key for the language model\n",
    "\n",
    "llm = OpenAI()\n",
    "\n",
    "# Set up the local image classifier\n",
    "# This is a placeholder; you need to configure this according to your actual setup\n",
    "image_processor = LocalImageClassifier(model_path=df_raw.loc[12, 'image_path'])\n",
    "\n",
    "# Create a LangChain with both the language model and the image processor\n",
    "chain = LLMChain(llm=llm, preprocessors=[image_processor])\n",
    "\n",
    "# Define the path to your local image\n",
    "image_path = df_raw.loc[12, 'image_path']\n",
    "\n",
    "# Create a prompt with your image\n",
    "prompt = Prompt(image=image_path)\n",
    "\n",
    "# Process the image and get a description\n",
    "result = chain.run(prompt)\n",
    "print(result.output)\n"
   ]
  },
  {
   "cell_type": "code",
   "execution_count": 30,
   "id": "62f17f851be6d74b",
   "metadata": {
    "ExecuteTime": {
     "end_time": "2024-08-22T09:35:01.796823Z",
     "start_time": "2024-08-22T09:34:56.146810Z"
    }
   },
   "outputs": [],
   "source": [
    "from llama_index.multi_modal_llms.openai import OpenAIMultiModal\n",
    "\n",
    "openai_mm_llm = OpenAIMultiModal( model=\"gpt-4o\")"
   ]
  },
  {
   "cell_type": "code",
   "execution_count": 37,
   "id": "fbc9f56193203984",
   "metadata": {
    "ExecuteTime": {
     "end_time": "2024-08-22T09:49:05.813174Z",
     "start_time": "2024-08-22T09:49:00.254351Z"
    }
   },
   "outputs": [
    {
     "name": "stdout",
     "output_type": "stream",
     "text": [
      "The image is a detailed schematic diagram illustrating an end-to-end backdrop process through two components, denoted as \\( q \\) and \\( p_{\\theta} \\). The diagram is divided into three main sections: Query Encoder, Retriever \\( p_n \\) (Non-Parametric), and Generator \\( p_{\\theta} \\) (Parametric).\n",
      "\n",
      "1. **Query Encoder**:\n",
      "   - The leftmost section of the diagram is labeled \"Query Encoder.\"\n",
      "   - It includes a box labeled \\( q \\) with an arrow pointing right, indicating the encoding of the input query.\n",
      "   - Examples of input queries are provided, such as \"Barack Obama was born in Hawaii.\" and \"The Divine Comedy.\"\n",
      "   - These examples are categorized under different tasks like Question Answering, Fact Verification, and Jeopardy Question Generation.\n",
      "\n",
      "2. **Retriever \\( p_n \\) (Non-Parametric)**:\n",
      "   - The middle section is labeled \"Retriever \\( p_n \\) (Non-Parametric).\"\n",
      "   - It features a process where the encoded query \\( q(x) \\) is matched against a Document Index.\n",
      "   - The matching process is indicated by arrows leading to a box labeled \"MIPS\" (Maximum Inner Product Search).\n",
      "   - The Document Index is represented by a series of stacked documents, each with a wave-like pattern, suggesting a collection of textual data.\n",
      "   - The output of this retrieval process is denoted as \\( d(z) \\), which is then\n"
     ]
    }
   ],
   "source": [
    "response_1 = openai_mm_llm.complete(\n",
    "    prompt=\"Describe in comprehensive detail the contents of the image, focusing intensely on what it represents, its functions, and what it shows. Elaborate on the specific elements, their configurations, and how they contribute to the overall meaning or purpose of the image within the context of a scientific paper. Emphasize the significance of any notable features, colors, or patterns, explaining their relevance in understanding the figure. Ensure the description is thorough, avoiding personal references, and strictly maintain an objective tone by stating facts such as 'the image includes...' or 'the figure demonstrates...'\",\n",
    "    image_documents=[img]\n",
    "    \n",
    ")\n",
    "\n",
    "print(response_1)"
   ]
  },
  {
   "cell_type": "code",
   "execution_count": 39,
   "id": "c7fbacfe3ad628c6",
   "metadata": {
    "ExecuteTime": {
     "end_time": "2024-08-22T09:51:16.893178Z",
     "start_time": "2024-08-22T09:51:16.887308Z"
    }
   },
   "outputs": [
    {
     "data": {
      "text/markdown": [
       "The image is a detailed schematic diagram illustrating an end-to-end backdrop process through two components, denoted as \\( q \\) and \\( p_{\\theta} \\). The diagram is divided into three main sections: Query Encoder, Retriever \\( p_n \\) (Non-Parametric), and Generator \\( p_{\\theta} \\) (Parametric).\n",
       "\n",
       "1. **Query Encoder**:\n",
       "   - The leftmost section of the diagram is labeled \"Query Encoder.\"\n",
       "   - It includes a box labeled \\( q \\) with an arrow pointing right, indicating the encoding of the input query.\n",
       "   - Examples of input queries are provided, such as \"Barack Obama was born in Hawaii.\" and \"The Divine Comedy.\"\n",
       "   - These examples are categorized under different tasks like Question Answering, Fact Verification, and Jeopardy Question Generation.\n",
       "\n",
       "2. **Retriever \\( p_n \\) (Non-Parametric)**:\n",
       "   - The middle section is labeled \"Retriever \\( p_n \\) (Non-Parametric).\"\n",
       "   - It features a process where the encoded query \\( q(x) \\) is matched against a Document Index.\n",
       "   - The matching process is indicated by arrows leading to a box labeled \"MIPS\" (Maximum Inner Product Search).\n",
       "   - The Document Index is represented by a series of stacked documents, each with a wave-like pattern, suggesting a collection of textual data.\n",
       "   - The output of this retrieval process is denoted as \\( d(z) \\), which is then"
      ],
      "text/plain": [
       "<IPython.core.display.Markdown object>"
      ]
     },
     "metadata": {},
     "output_type": "display_data"
    }
   ],
   "source": [
    "from IPython.display import display, Markdown\n",
    "display(Markdown(response_1.text))"
   ]
  },
  {
   "cell_type": "code",
   "execution_count": 35,
   "id": "6fc5c930dc8bd58a",
   "metadata": {
    "ExecuteTime": {
     "end_time": "2024-08-22T09:48:47.253866Z",
     "start_time": "2024-08-22T09:48:47.250136Z"
    }
   },
   "outputs": [],
   "source": [
    "from llama_index.core.schema import ImageDocument\n",
    "\n",
    "img = ImageDocument(image_path=df_raw.loc[12, 'image_path'])"
   ]
  }
 ],
 "metadata": {
  "kernelspec": {
   "display_name": "Python 3",
   "language": "python",
   "name": "python3"
  },
  "language_info": {
   "codemirror_mode": {
    "name": "ipython",
    "version": 2
   },
   "file_extension": ".py",
   "mimetype": "text/x-python",
   "name": "python",
   "nbconvert_exporter": "python",
   "pygments_lexer": "ipython2",
   "version": "2.7.6"
  }
 },
 "nbformat": 4,
 "nbformat_minor": 5
}
