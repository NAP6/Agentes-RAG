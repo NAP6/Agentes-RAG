{
 "cells": [
  {
   "cell_type": "code",
   "id": "initial_id",
   "metadata": {
    "collapsed": true,
    "ExecuteTime": {
     "end_time": "2024-09-01T08:16:21.607290Z",
     "start_time": "2024-09-01T08:16:21.603198Z"
    }
   },
   "source": [
    "import pandas as pd\n",
    "import pickle\n",
    "from llama_index.core import VectorStoreIndex, Settings\n",
    "from llama_index.core.schema import TextNode, NodeRelationship, RelatedNodeInfo\n",
    "from GCP.lib.LlamaIndex_custom.VertexIEmbeddings import VertexIEmbeddings\n"
   ],
   "outputs": [],
   "execution_count": 39
  },
  {
   "metadata": {
    "ExecuteTime": {
     "end_time": "2024-09-01T08:16:22.195463Z",
     "start_time": "2024-09-01T08:16:22.152874Z"
    }
   },
   "cell_type": "code",
   "source": [
    "df = pd.read_csv('./data/Metadata/Bloques_y_tablas_v2-Retrieval-Augmented Generation for Knowledge-Intensive NLP Tasks.csv',index_col=0)\n",
    "df"
   ],
   "id": "3eec9c26e5b9a0f7",
   "outputs": [
    {
     "data": {
      "text/plain": [
       "        block_type                                               text  \\\n",
       "4     Author Names                     Patrick Lewis'?, Ethan Perez*,   \n",
       "5     Author Names  Aleksandra Piktus†, Fabio Petroni†, Vladimir K...   \n",
       "6     Author Names  Mike Lewis†, Wen-tau Yih†, Tim Rocktäschel†‡, ...   \n",
       "9    NarrativeText  Large pre-trained language models have been sh...   \n",
       "11   NarrativeText  Pre-trained neural language models have been s...   \n",
       "..             ...                                                ...   \n",
       "216  FigureCaption  Table 7: Number of instances in the datasets u...   \n",
       "217          Table  | Task | Train | Development | Test |\\n|---|--...   \n",
       "218  NarrativeText  parameters. The best performing \"closed-book\" ...   \n",
       "220  NarrativeText  In preliminary experiments, we observed that f...   \n",
       "222  NarrativeText  The number of training, development and test d...   \n",
       "\n",
       "           file_type languages  page_number  \\\n",
       "4    application/pdf   ['eng']            1   \n",
       "5    application/pdf   ['eng']            1   \n",
       "6    application/pdf   ['eng']            1   \n",
       "9    application/pdf   ['eng']            1   \n",
       "11   application/pdf   ['eng']            1   \n",
       "..               ...       ...          ...   \n",
       "216  application/pdf   ['eng']           19   \n",
       "217  application/pdf   ['eng']           19   \n",
       "218  application/pdf   ['eng']           19   \n",
       "220  application/pdf   ['eng']           19   \n",
       "222  application/pdf   ['eng']           19   \n",
       "\n",
       "                                              filename  \\\n",
       "4    Retrieval-Augmented Generation for Knowledge-I...   \n",
       "5    Retrieval-Augmented Generation for Knowledge-I...   \n",
       "6    Retrieval-Augmented Generation for Knowledge-I...   \n",
       "9    Retrieval-Augmented Generation for Knowledge-I...   \n",
       "11   Retrieval-Augmented Generation for Knowledge-I...   \n",
       "..                                                 ...   \n",
       "216  Retrieval-Augmented Generation for Knowledge-I...   \n",
       "217  Retrieval-Augmented Generation for Knowledge-I...   \n",
       "218  Retrieval-Augmented Generation for Knowledge-I...   \n",
       "220  Retrieval-Augmented Generation for Knowledge-I...   \n",
       "222  Retrieval-Augmented Generation for Knowledge-I...   \n",
       "\n",
       "                                           description  \\\n",
       "4    Lists the names of authors, potentially with a...   \n",
       "5    Lists the names of authors, potentially affili...   \n",
       "6             Lists the authors of the research paper.   \n",
       "9    This paragraph discusses the capabilities and ...   \n",
       "11   This block discusses the advantages and disadv...   \n",
       "..                                                 ...   \n",
       "216  Describes the content of Table 7, indicating t...   \n",
       "217  Table 7: Number of instances in the datasets u...   \n",
       "218  This block discusses the performance of differ...   \n",
       "220  This block discusses challenges encountered du...   \n",
       "222  This sentence describes the content of Table 7...   \n",
       "\n",
       "                                               authors  \\\n",
       "4    Patrick Lewis,Ethan Perez,Aleksandra Piktus,Fa...   \n",
       "5    Patrick Lewis,Ethan Perez,Aleksandra Piktus,Fa...   \n",
       "6    Patrick Lewis,Ethan Perez,Aleksandra Piktus,Fa...   \n",
       "9    Patrick Lewis,Ethan Perez,Aleksandra Piktus,Fa...   \n",
       "11   Patrick Lewis,Ethan Perez,Aleksandra Piktus,Fa...   \n",
       "..                                                 ...   \n",
       "216  Patrick Lewis,Ethan Perez,Aleksandra Piktus,Fa...   \n",
       "217  Patrick Lewis,Ethan Perez,Aleksandra Piktus,Fa...   \n",
       "218  Patrick Lewis,Ethan Perez,Aleksandra Piktus,Fa...   \n",
       "220  Patrick Lewis,Ethan Perez,Aleksandra Piktus,Fa...   \n",
       "222  Patrick Lewis,Ethan Perez,Aleksandra Piktus,Fa...   \n",
       "\n",
       "                                          research_lab  publication_year  \\\n",
       "4    Facebook AI Research,University College London...              2020   \n",
       "5    Facebook AI Research,University College London...              2020   \n",
       "6    Facebook AI Research,University College London...              2020   \n",
       "9    Facebook AI Research,University College London...              2020   \n",
       "11   Facebook AI Research,University College London...              2020   \n",
       "..                                                 ...               ...   \n",
       "216  Facebook AI Research,University College London...              2020   \n",
       "217  Facebook AI Research,University College London...              2020   \n",
       "218  Facebook AI Research,University College London...              2020   \n",
       "220  Facebook AI Research,University College London...              2020   \n",
       "222  Facebook AI Research,University College London...              2020   \n",
       "\n",
       "                                                 title  \\\n",
       "4    Retrieval-Augmented Generation for Knowledge-I...   \n",
       "5    Retrieval-Augmented Generation for Knowledge-I...   \n",
       "6    Retrieval-Augmented Generation for Knowledge-I...   \n",
       "9    Retrieval-Augmented Generation for Knowledge-I...   \n",
       "11   Retrieval-Augmented Generation for Knowledge-I...   \n",
       "..                                                 ...   \n",
       "216  Retrieval-Augmented Generation for Knowledge-I...   \n",
       "217  Retrieval-Augmented Generation for Knowledge-I...   \n",
       "218  Retrieval-Augmented Generation for Knowledge-I...   \n",
       "220  Retrieval-Augmented Generation for Knowledge-I...   \n",
       "222  Retrieval-Augmented Generation for Knowledge-I...   \n",
       "\n",
       "                                         section_title  \n",
       "4    Retrieval-Augmented Generation for Knowledge-I...  \n",
       "5    Retrieval-Augmented Generation for Knowledge-I...  \n",
       "6    Retrieval-Augmented Generation for Knowledge-I...  \n",
       "9                                             Abstract  \n",
       "11                                      1 Introduction  \n",
       "..                                                 ...  \n",
       "216                                       G Parameters  \n",
       "217                                       G Parameters  \n",
       "218                                       G Parameters  \n",
       "220                               H Retrieval Collapse  \n",
       "222                  I Number of instances per dataset  \n",
       "\n",
       "[159 rows x 12 columns]"
      ],
      "text/html": [
       "<div>\n",
       "<style scoped>\n",
       "    .dataframe tbody tr th:only-of-type {\n",
       "        vertical-align: middle;\n",
       "    }\n",
       "\n",
       "    .dataframe tbody tr th {\n",
       "        vertical-align: top;\n",
       "    }\n",
       "\n",
       "    .dataframe thead th {\n",
       "        text-align: right;\n",
       "    }\n",
       "</style>\n",
       "<table border=\"1\" class=\"dataframe\">\n",
       "  <thead>\n",
       "    <tr style=\"text-align: right;\">\n",
       "      <th></th>\n",
       "      <th>block_type</th>\n",
       "      <th>text</th>\n",
       "      <th>file_type</th>\n",
       "      <th>languages</th>\n",
       "      <th>page_number</th>\n",
       "      <th>filename</th>\n",
       "      <th>description</th>\n",
       "      <th>authors</th>\n",
       "      <th>research_lab</th>\n",
       "      <th>publication_year</th>\n",
       "      <th>title</th>\n",
       "      <th>section_title</th>\n",
       "    </tr>\n",
       "  </thead>\n",
       "  <tbody>\n",
       "    <tr>\n",
       "      <th>4</th>\n",
       "      <td>Author Names</td>\n",
       "      <td>Patrick Lewis'?, Ethan Perez*,</td>\n",
       "      <td>application/pdf</td>\n",
       "      <td>['eng']</td>\n",
       "      <td>1</td>\n",
       "      <td>Retrieval-Augmented Generation for Knowledge-I...</td>\n",
       "      <td>Lists the names of authors, potentially with a...</td>\n",
       "      <td>Patrick Lewis,Ethan Perez,Aleksandra Piktus,Fa...</td>\n",
       "      <td>Facebook AI Research,University College London...</td>\n",
       "      <td>2020</td>\n",
       "      <td>Retrieval-Augmented Generation for Knowledge-I...</td>\n",
       "      <td>Retrieval-Augmented Generation for Knowledge-I...</td>\n",
       "    </tr>\n",
       "    <tr>\n",
       "      <th>5</th>\n",
       "      <td>Author Names</td>\n",
       "      <td>Aleksandra Piktus†, Fabio Petroni†, Vladimir K...</td>\n",
       "      <td>application/pdf</td>\n",
       "      <td>['eng']</td>\n",
       "      <td>1</td>\n",
       "      <td>Retrieval-Augmented Generation for Knowledge-I...</td>\n",
       "      <td>Lists the names of authors, potentially affili...</td>\n",
       "      <td>Patrick Lewis,Ethan Perez,Aleksandra Piktus,Fa...</td>\n",
       "      <td>Facebook AI Research,University College London...</td>\n",
       "      <td>2020</td>\n",
       "      <td>Retrieval-Augmented Generation for Knowledge-I...</td>\n",
       "      <td>Retrieval-Augmented Generation for Knowledge-I...</td>\n",
       "    </tr>\n",
       "    <tr>\n",
       "      <th>6</th>\n",
       "      <td>Author Names</td>\n",
       "      <td>Mike Lewis†, Wen-tau Yih†, Tim Rocktäschel†‡, ...</td>\n",
       "      <td>application/pdf</td>\n",
       "      <td>['eng']</td>\n",
       "      <td>1</td>\n",
       "      <td>Retrieval-Augmented Generation for Knowledge-I...</td>\n",
       "      <td>Lists the authors of the research paper.</td>\n",
       "      <td>Patrick Lewis,Ethan Perez,Aleksandra Piktus,Fa...</td>\n",
       "      <td>Facebook AI Research,University College London...</td>\n",
       "      <td>2020</td>\n",
       "      <td>Retrieval-Augmented Generation for Knowledge-I...</td>\n",
       "      <td>Retrieval-Augmented Generation for Knowledge-I...</td>\n",
       "    </tr>\n",
       "    <tr>\n",
       "      <th>9</th>\n",
       "      <td>NarrativeText</td>\n",
       "      <td>Large pre-trained language models have been sh...</td>\n",
       "      <td>application/pdf</td>\n",
       "      <td>['eng']</td>\n",
       "      <td>1</td>\n",
       "      <td>Retrieval-Augmented Generation for Knowledge-I...</td>\n",
       "      <td>This paragraph discusses the capabilities and ...</td>\n",
       "      <td>Patrick Lewis,Ethan Perez,Aleksandra Piktus,Fa...</td>\n",
       "      <td>Facebook AI Research,University College London...</td>\n",
       "      <td>2020</td>\n",
       "      <td>Retrieval-Augmented Generation for Knowledge-I...</td>\n",
       "      <td>Abstract</td>\n",
       "    </tr>\n",
       "    <tr>\n",
       "      <th>11</th>\n",
       "      <td>NarrativeText</td>\n",
       "      <td>Pre-trained neural language models have been s...</td>\n",
       "      <td>application/pdf</td>\n",
       "      <td>['eng']</td>\n",
       "      <td>1</td>\n",
       "      <td>Retrieval-Augmented Generation for Knowledge-I...</td>\n",
       "      <td>This block discusses the advantages and disadv...</td>\n",
       "      <td>Patrick Lewis,Ethan Perez,Aleksandra Piktus,Fa...</td>\n",
       "      <td>Facebook AI Research,University College London...</td>\n",
       "      <td>2020</td>\n",
       "      <td>Retrieval-Augmented Generation for Knowledge-I...</td>\n",
       "      <td>1 Introduction</td>\n",
       "    </tr>\n",
       "    <tr>\n",
       "      <th>...</th>\n",
       "      <td>...</td>\n",
       "      <td>...</td>\n",
       "      <td>...</td>\n",
       "      <td>...</td>\n",
       "      <td>...</td>\n",
       "      <td>...</td>\n",
       "      <td>...</td>\n",
       "      <td>...</td>\n",
       "      <td>...</td>\n",
       "      <td>...</td>\n",
       "      <td>...</td>\n",
       "      <td>...</td>\n",
       "    </tr>\n",
       "    <tr>\n",
       "      <th>216</th>\n",
       "      <td>FigureCaption</td>\n",
       "      <td>Table 7: Number of instances in the datasets u...</td>\n",
       "      <td>application/pdf</td>\n",
       "      <td>['eng']</td>\n",
       "      <td>19</td>\n",
       "      <td>Retrieval-Augmented Generation for Knowledge-I...</td>\n",
       "      <td>Describes the content of Table 7, indicating t...</td>\n",
       "      <td>Patrick Lewis,Ethan Perez,Aleksandra Piktus,Fa...</td>\n",
       "      <td>Facebook AI Research,University College London...</td>\n",
       "      <td>2020</td>\n",
       "      <td>Retrieval-Augmented Generation for Knowledge-I...</td>\n",
       "      <td>G Parameters</td>\n",
       "    </tr>\n",
       "    <tr>\n",
       "      <th>217</th>\n",
       "      <td>Table</td>\n",
       "      <td>| Task | Train | Development | Test |\\n|---|--...</td>\n",
       "      <td>application/pdf</td>\n",
       "      <td>['eng']</td>\n",
       "      <td>19</td>\n",
       "      <td>Retrieval-Augmented Generation for Knowledge-I...</td>\n",
       "      <td>Table 7: Number of instances in the datasets u...</td>\n",
       "      <td>Patrick Lewis,Ethan Perez,Aleksandra Piktus,Fa...</td>\n",
       "      <td>Facebook AI Research,University College London...</td>\n",
       "      <td>2020</td>\n",
       "      <td>Retrieval-Augmented Generation for Knowledge-I...</td>\n",
       "      <td>G Parameters</td>\n",
       "    </tr>\n",
       "    <tr>\n",
       "      <th>218</th>\n",
       "      <td>NarrativeText</td>\n",
       "      <td>parameters. The best performing \"closed-book\" ...</td>\n",
       "      <td>application/pdf</td>\n",
       "      <td>['eng']</td>\n",
       "      <td>19</td>\n",
       "      <td>Retrieval-Augmented Generation for Knowledge-I...</td>\n",
       "      <td>This block discusses the performance of differ...</td>\n",
       "      <td>Patrick Lewis,Ethan Perez,Aleksandra Piktus,Fa...</td>\n",
       "      <td>Facebook AI Research,University College London...</td>\n",
       "      <td>2020</td>\n",
       "      <td>Retrieval-Augmented Generation for Knowledge-I...</td>\n",
       "      <td>G Parameters</td>\n",
       "    </tr>\n",
       "    <tr>\n",
       "      <th>220</th>\n",
       "      <td>NarrativeText</td>\n",
       "      <td>In preliminary experiments, we observed that f...</td>\n",
       "      <td>application/pdf</td>\n",
       "      <td>['eng']</td>\n",
       "      <td>19</td>\n",
       "      <td>Retrieval-Augmented Generation for Knowledge-I...</td>\n",
       "      <td>This block discusses challenges encountered du...</td>\n",
       "      <td>Patrick Lewis,Ethan Perez,Aleksandra Piktus,Fa...</td>\n",
       "      <td>Facebook AI Research,University College London...</td>\n",
       "      <td>2020</td>\n",
       "      <td>Retrieval-Augmented Generation for Knowledge-I...</td>\n",
       "      <td>H Retrieval Collapse</td>\n",
       "    </tr>\n",
       "    <tr>\n",
       "      <th>222</th>\n",
       "      <td>NarrativeText</td>\n",
       "      <td>The number of training, development and test d...</td>\n",
       "      <td>application/pdf</td>\n",
       "      <td>['eng']</td>\n",
       "      <td>19</td>\n",
       "      <td>Retrieval-Augmented Generation for Knowledge-I...</td>\n",
       "      <td>This sentence describes the content of Table 7...</td>\n",
       "      <td>Patrick Lewis,Ethan Perez,Aleksandra Piktus,Fa...</td>\n",
       "      <td>Facebook AI Research,University College London...</td>\n",
       "      <td>2020</td>\n",
       "      <td>Retrieval-Augmented Generation for Knowledge-I...</td>\n",
       "      <td>I Number of instances per dataset</td>\n",
       "    </tr>\n",
       "  </tbody>\n",
       "</table>\n",
       "<p>159 rows × 12 columns</p>\n",
       "</div>"
      ]
     },
     "execution_count": 40,
     "metadata": {},
     "output_type": "execute_result"
    }
   ],
   "execution_count": 40
  },
  {
   "metadata": {
    "ExecuteTime": {
     "end_time": "2024-09-01T08:16:22.812162Z",
     "start_time": "2024-09-01T08:16:22.787374Z"
    }
   },
   "cell_type": "code",
   "source": [
    "# Crear el ID utilizando el índice y el nombre del archivo\n",
    "df['node_id'] = df.apply(lambda row: f\"{row.name}_{row['filename']}\", axis=1)\n",
    "\n",
    "# Crear la columna 'previous_node_id' desplazando el ID hacia abajo\n",
    "df['previous_node_id'] = df['node_id'].shift(1)\n",
    "\n",
    "# Crear la columna 'next_node_id' desplazando el ID hacia arriba\n",
    "df['next_node_id'] = df['node_id'].shift(-1)\n",
    "\n",
    "df"
   ],
   "id": "9d3946569757af86",
   "outputs": [
    {
     "data": {
      "text/plain": [
       "        block_type                                               text  \\\n",
       "4     Author Names                     Patrick Lewis'?, Ethan Perez*,   \n",
       "5     Author Names  Aleksandra Piktus†, Fabio Petroni†, Vladimir K...   \n",
       "6     Author Names  Mike Lewis†, Wen-tau Yih†, Tim Rocktäschel†‡, ...   \n",
       "9    NarrativeText  Large pre-trained language models have been sh...   \n",
       "11   NarrativeText  Pre-trained neural language models have been s...   \n",
       "..             ...                                                ...   \n",
       "216  FigureCaption  Table 7: Number of instances in the datasets u...   \n",
       "217          Table  | Task | Train | Development | Test |\\n|---|--...   \n",
       "218  NarrativeText  parameters. The best performing \"closed-book\" ...   \n",
       "220  NarrativeText  In preliminary experiments, we observed that f...   \n",
       "222  NarrativeText  The number of training, development and test d...   \n",
       "\n",
       "           file_type languages  page_number  \\\n",
       "4    application/pdf   ['eng']            1   \n",
       "5    application/pdf   ['eng']            1   \n",
       "6    application/pdf   ['eng']            1   \n",
       "9    application/pdf   ['eng']            1   \n",
       "11   application/pdf   ['eng']            1   \n",
       "..               ...       ...          ...   \n",
       "216  application/pdf   ['eng']           19   \n",
       "217  application/pdf   ['eng']           19   \n",
       "218  application/pdf   ['eng']           19   \n",
       "220  application/pdf   ['eng']           19   \n",
       "222  application/pdf   ['eng']           19   \n",
       "\n",
       "                                              filename  \\\n",
       "4    Retrieval-Augmented Generation for Knowledge-I...   \n",
       "5    Retrieval-Augmented Generation for Knowledge-I...   \n",
       "6    Retrieval-Augmented Generation for Knowledge-I...   \n",
       "9    Retrieval-Augmented Generation for Knowledge-I...   \n",
       "11   Retrieval-Augmented Generation for Knowledge-I...   \n",
       "..                                                 ...   \n",
       "216  Retrieval-Augmented Generation for Knowledge-I...   \n",
       "217  Retrieval-Augmented Generation for Knowledge-I...   \n",
       "218  Retrieval-Augmented Generation for Knowledge-I...   \n",
       "220  Retrieval-Augmented Generation for Knowledge-I...   \n",
       "222  Retrieval-Augmented Generation for Knowledge-I...   \n",
       "\n",
       "                                           description  \\\n",
       "4    Lists the names of authors, potentially with a...   \n",
       "5    Lists the names of authors, potentially affili...   \n",
       "6             Lists the authors of the research paper.   \n",
       "9    This paragraph discusses the capabilities and ...   \n",
       "11   This block discusses the advantages and disadv...   \n",
       "..                                                 ...   \n",
       "216  Describes the content of Table 7, indicating t...   \n",
       "217  Table 7: Number of instances in the datasets u...   \n",
       "218  This block discusses the performance of differ...   \n",
       "220  This block discusses challenges encountered du...   \n",
       "222  This sentence describes the content of Table 7...   \n",
       "\n",
       "                                               authors  \\\n",
       "4    Patrick Lewis,Ethan Perez,Aleksandra Piktus,Fa...   \n",
       "5    Patrick Lewis,Ethan Perez,Aleksandra Piktus,Fa...   \n",
       "6    Patrick Lewis,Ethan Perez,Aleksandra Piktus,Fa...   \n",
       "9    Patrick Lewis,Ethan Perez,Aleksandra Piktus,Fa...   \n",
       "11   Patrick Lewis,Ethan Perez,Aleksandra Piktus,Fa...   \n",
       "..                                                 ...   \n",
       "216  Patrick Lewis,Ethan Perez,Aleksandra Piktus,Fa...   \n",
       "217  Patrick Lewis,Ethan Perez,Aleksandra Piktus,Fa...   \n",
       "218  Patrick Lewis,Ethan Perez,Aleksandra Piktus,Fa...   \n",
       "220  Patrick Lewis,Ethan Perez,Aleksandra Piktus,Fa...   \n",
       "222  Patrick Lewis,Ethan Perez,Aleksandra Piktus,Fa...   \n",
       "\n",
       "                                          research_lab  publication_year  \\\n",
       "4    Facebook AI Research,University College London...              2020   \n",
       "5    Facebook AI Research,University College London...              2020   \n",
       "6    Facebook AI Research,University College London...              2020   \n",
       "9    Facebook AI Research,University College London...              2020   \n",
       "11   Facebook AI Research,University College London...              2020   \n",
       "..                                                 ...               ...   \n",
       "216  Facebook AI Research,University College London...              2020   \n",
       "217  Facebook AI Research,University College London...              2020   \n",
       "218  Facebook AI Research,University College London...              2020   \n",
       "220  Facebook AI Research,University College London...              2020   \n",
       "222  Facebook AI Research,University College London...              2020   \n",
       "\n",
       "                                                 title  \\\n",
       "4    Retrieval-Augmented Generation for Knowledge-I...   \n",
       "5    Retrieval-Augmented Generation for Knowledge-I...   \n",
       "6    Retrieval-Augmented Generation for Knowledge-I...   \n",
       "9    Retrieval-Augmented Generation for Knowledge-I...   \n",
       "11   Retrieval-Augmented Generation for Knowledge-I...   \n",
       "..                                                 ...   \n",
       "216  Retrieval-Augmented Generation for Knowledge-I...   \n",
       "217  Retrieval-Augmented Generation for Knowledge-I...   \n",
       "218  Retrieval-Augmented Generation for Knowledge-I...   \n",
       "220  Retrieval-Augmented Generation for Knowledge-I...   \n",
       "222  Retrieval-Augmented Generation for Knowledge-I...   \n",
       "\n",
       "                                         section_title  \\\n",
       "4    Retrieval-Augmented Generation for Knowledge-I...   \n",
       "5    Retrieval-Augmented Generation for Knowledge-I...   \n",
       "6    Retrieval-Augmented Generation for Knowledge-I...   \n",
       "9                                             Abstract   \n",
       "11                                      1 Introduction   \n",
       "..                                                 ...   \n",
       "216                                       G Parameters   \n",
       "217                                       G Parameters   \n",
       "218                                       G Parameters   \n",
       "220                               H Retrieval Collapse   \n",
       "222                  I Number of instances per dataset   \n",
       "\n",
       "                                               node_id  \\\n",
       "4    4_Retrieval-Augmented Generation for Knowledge...   \n",
       "5    5_Retrieval-Augmented Generation for Knowledge...   \n",
       "6    6_Retrieval-Augmented Generation for Knowledge...   \n",
       "9    9_Retrieval-Augmented Generation for Knowledge...   \n",
       "11   11_Retrieval-Augmented Generation for Knowledg...   \n",
       "..                                                 ...   \n",
       "216  216_Retrieval-Augmented Generation for Knowled...   \n",
       "217  217_Retrieval-Augmented Generation for Knowled...   \n",
       "218  218_Retrieval-Augmented Generation for Knowled...   \n",
       "220  220_Retrieval-Augmented Generation for Knowled...   \n",
       "222  222_Retrieval-Augmented Generation for Knowled...   \n",
       "\n",
       "                                      previous_node_id  \\\n",
       "4                                                 None   \n",
       "5    4_Retrieval-Augmented Generation for Knowledge...   \n",
       "6    5_Retrieval-Augmented Generation for Knowledge...   \n",
       "9    6_Retrieval-Augmented Generation for Knowledge...   \n",
       "11   9_Retrieval-Augmented Generation for Knowledge...   \n",
       "..                                                 ...   \n",
       "216  214_Retrieval-Augmented Generation for Knowled...   \n",
       "217  216_Retrieval-Augmented Generation for Knowled...   \n",
       "218  217_Retrieval-Augmented Generation for Knowled...   \n",
       "220  218_Retrieval-Augmented Generation for Knowled...   \n",
       "222  220_Retrieval-Augmented Generation for Knowled...   \n",
       "\n",
       "                                          next_node_id  \n",
       "4    5_Retrieval-Augmented Generation for Knowledge...  \n",
       "5    6_Retrieval-Augmented Generation for Knowledge...  \n",
       "6    9_Retrieval-Augmented Generation for Knowledge...  \n",
       "9    11_Retrieval-Augmented Generation for Knowledg...  \n",
       "11   12_Retrieval-Augmented Generation for Knowledg...  \n",
       "..                                                 ...  \n",
       "216  217_Retrieval-Augmented Generation for Knowled...  \n",
       "217  218_Retrieval-Augmented Generation for Knowled...  \n",
       "218  220_Retrieval-Augmented Generation for Knowled...  \n",
       "220  222_Retrieval-Augmented Generation for Knowled...  \n",
       "222                                               None  \n",
       "\n",
       "[159 rows x 15 columns]"
      ],
      "text/html": [
       "<div>\n",
       "<style scoped>\n",
       "    .dataframe tbody tr th:only-of-type {\n",
       "        vertical-align: middle;\n",
       "    }\n",
       "\n",
       "    .dataframe tbody tr th {\n",
       "        vertical-align: top;\n",
       "    }\n",
       "\n",
       "    .dataframe thead th {\n",
       "        text-align: right;\n",
       "    }\n",
       "</style>\n",
       "<table border=\"1\" class=\"dataframe\">\n",
       "  <thead>\n",
       "    <tr style=\"text-align: right;\">\n",
       "      <th></th>\n",
       "      <th>block_type</th>\n",
       "      <th>text</th>\n",
       "      <th>file_type</th>\n",
       "      <th>languages</th>\n",
       "      <th>page_number</th>\n",
       "      <th>filename</th>\n",
       "      <th>description</th>\n",
       "      <th>authors</th>\n",
       "      <th>research_lab</th>\n",
       "      <th>publication_year</th>\n",
       "      <th>title</th>\n",
       "      <th>section_title</th>\n",
       "      <th>node_id</th>\n",
       "      <th>previous_node_id</th>\n",
       "      <th>next_node_id</th>\n",
       "    </tr>\n",
       "  </thead>\n",
       "  <tbody>\n",
       "    <tr>\n",
       "      <th>4</th>\n",
       "      <td>Author Names</td>\n",
       "      <td>Patrick Lewis'?, Ethan Perez*,</td>\n",
       "      <td>application/pdf</td>\n",
       "      <td>['eng']</td>\n",
       "      <td>1</td>\n",
       "      <td>Retrieval-Augmented Generation for Knowledge-I...</td>\n",
       "      <td>Lists the names of authors, potentially with a...</td>\n",
       "      <td>Patrick Lewis,Ethan Perez,Aleksandra Piktus,Fa...</td>\n",
       "      <td>Facebook AI Research,University College London...</td>\n",
       "      <td>2020</td>\n",
       "      <td>Retrieval-Augmented Generation for Knowledge-I...</td>\n",
       "      <td>Retrieval-Augmented Generation for Knowledge-I...</td>\n",
       "      <td>4_Retrieval-Augmented Generation for Knowledge...</td>\n",
       "      <td>None</td>\n",
       "      <td>5_Retrieval-Augmented Generation for Knowledge...</td>\n",
       "    </tr>\n",
       "    <tr>\n",
       "      <th>5</th>\n",
       "      <td>Author Names</td>\n",
       "      <td>Aleksandra Piktus†, Fabio Petroni†, Vladimir K...</td>\n",
       "      <td>application/pdf</td>\n",
       "      <td>['eng']</td>\n",
       "      <td>1</td>\n",
       "      <td>Retrieval-Augmented Generation for Knowledge-I...</td>\n",
       "      <td>Lists the names of authors, potentially affili...</td>\n",
       "      <td>Patrick Lewis,Ethan Perez,Aleksandra Piktus,Fa...</td>\n",
       "      <td>Facebook AI Research,University College London...</td>\n",
       "      <td>2020</td>\n",
       "      <td>Retrieval-Augmented Generation for Knowledge-I...</td>\n",
       "      <td>Retrieval-Augmented Generation for Knowledge-I...</td>\n",
       "      <td>5_Retrieval-Augmented Generation for Knowledge...</td>\n",
       "      <td>4_Retrieval-Augmented Generation for Knowledge...</td>\n",
       "      <td>6_Retrieval-Augmented Generation for Knowledge...</td>\n",
       "    </tr>\n",
       "    <tr>\n",
       "      <th>6</th>\n",
       "      <td>Author Names</td>\n",
       "      <td>Mike Lewis†, Wen-tau Yih†, Tim Rocktäschel†‡, ...</td>\n",
       "      <td>application/pdf</td>\n",
       "      <td>['eng']</td>\n",
       "      <td>1</td>\n",
       "      <td>Retrieval-Augmented Generation for Knowledge-I...</td>\n",
       "      <td>Lists the authors of the research paper.</td>\n",
       "      <td>Patrick Lewis,Ethan Perez,Aleksandra Piktus,Fa...</td>\n",
       "      <td>Facebook AI Research,University College London...</td>\n",
       "      <td>2020</td>\n",
       "      <td>Retrieval-Augmented Generation for Knowledge-I...</td>\n",
       "      <td>Retrieval-Augmented Generation for Knowledge-I...</td>\n",
       "      <td>6_Retrieval-Augmented Generation for Knowledge...</td>\n",
       "      <td>5_Retrieval-Augmented Generation for Knowledge...</td>\n",
       "      <td>9_Retrieval-Augmented Generation for Knowledge...</td>\n",
       "    </tr>\n",
       "    <tr>\n",
       "      <th>9</th>\n",
       "      <td>NarrativeText</td>\n",
       "      <td>Large pre-trained language models have been sh...</td>\n",
       "      <td>application/pdf</td>\n",
       "      <td>['eng']</td>\n",
       "      <td>1</td>\n",
       "      <td>Retrieval-Augmented Generation for Knowledge-I...</td>\n",
       "      <td>This paragraph discusses the capabilities and ...</td>\n",
       "      <td>Patrick Lewis,Ethan Perez,Aleksandra Piktus,Fa...</td>\n",
       "      <td>Facebook AI Research,University College London...</td>\n",
       "      <td>2020</td>\n",
       "      <td>Retrieval-Augmented Generation for Knowledge-I...</td>\n",
       "      <td>Abstract</td>\n",
       "      <td>9_Retrieval-Augmented Generation for Knowledge...</td>\n",
       "      <td>6_Retrieval-Augmented Generation for Knowledge...</td>\n",
       "      <td>11_Retrieval-Augmented Generation for Knowledg...</td>\n",
       "    </tr>\n",
       "    <tr>\n",
       "      <th>11</th>\n",
       "      <td>NarrativeText</td>\n",
       "      <td>Pre-trained neural language models have been s...</td>\n",
       "      <td>application/pdf</td>\n",
       "      <td>['eng']</td>\n",
       "      <td>1</td>\n",
       "      <td>Retrieval-Augmented Generation for Knowledge-I...</td>\n",
       "      <td>This block discusses the advantages and disadv...</td>\n",
       "      <td>Patrick Lewis,Ethan Perez,Aleksandra Piktus,Fa...</td>\n",
       "      <td>Facebook AI Research,University College London...</td>\n",
       "      <td>2020</td>\n",
       "      <td>Retrieval-Augmented Generation for Knowledge-I...</td>\n",
       "      <td>1 Introduction</td>\n",
       "      <td>11_Retrieval-Augmented Generation for Knowledg...</td>\n",
       "      <td>9_Retrieval-Augmented Generation for Knowledge...</td>\n",
       "      <td>12_Retrieval-Augmented Generation for Knowledg...</td>\n",
       "    </tr>\n",
       "    <tr>\n",
       "      <th>...</th>\n",
       "      <td>...</td>\n",
       "      <td>...</td>\n",
       "      <td>...</td>\n",
       "      <td>...</td>\n",
       "      <td>...</td>\n",
       "      <td>...</td>\n",
       "      <td>...</td>\n",
       "      <td>...</td>\n",
       "      <td>...</td>\n",
       "      <td>...</td>\n",
       "      <td>...</td>\n",
       "      <td>...</td>\n",
       "      <td>...</td>\n",
       "      <td>...</td>\n",
       "      <td>...</td>\n",
       "    </tr>\n",
       "    <tr>\n",
       "      <th>216</th>\n",
       "      <td>FigureCaption</td>\n",
       "      <td>Table 7: Number of instances in the datasets u...</td>\n",
       "      <td>application/pdf</td>\n",
       "      <td>['eng']</td>\n",
       "      <td>19</td>\n",
       "      <td>Retrieval-Augmented Generation for Knowledge-I...</td>\n",
       "      <td>Describes the content of Table 7, indicating t...</td>\n",
       "      <td>Patrick Lewis,Ethan Perez,Aleksandra Piktus,Fa...</td>\n",
       "      <td>Facebook AI Research,University College London...</td>\n",
       "      <td>2020</td>\n",
       "      <td>Retrieval-Augmented Generation for Knowledge-I...</td>\n",
       "      <td>G Parameters</td>\n",
       "      <td>216_Retrieval-Augmented Generation for Knowled...</td>\n",
       "      <td>214_Retrieval-Augmented Generation for Knowled...</td>\n",
       "      <td>217_Retrieval-Augmented Generation for Knowled...</td>\n",
       "    </tr>\n",
       "    <tr>\n",
       "      <th>217</th>\n",
       "      <td>Table</td>\n",
       "      <td>| Task | Train | Development | Test |\\n|---|--...</td>\n",
       "      <td>application/pdf</td>\n",
       "      <td>['eng']</td>\n",
       "      <td>19</td>\n",
       "      <td>Retrieval-Augmented Generation for Knowledge-I...</td>\n",
       "      <td>Table 7: Number of instances in the datasets u...</td>\n",
       "      <td>Patrick Lewis,Ethan Perez,Aleksandra Piktus,Fa...</td>\n",
       "      <td>Facebook AI Research,University College London...</td>\n",
       "      <td>2020</td>\n",
       "      <td>Retrieval-Augmented Generation for Knowledge-I...</td>\n",
       "      <td>G Parameters</td>\n",
       "      <td>217_Retrieval-Augmented Generation for Knowled...</td>\n",
       "      <td>216_Retrieval-Augmented Generation for Knowled...</td>\n",
       "      <td>218_Retrieval-Augmented Generation for Knowled...</td>\n",
       "    </tr>\n",
       "    <tr>\n",
       "      <th>218</th>\n",
       "      <td>NarrativeText</td>\n",
       "      <td>parameters. The best performing \"closed-book\" ...</td>\n",
       "      <td>application/pdf</td>\n",
       "      <td>['eng']</td>\n",
       "      <td>19</td>\n",
       "      <td>Retrieval-Augmented Generation for Knowledge-I...</td>\n",
       "      <td>This block discusses the performance of differ...</td>\n",
       "      <td>Patrick Lewis,Ethan Perez,Aleksandra Piktus,Fa...</td>\n",
       "      <td>Facebook AI Research,University College London...</td>\n",
       "      <td>2020</td>\n",
       "      <td>Retrieval-Augmented Generation for Knowledge-I...</td>\n",
       "      <td>G Parameters</td>\n",
       "      <td>218_Retrieval-Augmented Generation for Knowled...</td>\n",
       "      <td>217_Retrieval-Augmented Generation for Knowled...</td>\n",
       "      <td>220_Retrieval-Augmented Generation for Knowled...</td>\n",
       "    </tr>\n",
       "    <tr>\n",
       "      <th>220</th>\n",
       "      <td>NarrativeText</td>\n",
       "      <td>In preliminary experiments, we observed that f...</td>\n",
       "      <td>application/pdf</td>\n",
       "      <td>['eng']</td>\n",
       "      <td>19</td>\n",
       "      <td>Retrieval-Augmented Generation for Knowledge-I...</td>\n",
       "      <td>This block discusses challenges encountered du...</td>\n",
       "      <td>Patrick Lewis,Ethan Perez,Aleksandra Piktus,Fa...</td>\n",
       "      <td>Facebook AI Research,University College London...</td>\n",
       "      <td>2020</td>\n",
       "      <td>Retrieval-Augmented Generation for Knowledge-I...</td>\n",
       "      <td>H Retrieval Collapse</td>\n",
       "      <td>220_Retrieval-Augmented Generation for Knowled...</td>\n",
       "      <td>218_Retrieval-Augmented Generation for Knowled...</td>\n",
       "      <td>222_Retrieval-Augmented Generation for Knowled...</td>\n",
       "    </tr>\n",
       "    <tr>\n",
       "      <th>222</th>\n",
       "      <td>NarrativeText</td>\n",
       "      <td>The number of training, development and test d...</td>\n",
       "      <td>application/pdf</td>\n",
       "      <td>['eng']</td>\n",
       "      <td>19</td>\n",
       "      <td>Retrieval-Augmented Generation for Knowledge-I...</td>\n",
       "      <td>This sentence describes the content of Table 7...</td>\n",
       "      <td>Patrick Lewis,Ethan Perez,Aleksandra Piktus,Fa...</td>\n",
       "      <td>Facebook AI Research,University College London...</td>\n",
       "      <td>2020</td>\n",
       "      <td>Retrieval-Augmented Generation for Knowledge-I...</td>\n",
       "      <td>I Number of instances per dataset</td>\n",
       "      <td>222_Retrieval-Augmented Generation for Knowled...</td>\n",
       "      <td>220_Retrieval-Augmented Generation for Knowled...</td>\n",
       "      <td>None</td>\n",
       "    </tr>\n",
       "  </tbody>\n",
       "</table>\n",
       "<p>159 rows × 15 columns</p>\n",
       "</div>"
      ]
     },
     "execution_count": 41,
     "metadata": {},
     "output_type": "execute_result"
    }
   ],
   "execution_count": 41
  },
  {
   "metadata": {
    "ExecuteTime": {
     "end_time": "2024-09-01T08:16:23.635073Z",
     "start_time": "2024-09-01T08:16:23.626019Z"
    }
   },
   "cell_type": "code",
   "source": [
    "def create_node(row):\n",
    "    # Crear el ID utilizando el índice y el nombre del archivo\n",
    "    node_id = f\"{row.name}_{row['filename']}\"\n",
    "\n",
    "    # Crear el nodo de texto con el ID, texto y metadatos\n",
    "    node = TextNode(\n",
    "        id=row['node_id'],\n",
    "        text=row['text'],  # Usar la columna 'text' para el contenido del nodo\n",
    "        metadata={\n",
    "            'block_type': row['block_type'],\n",
    "            'section_title': row['section_title'],\n",
    "            'description': row['description'],\n",
    "            'file_type': row['file_type'],\n",
    "            'languages': row['languages'],\n",
    "            'page_number': row['page_number'],\n",
    "            'filename': row['filename'],\n",
    "            'authors': row['authors'],\n",
    "            'research_lab': row['research_lab'],\n",
    "            'publication_year': row['publication_year'],\n",
    "            'title': row['title']\n",
    "        },\n",
    "        excluded_llm_metadata_keys=['authors', 'research_lab'],\n",
    "        excluded_embed_metadata_keys=['title']\n",
    "    )\n",
    "    if pd.notna(row['previous_node_id']):\n",
    "        node.relationships[NodeRelationship.PREVIOUS] = RelatedNodeInfo(\n",
    "            node_id=row['previous_node_id']\n",
    "        )\n",
    "    if pd.notna(row['next_node_id']):\n",
    "        node.relationships[NodeRelationship.NEXT] = RelatedNodeInfo(\n",
    "            node_id=row['next_node_id']\n",
    "        )\n",
    "    return node"
   ],
   "id": "5a0b19ce4277c063",
   "outputs": [],
   "execution_count": 42
  },
  {
   "metadata": {
    "ExecuteTime": {
     "end_time": "2024-09-01T08:16:24.645983Z",
     "start_time": "2024-09-01T08:16:24.628493Z"
    }
   },
   "cell_type": "code",
   "source": "df['node'] = df.apply(create_node, axis=1)",
   "id": "9c47a3cf88ef4f6a",
   "outputs": [],
   "execution_count": 43
  },
  {
   "metadata": {
    "ExecuteTime": {
     "end_time": "2024-09-01T08:16:25.310306Z",
     "start_time": "2024-09-01T08:16:25.304350Z"
    }
   },
   "cell_type": "code",
   "source": [
    "nodes = df['node'].tolist()\n",
    "nodes[0]"
   ],
   "id": "86cd439207c931a5",
   "outputs": [
    {
     "data": {
      "text/plain": [
       "TextNode(id_='c04e9272-4df6-4ef1-9349-f24acbdcdea2', embedding=None, metadata={'block_type': 'Author Names', 'section_title': 'Retrieval-Augmented Generation for Knowledge-Intensive NLP Tasks', 'description': 'Lists the names of authors, potentially with affiliations indicated by symbols.', 'file_type': 'application/pdf', 'languages': \"['eng']\", 'page_number': 1, 'filename': 'Retrieval-Augmented Generation for Knowledge-Intensive NLP Tasks.pdf', 'authors': 'Patrick Lewis,Ethan Perez,Aleksandra Piktus,Fabio Petroni,Vladimir Karpukhin,Naman Goyal,Heinrich KÃ¼ttler,Mike Lewis,Wen-tau Yih,Tim RocktÃ¤schel,Sebastian Riedel,Douwe Kiela', 'research_lab': 'Facebook AI Research,University College London,New York University', 'publication_year': 2020, 'title': 'Retrieval-Augmented Generation for Knowledge-Intensive NLP Tasks'}, excluded_embed_metadata_keys=['title'], excluded_llm_metadata_keys=['authors', 'research_lab'], relationships={<NodeRelationship.NEXT: '3'>: RelatedNodeInfo(node_id='5_Retrieval-Augmented Generation for Knowledge-Intensive NLP Tasks.pdf', node_type=None, metadata={}, hash=None)}, text=\"Patrick Lewis'?, Ethan Perez*,\", mimetype='text/plain', start_char_idx=None, end_char_idx=None, text_template='{metadata_str}\\n\\n{content}', metadata_template='{key}: {value}', metadata_seperator='\\n')"
      ]
     },
     "execution_count": 44,
     "metadata": {},
     "output_type": "execute_result"
    }
   ],
   "execution_count": 44
  },
  {
   "metadata": {
    "ExecuteTime": {
     "end_time": "2024-09-01T08:16:28.131579Z",
     "start_time": "2024-09-01T08:16:27.392339Z"
    }
   },
   "cell_type": "code",
   "source": [
    "credentials_path = 'C:\\\\Agentes-RAG\\\\GCP-Credentials\\\\llms-433815-5e7ca2a0c045.json'\n",
    "embedding = VertexIEmbeddings(credentials_path=credentials_path)\n",
    "Settings.embed_model = embedding"
   ],
   "id": "82d64369fe7479aa",
   "outputs": [
    {
     "name": "stdout",
     "output_type": "stream",
     "text": [
      "model_name: text-embedding-004\n"
     ]
    }
   ],
   "execution_count": 45
  },
  {
   "metadata": {
    "ExecuteTime": {
     "end_time": "2024-09-01T08:17:08.336146Z",
     "start_time": "2024-09-01T08:16:32.304596Z"
    }
   },
   "cell_type": "code",
   "source": [
    "embeded_nodes = embedding(nodes)\n",
    "embeded_nodes[0]"
   ],
   "id": "3a0962499cac4b4e",
   "outputs": [
    {
     "data": {
      "text/plain": [
       "TextNode(id_='c04e9272-4df6-4ef1-9349-f24acbdcdea2', embedding=[-0.040346380323171616, -0.022464128211140633, -0.05197039991617203, 0.0053776707500219345, -0.0019971011206507683, 0.0013902459759265184, 0.017468459904193878, 0.024134838953614235, 0.04877280816435814, -0.010017641820013523, -0.030863329768180847, -0.027494480833411217, 0.023229127749800682, 0.013211933895945549, 0.0018636994063854218, -0.021698765456676483, 0.006273228675127029, 0.053895555436611176, -0.0625259280204773, -0.002528643235564232, 0.0072318012826144695, -0.033708736300468445, 0.006138769444078207, -0.047183841466903687, -0.021933559328317642, -0.04295714572072029, 0.05227678641676903, -0.022620609030127525, -0.004851000849157572, -0.006953277625143528, 0.022087588906288147, 0.0642944946885109, 0.015330696478486061, 0.010571449995040894, -0.004879107233136892, 0.05753064900636673, -0.024754401296377182, 0.027319954708218575, 0.02849961631000042, -0.09810864180326462, -0.053667403757572174, 0.013946483843028545, -0.023741140961647034, 0.03641634061932564, -0.04174719750881195, -0.027934961020946503, -0.01388198509812355, 0.08127208054065704, -0.07511822879314423, 0.07405975461006165, 0.013652411289513111, -0.02185610868036747, -0.0778825432062149, 0.0050972760654985905, -0.030438898131251335, 0.03588292747735977, -0.07231242954730988, -0.022972898557782173, 0.009812179021537304, 0.0032175248488783836, 0.02430065907537937, -0.009072229266166687, -0.04765164479613304, -0.01826561614871025, 0.031714774668216705, -0.06869398802518845, -0.003252992406487465, 0.010030820034444332, -0.06747415661811829, 0.05413248389959335, 0.008437090553343296, 0.015079347416758537, -0.032506342977285385, 0.056741129606962204, -0.024129102006554604, -0.06585395336151123, 0.03053176775574684, -0.039428409188985825, 0.029388757422566414, 0.039926815778017044, -0.016101514920592308, 0.047201212495565414, 0.1108238622546196, 0.0071509480476379395, 0.05272647365927696, 0.027213573455810547, 0.05740169435739517, -0.037218254059553146, -0.02053886093199253, -0.0396103672683239, 0.07039336860179901, -0.031655777245759964, -0.020495064556598663, 0.020990941673517227, 0.06589382886886597, -0.04335278645157814, -0.07627701759338379, -0.05575869604945183, 0.03608550503849983, 0.03254794329404831, -0.03667440637946129, -0.015579425729811192, -0.004232249688357115, -0.04519170522689819, 0.023282790556550026, 0.07401926070451736, -0.00974169559776783, -0.015773165971040726, -0.05948369950056076, 0.022366872057318687, -0.007581687066704035, -0.017674801871180534, -0.004300005733966827, 0.004728598985821009, 0.00895193126052618, -0.03708895295858383, -0.03908363729715347, -0.01952529139816761, -0.0038524281699210405, 0.011964203789830208, -0.03940591588616371, 0.0676717460155487, -0.01485616248100996, 0.08131103962659836, 0.00905646663159132, -0.020458370447158813, 0.01656380109488964, -0.04010756313800812, -0.03577771782875061, -0.02144768089056015, 0.1014602854847908, -0.0445934496819973, -0.041875697672367096, -0.005802696105092764, -0.031707558780908585, -0.04221215844154358, 0.036381401121616364, 0.014158021658658981, -0.0013932406436651945, -0.0131224999204278, 0.016281619668006897, -0.03624675050377846, -0.0567038469016552, -0.010060918517410755, 0.016624659299850464, -0.012755588628351688, -0.011214052326977253, 0.013846540823578835, 0.028678489848971367, 0.03853447362780571, -0.019517363980412483, -0.05831938609480858, 0.05181523412466049, 0.01691153272986412, -0.05022097006440163, -0.010970140807330608, 0.02377348579466343, -0.03475824370980263, 0.04372382536530495, -0.0070103611797094345, 0.037657756358385086, -0.012874303385615349, 0.038207314908504486, -0.024890165776014328, -0.044210873544216156, -0.029001425951719284, 0.038904037326574326, 0.007591357920318842, -0.0026665017940104008, 0.043452899903059006, 0.013202349655330181, -0.025882534682750702, -0.07420384883880615, -0.02398987114429474, 0.0424734391272068, 0.009274059906601906, -0.008732430636882782, -0.007922609336674213, 9.437026164960116e-05, -0.0016382207395508885, 0.1030648797750473, 0.004276365507394075, -0.048384133726358414, -0.058320410549640656, 0.0026879962533712387, -0.05705305188894272, 0.02009851485490799, 0.026869678869843483, 0.07668081670999527, 0.024202575907111168, -0.006494731642305851, -0.039702750742435455, 0.048364948481321335, -0.027749648317694664, -0.007705166004598141, -0.025546731427311897, 0.01784856989979744, -0.08340378850698471, -0.03771720081567764, -0.036941803991794586, 0.04983512684702873, -0.010405536741018295, 0.020824093371629715, 0.0004332906974013895, 0.0026180099230259657, 0.005015309900045395, -0.060431431978940964, -0.04451608657836914, 0.020256182178854942, 0.04166049137711525, -0.04496792331337929, -0.012686270289123058, 0.004191623069345951, -0.09020425379276276, -0.014215070754289627, 0.01126172672957182, 0.031172819435596466, 0.020414821803569794, 0.07566110044717789, -0.053935714066028595, 0.006030006799846888, 0.0037109963595867157, -0.03618071228265762, 0.030985740944743156, 0.03532100468873978, 0.01868627406656742, -0.029075907543301582, 0.034518491476774216, 0.03457771614193916, -0.08302561193704605, 0.00548436027020216, -0.010038445703685284, 0.05509832501411438, 0.021874042227864265, -0.01778200827538967, 0.016977133229374886, 0.03653118386864662, 0.023700891062617302, -0.01606316678225994, 0.003445814363658428, -0.0018862051656469703, 0.0590394102036953, 0.03457990661263466, -0.053979724645614624, 0.015041990205645561, 0.039875902235507965, 0.03670590743422508, 0.009364946745336056, 0.027097435668110847, -0.05994969606399536, -0.01162717305123806, -0.022207463160157204, -0.012987150810658932, 0.004165584687143564, -0.07420895993709564, -0.04797714576125145, 0.002439902862533927, 0.00028696050867438316, -0.03848780691623688, -0.03344261646270752, 0.020943092182278633, 0.010914508253335953, -0.011177648790180683, -0.10778477042913437, -0.03502687066793442, -0.04736921563744545, -0.030315417796373367, 0.0050623249262571335, 0.03595632687211037, 0.01653873361647129, 0.02890900894999504, -0.04524023085832596, -0.0339771993458271, -0.026722991839051247, -0.04065878689289093, 0.001023086253553629, 0.007836557924747467, 0.02169378474354744, -0.013311720453202724, -0.030748559162020683, 0.1032882109284401, 0.012067950330674648, -0.07185068726539612, -0.04379213973879814, 0.05684622377157211, -0.09209179878234863, 0.0057464707642793655, 0.021547537297010422, -0.017398545518517494, -0.033208683133125305, 0.04346026852726936, 0.013534018769860268, -0.024204576388001442, -0.03249487653374672, 0.033600836992263794, 0.012166034430265427, 0.003565909806638956, 0.025025319308042526, -0.03383417800068855, 0.00662766769528389, 0.017618197947740555, 0.03372477367520332, 0.002580697648227215, 0.07620369642972946, 0.015002463944256306, 0.014988971874117851, -0.029801663011312485, -0.03409625217318535, -0.11140833795070648, 0.004758446477353573, 0.04801127687096596, 0.020410925149917603, -0.004577420186251402, -0.02048310823738575, -0.0015089972876012325, -0.029419923201203346, -0.1693873256444931, 0.025942139327526093, 0.02357093058526516, -0.009907890111207962, -0.02361501194536686, 0.018865549936890602, -0.024176573380827904, 0.019905181601643562, 0.01717422530055046, 0.007637356873601675, 0.03161590173840523, 0.016626892611384392, 0.045500826090574265, 0.052822574973106384, 0.0277327261865139, -0.012817682698369026, 0.009723059833049774, -0.05490861460566521, -0.009078333154320717, -0.022759055718779564, -0.0075874789617955685, 0.04295619949698448, 0.07606878131628036, 0.0026503882836550474, 0.026170488446950912, 0.033282119780778885, 0.0676514208316803, 0.030646003782749176, -0.02046320214867592, -0.01969726011157036, -0.05208028107881546, -0.013055127114057541, 0.040157023817300797, 0.02863576076924801, 0.0047695995308458805, 0.01894247718155384, 0.045891642570495605, -0.04652203992009163, -0.02740294300019741, 0.0022879280149936676, 0.03544880822300911, -0.013466248288750648, -0.021987956017255783, -0.003010143293067813, 0.013470910489559174, 0.018652813509106636, -0.012763685546815395, 0.024589885026216507, -0.044856488704681396, -0.037990204989910126, 0.039799559861421585, 0.03833442181348801, -0.018347125500440598, 0.006009772419929504, 0.03147762268781662, 0.042674630880355835, 0.023624848574399948, -0.01587265357375145, 0.02019505761563778, 0.01819581724703312, 0.012425468303263187, 0.040907613933086395, -0.004381678067147732, -0.015522276982665062, 8.891067409422249e-05, -0.1097964495420456, 0.04604632407426834, -0.030623577535152435, -0.01822764426469803, 0.0968053862452507, -0.06867825239896774, -0.004078343510627747, 0.013877253979444504, 0.01037338562309742, -0.013483116403222084, 0.0243926253169775, -0.010896221734583378, 0.05179883539676666, -0.008341263979673386, 0.02851574309170246, -0.011298834346234798, 0.03854560852050781, -0.008206442929804325, 0.005771971773356199, 0.011901339516043663, -0.01103740744292736, 0.03792860731482506, -0.05024239793419838, 0.012945078313350677, -0.04030561447143555, 0.0550733283162117, 0.021223681047558784, 0.010332136414945126, 0.0008514468790963292, -0.02096862904727459, -0.013622966594994068, -0.007013548165559769, 0.006369285751134157, -0.053936269134283066, 0.003488754853606224, 0.055430397391319275, -0.03530656546354294, -0.004487860947847366, 0.02576957270503044, 0.007564403582364321, -1.1044086022593547e-05, 0.05360261723399162, 0.033113993704319, -0.0015659165801480412, -0.06123942881822586, 0.008502421900629997, -0.05354369059205055, 0.024813229218125343, 0.016810446977615356, -0.026379156857728958, 0.07578959316015244, -0.01494402252137661, 0.015418504364788532, 0.009713148698210716, 0.06397689878940582, 0.014738863334059715, 0.003127404721453786, -0.002789450343698263, 0.03497998043894768, 0.027231767773628235, -0.025881102308630943, 0.01421562023460865, 0.01278175599873066, -0.013278867118060589, 0.07700997591018677, 0.05032509192824364, 0.002341928891837597, 0.02039916254580021, -0.08069746196269989, 0.054405730217695236, 0.025958919897675514, -0.013628369197249413, -0.05140289291739464, -0.08915740996599197, 0.007542824372649193, 0.04776078462600708, -0.0012630693381652236, -0.030002472922205925, -0.010305637493729591, -0.05876234546303749, -0.030672123655676842, 0.062169332057237625, 0.014615565538406372, -0.023262040689587593, -0.017632273957133293, -0.011805026791989803, 0.035278260707855225, -0.03668946400284767, 0.020339922979474068, 0.06077810749411583, 0.008011897094547749, 0.035130735486745834, 0.02115464210510254, -0.07756675034761429, -0.00010439883772050962, 0.030515480786561966, 0.021596336737275124, 0.04157150909304619, -0.033110350370407104, 0.022473637014627457, 0.010240715928375721, -0.044022854417562485, 0.04320339858531952, -0.019690999761223793, 0.003047749400138855, -0.050133876502513885, 0.022394387051463127, 0.04541425406932831, 0.004126702900975943, 0.04731275886297226, 0.01850728876888752, -0.07583283632993698, 0.011084807105362415, -0.022254271432757378, 0.018368005752563477, 0.034752584993839264, -0.057686757296323776, 0.0015526886563748121, 0.05732372775673866, -0.0012457029661163688, 0.045536186546087265, -0.02209334634244442, -0.03900773823261261, -0.05742564797401428, 0.018158812075853348, -0.04364898055791855, -0.011929243803024292, 0.0029603743460029364, 0.013616496697068214, 0.08886949717998505, -0.02849755994975567, -0.010816083289682865, -0.0071410187520086765, -0.0011550614144653082, 0.013270695693790913, -0.0397016778588295, 0.016206812113523483, -0.08285003155469894, 0.031188063323497772, -0.004223767202347517, -0.029707815498113632, 0.016446027904748917, -0.0005102457944303751, -0.017287477850914, -0.02423095889389515, 0.016025470569729805, -0.005070585757493973, 0.029628464952111244, -0.020721668377518654, -0.03973573446273804, 0.09132643789052963, 0.045545876026153564, -0.008243134245276451, 0.0032901421654969454, 0.06264570355415344, 0.061493437737226486, -0.010634680278599262, 0.031171446666121483, -0.005122629459947348, 0.01489943079650402, 0.013552119955420494, -0.003717078361660242, 0.04351864010095596, 0.07432903349399567, -0.020958811044692993, -0.019165227189660072, 0.0542696937918663, 0.01701164059340954, 0.05987339839339256, -0.024113968014717102, -0.05591155216097832, 0.003587272483855486, 0.009496699087321758, 0.029396429657936096, -0.04890121892094612, 0.017354454845190048, -0.012556557543575764, -0.027545636519789696, -0.026594677940011024, -0.0203944593667984, -0.034903571009635925, 0.025418782606720924, -0.01925632730126381, 0.01808270998299122, -0.02499423734843731, -0.04915964603424072, 0.03784197196364403, -0.0323764830827713, -0.004042585846036673, 0.001821979763917625, 0.003113704500719905, 0.026164015755057335, 0.013434547930955887, -0.07055550068616867, -0.027589980512857437, -0.00939615536481142, 0.05339379236102104, 0.04948083683848381, -0.031310610473155975, 0.0003857246192637831, -0.05231288820505142, 0.055781297385692596, -0.009836658835411072, -0.027015283703804016, 0.04179362580180168, 0.05318298190832138, 0.05018337070941925, -0.0015936457784846425, 0.001250404748134315, -0.026463264599442482, 0.02037636563181877, 0.023483389988541603, -0.029558459296822548, 0.040035080164670944, -0.04789261147379875, -0.058627091348171234, -0.03116818703711033, -0.00042049758485518396, 0.014603218995034695, -0.03216126933693886, -0.005589958280324936, 0.06628748029470444, -0.04350085183978081, 0.015123574994504452, -0.038549210876226425, -0.03070537932217121, -0.008094116114079952, -0.009396190755069256, 0.012871761806309223, -0.020081201568245888, 0.03145045414566994, -0.006790107116103172, -0.02939341776072979, -0.09662415087223053, -0.003075062995776534, -0.023967815563082695, -0.019627472385764122, 0.009186889044940472, -0.013348300941288471, 0.0011196238920092583, 0.04896671324968338, -0.004806309938430786, -0.020943153649568558, 0.03598214313387871, 0.015399687923491001, -0.05422596260905266, -0.0064698378555476665, 0.07115378230810165, -0.035831939429044724, -0.0005090662743896246, 0.014280525967478752, 0.0066014621406793594, -0.04953097552061081, -0.02169152908027172, 0.03597573935985565, 0.0216925460845232, -0.04392745718359947, 0.007636633701622486, -0.031586162745952606, 0.02064693719148636, 0.028934376314282417, 0.015252231620252132, 0.013684342615306377, -0.05032145604491234, 0.028078241273760796, -0.017125345766544342, -0.0036059957928955555, 0.011734611354768276, 0.047007180750370026, -0.0004738426941912621, -0.015609726309776306, -0.007188375107944012, 0.006994013208895922, 0.01175424549728632, -0.036829739809036255, -0.04468922317028046, -0.030052820220589638, 0.025593549013137817, -0.0019538316410034895, 0.03423525393009186, -0.048280056565999985, -0.009859276935458183, -0.0010208792518824339, -0.007983666844666004, -0.022412870079278946, -0.04129395633935928, 0.06024036183953285, 0.03096303902566433, 0.008749835193157196, -0.012026915326714516, -0.0399201475083828, 0.0036009633913636208, 0.023318657651543617, 0.01868494786322117, 0.005733632016927004, 0.0038209669291973114, 0.042781658470630646, 0.01440686360001564, 0.03702092543244362, -0.03153010085225105, -0.06311022490262985, 0.03028717450797558, -0.023983467370271683, 0.027863172814249992, -0.0017011476447805762, 0.07672853767871857, 0.02611422725021839, -0.008652365766465664, -0.016658669337630272, 0.014680986292660236, -0.03007562831044197, -0.0008840655791573226, 0.03341233730316162, -0.010104898363351822, 0.02856934256851673, 0.0007214432116597891, 0.0295257605612278, -0.04457155615091324, 0.009310383349657059, -0.0043184151872992516, -0.019466528668999672, -0.06953853368759155, -0.019330091774463654, 0.023588471114635468, 0.0008990451460704207, 0.00564507907256484, 0.00401631323620677, -0.04550571367144585, 0.011102322489023209, -0.0109770642593503, -0.011468447744846344, 0.05772193521261215, 0.014596360735595226, 0.030649449676275253, 0.0031101321801543236, 0.012377523817121983, 0.019724052399396896, 0.023073388263583183, -0.026157476007938385, -0.027121800929307938, -0.043501097708940506, 0.03728659823536873, 0.042914338409900665, -0.0279090516269207, 0.016857029870152473, -0.052972014993429184, -0.00945388525724411, -0.01779421791434288, 0.019137946888804436, 0.0626954436302185, -0.008423255756497383, -0.014669857919216156, 0.014916274696588516, -0.012775852344930172, -0.04363936185836792, -0.029945317655801773, 0.028727583587169647, -0.046650826930999756, -0.04216068610548973, 0.01313786767423153, -0.021826863288879395, -0.013682182878255844, -0.0017181875882670283, 0.01152459904551506, 0.027309345081448555, 0.02949300967156887, -0.017996765673160553, -0.04049186408519745, -0.013604221865534782, -0.0653429701924324, 0.01835811138153076, 0.008668401278555393, 0.007242333609610796, 0.01567651703953743, -0.014912376180291176, 0.0032328448724001646, -0.02157232165336609, -0.008288515731692314, -0.004861649125814438, 0.015751395374536514, 0.05159173905849457, 0.00694637093693018, -0.0064337411895394325, -0.01062117051333189, -0.023287510499358177, 0.025689471513032913, 0.021541720256209373], metadata={'block_type': 'Author Names', 'section_title': 'Retrieval-Augmented Generation for Knowledge-Intensive NLP Tasks', 'description': 'Lists the names of authors, potentially with affiliations indicated by symbols.', 'file_type': 'application/pdf', 'languages': \"['eng']\", 'page_number': 1, 'filename': 'Retrieval-Augmented Generation for Knowledge-Intensive NLP Tasks.pdf', 'authors': 'Patrick Lewis,Ethan Perez,Aleksandra Piktus,Fabio Petroni,Vladimir Karpukhin,Naman Goyal,Heinrich KÃ¼ttler,Mike Lewis,Wen-tau Yih,Tim RocktÃ¤schel,Sebastian Riedel,Douwe Kiela', 'research_lab': 'Facebook AI Research,University College London,New York University', 'publication_year': 2020, 'title': 'Retrieval-Augmented Generation for Knowledge-Intensive NLP Tasks'}, excluded_embed_metadata_keys=['title'], excluded_llm_metadata_keys=['authors', 'research_lab'], relationships={<NodeRelationship.NEXT: '3'>: RelatedNodeInfo(node_id='5_Retrieval-Augmented Generation for Knowledge-Intensive NLP Tasks.pdf', node_type=None, metadata={}, hash=None)}, text=\"Patrick Lewis'?, Ethan Perez*,\", mimetype='text/plain', start_char_idx=None, end_char_idx=None, text_template='{metadata_str}\\n\\n{content}', metadata_template='{key}: {value}', metadata_seperator='\\n')"
      ]
     },
     "execution_count": 46,
     "metadata": {},
     "output_type": "execute_result"
    }
   ],
   "execution_count": 46
  },
  {
   "metadata": {
    "ExecuteTime": {
     "end_time": "2024-09-01T08:17:08.377472Z",
     "start_time": "2024-09-01T08:17:08.356208Z"
    }
   },
   "cell_type": "code",
   "source": [
    "# Guardar la lista de objetos a un archivo\n",
    "with open('embeded_nodes.pkl', 'wb') as outp:  # 'wb' para escribir en modo binario\n",
    "    pickle.dump(embeded_nodes, outp, pickle.HIGHEST_PROTOCOL)"
   ],
   "id": "55b1d3a2b536fbcf",
   "outputs": [],
   "execution_count": 47
  },
  {
   "metadata": {
    "ExecuteTime": {
     "end_time": "2024-08-31T20:25:16.146609Z",
     "start_time": "2024-08-31T20:25:16.118352Z"
    }
   },
   "cell_type": "code",
   "source": [
    "# Leer la lista de objetos desde un archivo\n",
    "with open('embeded_nodes.pkl', 'rb') as inp:  # 'rb' para leer en modo binario\n",
    "    loaded_objects_list = pickle.load(inp)\n",
    "loaded_objects_list[0]"
   ],
   "id": "2e9e437aaa58fc6c",
   "outputs": [
    {
     "data": {
      "text/plain": [
       "TextNode(id_='8ac390ca-3ea4-4bae-b4a2-16b1de584638', embedding=[-0.040346380323171616, -0.022464128211140633, -0.05197039991617203, 0.0053776707500219345, -0.0019971011206507683, 0.0013902459759265184, 0.017468459904193878, 0.024134838953614235, 0.04877280816435814, -0.010017641820013523, -0.030863329768180847, -0.027494480833411217, 0.023229127749800682, 0.013211933895945549, 0.0018636994063854218, -0.021698765456676483, 0.006273228675127029, 0.053895555436611176, -0.0625259280204773, -0.002528643235564232, 0.0072318012826144695, -0.033708736300468445, 0.006138769444078207, -0.047183841466903687, -0.021933559328317642, -0.04295714572072029, 0.05227678641676903, -0.022620609030127525, -0.004851000849157572, -0.006953277625143528, 0.022087588906288147, 0.0642944946885109, 0.015330696478486061, 0.010571449995040894, -0.004879107233136892, 0.05753064900636673, -0.024754401296377182, 0.027319954708218575, 0.02849961631000042, -0.09810864180326462, -0.053667403757572174, 0.013946483843028545, -0.023741140961647034, 0.03641634061932564, -0.04174719750881195, -0.027934961020946503, -0.01388198509812355, 0.08127208054065704, -0.07511822879314423, 0.07405975461006165, 0.013652411289513111, -0.02185610868036747, -0.0778825432062149, 0.0050972760654985905, -0.030438898131251335, 0.03588292747735977, -0.07231242954730988, -0.022972898557782173, 0.009812179021537304, 0.0032175248488783836, 0.02430065907537937, -0.009072229266166687, -0.04765164479613304, -0.01826561614871025, 0.031714774668216705, -0.06869398802518845, -0.003252992406487465, 0.010030820034444332, -0.06747415661811829, 0.05413248389959335, 0.008437090553343296, 0.015079347416758537, -0.032506342977285385, 0.056741129606962204, -0.024129102006554604, -0.06585395336151123, 0.03053176775574684, -0.039428409188985825, 0.029388757422566414, 0.039926815778017044, -0.016101514920592308, 0.047201212495565414, 0.1108238622546196, 0.0071509480476379395, 0.05272647365927696, 0.027213573455810547, 0.05740169435739517, -0.037218254059553146, -0.02053886093199253, -0.0396103672683239, 0.07039336860179901, -0.031655777245759964, -0.020495064556598663, 0.020990941673517227, 0.06589382886886597, -0.04335278645157814, -0.07627701759338379, -0.05575869604945183, 0.03608550503849983, 0.03254794329404831, -0.03667440637946129, -0.015579425729811192, -0.004232249688357115, -0.04519170522689819, 0.023282790556550026, 0.07401926070451736, -0.00974169559776783, -0.015773165971040726, -0.05948369950056076, 0.022366872057318687, -0.007581687066704035, -0.017674801871180534, -0.004300005733966827, 0.004728598985821009, 0.00895193126052618, -0.03708895295858383, -0.03908363729715347, -0.01952529139816761, -0.0038524281699210405, 0.011964203789830208, -0.03940591588616371, 0.0676717460155487, -0.01485616248100996, 0.08131103962659836, 0.00905646663159132, -0.020458370447158813, 0.01656380109488964, -0.04010756313800812, -0.03577771782875061, -0.02144768089056015, 0.1014602854847908, -0.0445934496819973, -0.041875697672367096, -0.005802696105092764, -0.031707558780908585, -0.04221215844154358, 0.036381401121616364, 0.014158021658658981, -0.0013932406436651945, -0.0131224999204278, 0.016281619668006897, -0.03624675050377846, -0.0567038469016552, -0.010060918517410755, 0.016624659299850464, -0.012755588628351688, -0.011214052326977253, 0.013846540823578835, 0.028678489848971367, 0.03853447362780571, -0.019517363980412483, -0.05831938609480858, 0.05181523412466049, 0.01691153272986412, -0.05022097006440163, -0.010970140807330608, 0.02377348579466343, -0.03475824370980263, 0.04372382536530495, -0.0070103611797094345, 0.037657756358385086, -0.012874303385615349, 0.038207314908504486, -0.024890165776014328, -0.044210873544216156, -0.029001425951719284, 0.038904037326574326, 0.007591357920318842, -0.0026665017940104008, 0.043452899903059006, 0.013202349655330181, -0.025882534682750702, -0.07420384883880615, -0.02398987114429474, 0.0424734391272068, 0.009274059906601906, -0.008732430636882782, -0.007922609336674213, 9.437026164960116e-05, -0.0016382207395508885, 0.1030648797750473, 0.004276365507394075, -0.048384133726358414, -0.058320410549640656, 0.0026879962533712387, -0.05705305188894272, 0.02009851485490799, 0.026869678869843483, 0.07668081670999527, 0.024202575907111168, -0.006494731642305851, -0.039702750742435455, 0.048364948481321335, -0.027749648317694664, -0.007705166004598141, -0.025546731427311897, 0.01784856989979744, -0.08340378850698471, -0.03771720081567764, -0.036941803991794586, 0.04983512684702873, -0.010405536741018295, 0.020824093371629715, 0.0004332906974013895, 0.0026180099230259657, 0.005015309900045395, -0.060431431978940964, -0.04451608657836914, 0.020256182178854942, 0.04166049137711525, -0.04496792331337929, -0.012686270289123058, 0.004191623069345951, -0.09020425379276276, -0.014215070754289627, 0.01126172672957182, 0.031172819435596466, 0.020414821803569794, 0.07566110044717789, -0.053935714066028595, 0.006030006799846888, 0.0037109963595867157, -0.03618071228265762, 0.030985740944743156, 0.03532100468873978, 0.01868627406656742, -0.029075907543301582, 0.034518491476774216, 0.03457771614193916, -0.08302561193704605, 0.00548436027020216, -0.010038445703685284, 0.05509832501411438, 0.021874042227864265, -0.01778200827538967, 0.016977133229374886, 0.03653118386864662, 0.023700891062617302, -0.01606316678225994, 0.003445814363658428, -0.0018862051656469703, 0.0590394102036953, 0.03457990661263466, -0.053979724645614624, 0.015041990205645561, 0.039875902235507965, 0.03670590743422508, 0.009364946745336056, 0.027097435668110847, -0.05994969606399536, -0.01162717305123806, -0.022207463160157204, -0.012987150810658932, 0.004165584687143564, -0.07420895993709564, -0.04797714576125145, 0.002439902862533927, 0.00028696050867438316, -0.03848780691623688, -0.03344261646270752, 0.020943092182278633, 0.010914508253335953, -0.011177648790180683, -0.10778477042913437, -0.03502687066793442, -0.04736921563744545, -0.030315417796373367, 0.0050623249262571335, 0.03595632687211037, 0.01653873361647129, 0.02890900894999504, -0.04524023085832596, -0.0339771993458271, -0.026722991839051247, -0.04065878689289093, 0.001023086253553629, 0.007836557924747467, 0.02169378474354744, -0.013311720453202724, -0.030748559162020683, 0.1032882109284401, 0.012067950330674648, -0.07185068726539612, -0.04379213973879814, 0.05684622377157211, -0.09209179878234863, 0.0057464707642793655, 0.021547537297010422, -0.017398545518517494, -0.033208683133125305, 0.04346026852726936, 0.013534018769860268, -0.024204576388001442, -0.03249487653374672, 0.033600836992263794, 0.012166034430265427, 0.003565909806638956, 0.025025319308042526, -0.03383417800068855, 0.00662766769528389, 0.017618197947740555, 0.03372477367520332, 0.002580697648227215, 0.07620369642972946, 0.015002463944256306, 0.014988971874117851, -0.029801663011312485, -0.03409625217318535, -0.11140833795070648, 0.004758446477353573, 0.04801127687096596, 0.020410925149917603, -0.004577420186251402, -0.02048310823738575, -0.0015089972876012325, -0.029419923201203346, -0.1693873256444931, 0.025942139327526093, 0.02357093058526516, -0.009907890111207962, -0.02361501194536686, 0.018865549936890602, -0.024176573380827904, 0.019905181601643562, 0.01717422530055046, 0.007637356873601675, 0.03161590173840523, 0.016626892611384392, 0.045500826090574265, 0.052822574973106384, 0.0277327261865139, -0.012817682698369026, 0.009723059833049774, -0.05490861460566521, -0.009078333154320717, -0.022759055718779564, -0.0075874789617955685, 0.04295619949698448, 0.07606878131628036, 0.0026503882836550474, 0.026170488446950912, 0.033282119780778885, 0.0676514208316803, 0.030646003782749176, -0.02046320214867592, -0.01969726011157036, -0.05208028107881546, -0.013055127114057541, 0.040157023817300797, 0.02863576076924801, 0.0047695995308458805, 0.01894247718155384, 0.045891642570495605, -0.04652203992009163, -0.02740294300019741, 0.0022879280149936676, 0.03544880822300911, -0.013466248288750648, -0.021987956017255783, -0.003010143293067813, 0.013470910489559174, 0.018652813509106636, -0.012763685546815395, 0.024589885026216507, -0.044856488704681396, -0.037990204989910126, 0.039799559861421585, 0.03833442181348801, -0.018347125500440598, 0.006009772419929504, 0.03147762268781662, 0.042674630880355835, 0.023624848574399948, -0.01587265357375145, 0.02019505761563778, 0.01819581724703312, 0.012425468303263187, 0.040907613933086395, -0.004381678067147732, -0.015522276982665062, 8.891067409422249e-05, -0.1097964495420456, 0.04604632407426834, -0.030623577535152435, -0.01822764426469803, 0.0968053862452507, -0.06867825239896774, -0.004078343510627747, 0.013877253979444504, 0.01037338562309742, -0.013483116403222084, 0.0243926253169775, -0.010896221734583378, 0.05179883539676666, -0.008341263979673386, 0.02851574309170246, -0.011298834346234798, 0.03854560852050781, -0.008206442929804325, 0.005771971773356199, 0.011901339516043663, -0.01103740744292736, 0.03792860731482506, -0.05024239793419838, 0.012945078313350677, -0.04030561447143555, 0.0550733283162117, 0.021223681047558784, 0.010332136414945126, 0.0008514468790963292, -0.02096862904727459, -0.013622966594994068, -0.007013548165559769, 0.006369285751134157, -0.053936269134283066, 0.003488754853606224, 0.055430397391319275, -0.03530656546354294, -0.004487860947847366, 0.02576957270503044, 0.007564403582364321, -1.1044086022593547e-05, 0.05360261723399162, 0.033113993704319, -0.0015659165801480412, -0.06123942881822586, 0.008502421900629997, -0.05354369059205055, 0.024813229218125343, 0.016810446977615356, -0.026379156857728958, 0.07578959316015244, -0.01494402252137661, 0.015418504364788532, 0.009713148698210716, 0.06397689878940582, 0.014738863334059715, 0.003127404721453786, -0.002789450343698263, 0.03497998043894768, 0.027231767773628235, -0.025881102308630943, 0.01421562023460865, 0.01278175599873066, -0.013278867118060589, 0.07700997591018677, 0.05032509192824364, 0.002341928891837597, 0.02039916254580021, -0.08069746196269989, 0.054405730217695236, 0.025958919897675514, -0.013628369197249413, -0.05140289291739464, -0.08915740996599197, 0.007542824372649193, 0.04776078462600708, -0.0012630693381652236, -0.030002472922205925, -0.010305637493729591, -0.05876234546303749, -0.030672123655676842, 0.062169332057237625, 0.014615565538406372, -0.023262040689587593, -0.017632273957133293, -0.011805026791989803, 0.035278260707855225, -0.03668946400284767, 0.020339922979474068, 0.06077810749411583, 0.008011897094547749, 0.035130735486745834, 0.02115464210510254, -0.07756675034761429, -0.00010439883772050962, 0.030515480786561966, 0.021596336737275124, 0.04157150909304619, -0.033110350370407104, 0.022473637014627457, 0.010240715928375721, -0.044022854417562485, 0.04320339858531952, -0.019690999761223793, 0.003047749400138855, -0.050133876502513885, 0.022394387051463127, 0.04541425406932831, 0.004126702900975943, 0.04731275886297226, 0.01850728876888752, -0.07583283632993698, 0.011084807105362415, -0.022254271432757378, 0.018368005752563477, 0.034752584993839264, -0.057686757296323776, 0.0015526886563748121, 0.05732372775673866, -0.0012457029661163688, 0.045536186546087265, -0.02209334634244442, -0.03900773823261261, -0.05742564797401428, 0.018158812075853348, -0.04364898055791855, -0.011929243803024292, 0.0029603743460029364, 0.013616496697068214, 0.08886949717998505, -0.02849755994975567, -0.010816083289682865, -0.0071410187520086765, -0.0011550614144653082, 0.013270695693790913, -0.0397016778588295, 0.016206812113523483, -0.08285003155469894, 0.031188063323497772, -0.004223767202347517, -0.029707815498113632, 0.016446027904748917, -0.0005102457944303751, -0.017287477850914, -0.02423095889389515, 0.016025470569729805, -0.005070585757493973, 0.029628464952111244, -0.020721668377518654, -0.03973573446273804, 0.09132643789052963, 0.045545876026153564, -0.008243134245276451, 0.0032901421654969454, 0.06264570355415344, 0.061493437737226486, -0.010634680278599262, 0.031171446666121483, -0.005122629459947348, 0.01489943079650402, 0.013552119955420494, -0.003717078361660242, 0.04351864010095596, 0.07432903349399567, -0.020958811044692993, -0.019165227189660072, 0.0542696937918663, 0.01701164059340954, 0.05987339839339256, -0.024113968014717102, -0.05591155216097832, 0.003587272483855486, 0.009496699087321758, 0.029396429657936096, -0.04890121892094612, 0.017354454845190048, -0.012556557543575764, -0.027545636519789696, -0.026594677940011024, -0.0203944593667984, -0.034903571009635925, 0.025418782606720924, -0.01925632730126381, 0.01808270998299122, -0.02499423734843731, -0.04915964603424072, 0.03784197196364403, -0.0323764830827713, -0.004042585846036673, 0.001821979763917625, 0.003113704500719905, 0.026164015755057335, 0.013434547930955887, -0.07055550068616867, -0.027589980512857437, -0.00939615536481142, 0.05339379236102104, 0.04948083683848381, -0.031310610473155975, 0.0003857246192637831, -0.05231288820505142, 0.055781297385692596, -0.009836658835411072, -0.027015283703804016, 0.04179362580180168, 0.05318298190832138, 0.05018337070941925, -0.0015936457784846425, 0.001250404748134315, -0.026463264599442482, 0.02037636563181877, 0.023483389988541603, -0.029558459296822548, 0.040035080164670944, -0.04789261147379875, -0.058627091348171234, -0.03116818703711033, -0.00042049758485518396, 0.014603218995034695, -0.03216126933693886, -0.005589958280324936, 0.06628748029470444, -0.04350085183978081, 0.015123574994504452, -0.038549210876226425, -0.03070537932217121, -0.008094116114079952, -0.009396190755069256, 0.012871761806309223, -0.020081201568245888, 0.03145045414566994, -0.006790107116103172, -0.02939341776072979, -0.09662415087223053, -0.003075062995776534, -0.023967815563082695, -0.019627472385764122, 0.009186889044940472, -0.013348300941288471, 0.0011196238920092583, 0.04896671324968338, -0.004806309938430786, -0.020943153649568558, 0.03598214313387871, 0.015399687923491001, -0.05422596260905266, -0.0064698378555476665, 0.07115378230810165, -0.035831939429044724, -0.0005090662743896246, 0.014280525967478752, 0.0066014621406793594, -0.04953097552061081, -0.02169152908027172, 0.03597573935985565, 0.0216925460845232, -0.04392745718359947, 0.007636633701622486, -0.031586162745952606, 0.02064693719148636, 0.028934376314282417, 0.015252231620252132, 0.013684342615306377, -0.05032145604491234, 0.028078241273760796, -0.017125345766544342, -0.0036059957928955555, 0.011734611354768276, 0.047007180750370026, -0.0004738426941912621, -0.015609726309776306, -0.007188375107944012, 0.006994013208895922, 0.01175424549728632, -0.036829739809036255, -0.04468922317028046, -0.030052820220589638, 0.025593549013137817, -0.0019538316410034895, 0.03423525393009186, -0.048280056565999985, -0.009859276935458183, -0.0010208792518824339, -0.007983666844666004, -0.022412870079278946, -0.04129395633935928, 0.06024036183953285, 0.03096303902566433, 0.008749835193157196, -0.012026915326714516, -0.0399201475083828, 0.0036009633913636208, 0.023318657651543617, 0.01868494786322117, 0.005733632016927004, 0.0038209669291973114, 0.042781658470630646, 0.01440686360001564, 0.03702092543244362, -0.03153010085225105, -0.06311022490262985, 0.03028717450797558, -0.023983467370271683, 0.027863172814249992, -0.0017011476447805762, 0.07672853767871857, 0.02611422725021839, -0.008652365766465664, -0.016658669337630272, 0.014680986292660236, -0.03007562831044197, -0.0008840655791573226, 0.03341233730316162, -0.010104898363351822, 0.02856934256851673, 0.0007214432116597891, 0.0295257605612278, -0.04457155615091324, 0.009310383349657059, -0.0043184151872992516, -0.019466528668999672, -0.06953853368759155, -0.019330091774463654, 0.023588471114635468, 0.0008990451460704207, 0.00564507907256484, 0.00401631323620677, -0.04550571367144585, 0.011102322489023209, -0.0109770642593503, -0.011468447744846344, 0.05772193521261215, 0.014596360735595226, 0.030649449676275253, 0.0031101321801543236, 0.012377523817121983, 0.019724052399396896, 0.023073388263583183, -0.026157476007938385, -0.027121800929307938, -0.043501097708940506, 0.03728659823536873, 0.042914338409900665, -0.0279090516269207, 0.016857029870152473, -0.052972014993429184, -0.00945388525724411, -0.01779421791434288, 0.019137946888804436, 0.0626954436302185, -0.008423255756497383, -0.014669857919216156, 0.014916274696588516, -0.012775852344930172, -0.04363936185836792, -0.029945317655801773, 0.028727583587169647, -0.046650826930999756, -0.04216068610548973, 0.01313786767423153, -0.021826863288879395, -0.013682182878255844, -0.0017181875882670283, 0.01152459904551506, 0.027309345081448555, 0.02949300967156887, -0.017996765673160553, -0.04049186408519745, -0.013604221865534782, -0.0653429701924324, 0.01835811138153076, 0.008668401278555393, 0.007242333609610796, 0.01567651703953743, -0.014912376180291176, 0.0032328448724001646, -0.02157232165336609, -0.008288515731692314, -0.004861649125814438, 0.015751395374536514, 0.05159173905849457, 0.00694637093693018, -0.0064337411895394325, -0.01062117051333189, -0.023287510499358177, 0.025689471513032913, 0.021541720256209373], metadata={'block_type': 'Author Names', 'section_title': 'Retrieval-Augmented Generation for Knowledge-Intensive NLP Tasks', 'description': 'Lists the names of authors, potentially with affiliations indicated by symbols.', 'file_type': 'application/pdf', 'languages': \"['eng']\", 'page_number': 1, 'filename': 'Retrieval-Augmented Generation for Knowledge-Intensive NLP Tasks.pdf', 'authors': 'Patrick Lewis,Ethan Perez,Aleksandra Piktus,Fabio Petroni,Vladimir Karpukhin,Naman Goyal,Heinrich KÃ¼ttler,Mike Lewis,Wen-tau Yih,Tim RocktÃ¤schel,Sebastian Riedel,Douwe Kiela', 'research_lab': 'Facebook AI Research,University College London,New York University', 'publication_year': 2020, 'title': 1}, excluded_embed_metadata_keys=['title'], excluded_llm_metadata_keys=['authors', 'research_lab'], relationships={<NodeRelationship.NEXT: '3'>: RelatedNodeInfo(node_id='5_Retrieval-Augmented Generation for Knowledge-Intensive NLP Tasks.pdf', node_type=None, metadata={}, hash=None)}, text=\"Patrick Lewis'?, Ethan Perez*,\", mimetype='text/plain', start_char_idx=None, end_char_idx=None, text_template='{metadata_str}\\n\\n{content}', metadata_template='{key}: {value}', metadata_seperator='\\n')"
      ]
     },
     "execution_count": 18,
     "metadata": {},
     "output_type": "execute_result"
    }
   ],
   "execution_count": 18
  },
  {
   "metadata": {
    "ExecuteTime": {
     "end_time": "2024-09-01T08:17:08.440183Z",
     "start_time": "2024-09-01T08:17:08.397154Z"
    }
   },
   "cell_type": "code",
   "source": "index = VectorStoreIndex(nodes)",
   "id": "58671a7cd80cab12",
   "outputs": [],
   "execution_count": 48
  },
  {
   "metadata": {
    "ExecuteTime": {
     "end_time": "2024-09-01T08:17:08.770804Z",
     "start_time": "2024-09-01T08:17:08.458061Z"
    }
   },
   "cell_type": "code",
   "source": "index.storage_context.persist(persist_dir='./data/index/vector_index_prueba')",
   "id": "9f18907e261be47e",
   "outputs": [],
   "execution_count": 49
  },
  {
   "metadata": {
    "ExecuteTime": {
     "end_time": "2024-09-01T08:17:08.815471Z",
     "start_time": "2024-09-01T08:17:08.801576Z"
    }
   },
   "cell_type": "code",
   "source": "index.docstore.get_all_document_hashes()",
   "id": "7b3cb1b2f907bfc2",
   "outputs": [
    {
     "data": {
      "text/plain": [
       "{'c7a67bf299e9f30b6345fb604cfe42e055d73e7b1d177c74851ca15ef16bd5aa': 'c04e9272-4df6-4ef1-9349-f24acbdcdea2',\n",
       " 'e78fa67bf26b0d43dd8c990a0745feb5c4d98482dc66efcb48521dc16f044f94': '5f6d0882-e6fa-4ca6-9c0e-b27e5cc60257',\n",
       " 'de423cb2d6bb54bb3927444af930185a1cb028eb8720355829cccf598b865199': '9a6ccc62-89a3-48a9-a5ba-f5becd646dae',\n",
       " 'dedc44887d5b7120a2854a3bdfda9fe69f3675129770dd50c395d55de8a995f1': '36f747b9-1eed-423e-80ca-3a5b5c671e65',\n",
       " '046999e201589f407f019aca31e9a43c467c5465f6b2a450c85793e89ac587f7': '5f36ca8a-7fb4-416e-adba-90d260946cb8',\n",
       " '13a5c006c843644dcf84674f67678183a0ff0726a7d1516c9496be527e0e50a8': '48372a60-e0b7-47de-bc49-44ba335e9777',\n",
       " 'c1da6b74efb96221f58945ef96d75f642cd200ac500e6fe360d5865dd058e3e5': '74f5a4fe-a96a-476b-8745-1bcd809ea25a',\n",
       " '3a98e6bf14a7c3f374e1a7c733b7e2beb7490db7ec71a2667f56dffa0d9e1ddf': '630b2e4e-43f6-49bc-a6c5-9cb6e804c4e7',\n",
       " '3feb9b9c7bd8f4aa46bc3a9a88a08e19e8dbccaef9be01f04d6e1c041151b64a': '5af91994-7b8b-4608-a960-6063b6bf6f3e',\n",
       " '548e59649c19112cbe40973dd3a3182d7d85f433b12fcca95eddc3e3953aea8d': '64af359d-a24a-4804-868c-aeae5169530e',\n",
       " 'df00c13bfd69d526715f048ec732c1d16155e582a4b92a86e826dc18a23ffecf': '521d4427-b6f1-4e85-adc9-6578993e8d10',\n",
       " '2c0eb6aee9332d8e7cf0245dfa4bdc6167e8fabd7a22f78c9e87ceeccdf43657': 'dadca37b-2fdb-4bc2-b574-e3a839cdae5b',\n",
       " '1d7ea6bcf1fdb22c1977d0e875bec236417f80916b409aafd5c2e32c90434ec4': '2390f02f-6776-4007-91d1-45e9e738f4cb',\n",
       " '7395ab6bb1da0a30e5714671d51ccab4bbf75a7d804634c2a8ec900e9b0e6caa': '26d9a44a-365a-41d2-a376-b3c7df45fc87',\n",
       " '30b84beb4024cc17b1c5e70b1d813aaeac7d14573c0c299c9ffb5bd3e7cd869c': '2eaed3ce-f86b-49b3-926e-c8ef002fa0ba',\n",
       " 'a0f90bd3f3cd763a622aa49c6557fae36f5771df8a1ee303fed51795c359153d': '048880df-5c34-405b-8257-e224085e34a5',\n",
       " 'b03490072c1918921f594e92d85f4dda9fb9d95a1f969e17735d8844e59a07e0': 'e9f6a5d5-551a-4153-9130-61192c18d2d4',\n",
       " 'cdcde9afd7e4e41f06f85eea11b894e9cab7b48b59c81ae4d071f628780e0c9c': '269caf8b-c90b-4026-930a-e8f22f8a8c9b',\n",
       " '7f938a753067c1c0ced8d6625902b80287cd81cc7182590fbd1fca162fa03513': '7bda05df-95df-4feb-a7de-db405526b483',\n",
       " 'a62100923079712e9f688b9be3aabda18bf41369ecd8af80c185398123ed29e8': '114a126a-72eb-422b-bb8a-6081dcba8a16',\n",
       " '9c2a23091958f3eaf6723855b1ce5678bcd307b77a25fbb8d063d841a2f675e5': '97e83e46-87fc-4f96-ae38-10ef527dc083',\n",
       " '301f89a45547f773f9ec187a611612fc01987a955b84ba08ce41ed57d5aac310': '97284c42-aa4c-4c45-9270-f436192bd7c5',\n",
       " '701eca99e1128a6f527c2cbcc6324302cc3a62112bc24069d8e9797835757957': 'c3bd1689-0a81-4b60-812e-ad9f3ed57d46',\n",
       " '27a38e147f18e95e1c9f5f21e303d3dd4080fb288affce43f3387e213d7c37ca': '48b71e09-63b2-40a9-913f-6c814028e732',\n",
       " 'a98cdcd69a525fb21936ddd4b91b6544bcef8e1410830848db79add572a8871c': 'c479ae7a-1dce-45a3-ac72-77e64c2b9ba6',\n",
       " 'dfa91fdd64a4c3c4a28d07fa3c2b74caea2d0a923ed2c6b1e21e9345003e979a': 'b1ee48b4-deed-4f67-8393-9cfde3d517d2',\n",
       " '253cd05529858c3a74f4900894a2780aea3ddd34e38fb0ff12e5dc1276f6fb42': '93c15542-c82b-4948-b1fe-72b04eb108a8',\n",
       " 'd98b88d6b4ea8ad163a9e6b406d324e72b360e8c52dffdd2e2b431183e6c99d7': 'b1a084b6-5725-4b4a-9c3f-4f1e0919d6e9',\n",
       " '354a3832789b723385f5e4ed6fbb89f2ffadd7e00762cc8572a4c0b87e403a28': '49e46b28-79c8-4d51-b17a-d934456cbae8',\n",
       " '0f015b451e9071e76c68f7eeddebd3a398e6dfe7ca571bcba684db55ac92773d': '7f97e17e-dabf-4c27-bcc0-8ddcf230ea81',\n",
       " '91b49d951b44f6bf0a103ba117ac5972e10a73d3b5230e0d64f96f193f39e9d0': 'd28a6aac-99c9-4c49-9217-5c434de864c1',\n",
       " 'd7f7c2213aea1838b2903880686ca145c3a2252c2bc6696998cf12604aa6064f': '2919b7bd-cf88-4d68-953e-b9727588972d',\n",
       " '3e931f8772e6531e0ac69cacf772b09fdfe57a7ea3344103e5956e2db03b50a2': '93bdc05c-3da9-4008-a767-aa5526e4d90d',\n",
       " '7c204aef7de0782f508b2c378f0d25d0b59cd59cbfefd670f263539c0b932a0c': '008e21c9-1dc4-49cd-925f-dc791dc8648f',\n",
       " '0f27131eb23837bf9714081c71592fa9ae968d78951b662dc724be3b115034ba': '192f2a29-7f2b-4b83-8d92-3149a8348859',\n",
       " '3ad48846a9ed1ed734dff75f67a3fb6426395e27447b69ca4ff62bdadf7a416d': '5d6b306d-1ae2-4953-b6f2-69c7aca26bdd',\n",
       " 'a9e361ab4694786fdd979fba4205274edd6381d18359225bd3469e736447a102': 'f6e90e32-b5ed-42c9-97c2-35328e144841',\n",
       " '9c4b299b6e4ff3fef0c5fa1e9372628117d08d89b0da0b4c088e691780d255a2': 'bd3ae41d-7b72-4585-8a17-3cd1b34079bb',\n",
       " '3dbae0478cd425abb8777552ac5e2fbb9d6d48967226f1c7d3b3539cf97438ff': 'b14832e0-b7ed-48be-af87-958a8f7a7a0f',\n",
       " '65b3016ccbde16fc8d293d33f322983f710398146c044c34fd4e7c2196ca0e55': '1e61327d-79ba-40a2-81dd-248ed97917a0',\n",
       " '942b68fa433a58a1fe91a4081374406134f16ebb277dc5d62bc95c5539c6248d': '1bdd23b9-955a-4cca-8a10-de1e74abf4c7',\n",
       " '9e3fbc8c236a9247c67d0692173bd2779877feb66019ced969f0765437fc3484': '71663f80-7231-4186-aa3d-7ff7c573a4c5',\n",
       " 'fa8d7da6fa3d40a6c6a6a0c2623a2b93c54a4cfb5ed78be4bf5271912521d7a4': '9bf9710c-505b-4c3f-b313-582a64b477f1',\n",
       " 'b643b38c4102e1dc76b058526a6f81a191b86df850932eb8b82d9f6608943fcb': '87f77034-fb89-4541-b145-85747ec9e9da',\n",
       " '23f8e4c87f47745a1d07f26eecfb0a353d283e4f38f06f71412bc19164c917f5': 'b6b76dd5-122c-4a18-b1f4-5f0a0e3f2748',\n",
       " '5a9a87782d353fcffa0db25ff2fbbd5b14b0dcb53fc0878ec6e809944719137a': 'c094da6f-4324-48c1-ac0a-7cda97cf454a',\n",
       " 'e89dfbdcb0926bf45aae8ea3d395329d1340d224774293c0480d0ae7e06e5c82': '2b35e309-08dd-4a07-b9fd-32060fbfc471',\n",
       " '7b7cc86d32db20f409e6dcb6166bd730c73bb3865bcc98c89c0af78c27446b5e': 'f09fbf3c-cba3-4ca2-aa04-fb6928d2f95b',\n",
       " 'abec98a56cbaec97950115980a7579edcf3677dc8463d5a5e4ed5b08649543ec': '37111699-0435-4871-b347-4dcff6c68163',\n",
       " '4558ce41dfd15b2b6dcdabfd2f13cec1da1c98d7a11ea1feee50cdb6646733da': '2fc45267-b768-405e-b569-39fa81217d45',\n",
       " 'bf4d507d77f50ade182a4216a6c81d9864ec28f34c01888cfb8998ca70779581': '3e02abc6-c287-48cb-85e6-a3cf88e344ec',\n",
       " 'bf7e341fef1f05ee54f9171657e59744cc050b74ebe6ffa58ca967a8297f9e2b': 'd02a5226-0582-49b7-b4ed-3852c31ca4f8',\n",
       " '9fb7917ffeea5477497d381f082540f4baecd1b3f2145e2540a1297d7dd70f9a': '8c64fff4-d841-4c2f-b9a3-b2c1eb1d229b',\n",
       " '8418076e037f8453b5dfc37bd6d608aa418e718b6dc48cb2e1364845089a9943': 'a81dd64c-d1a1-44fe-b407-17d2b20054c5',\n",
       " '4bbca45a50c41a0f62194bc7f0fd43631986d831e0a11836d1fd23ca748a9489': '5cd252b9-3145-4aea-a851-6efd78b97d00',\n",
       " '7212b12bfddad21aec45527f7d8f2c8687838cf85b0be26a62dc36ad55cb4407': '1e1e8a99-9975-487c-8581-3a19a4a77637',\n",
       " '5c04d8b5bd7e7986351f19f7a8afd73f7e0d59df7cd1f1afcdff251475f625ea': 'a92ef8c0-aead-4628-a73e-52a377facad4',\n",
       " '8a2daa9e8855399fb8cdae38d45e99f3b392e885a8c28854ead08145a7780dc4': 'cac233e4-4170-4c68-9c12-4584f8f3deeb',\n",
       " 'd22128005a17efd376a1c0d19f6dd72d18a4a53d749d74c19a05d1a3eb79e0a9': '31340688-697a-4858-8d7b-7e54c829a5c4',\n",
       " '53a9f9e35e248391288c6d292dddbd5a707dc8bb4c4f9363c15906c0629f3adf': 'ee7a7cf4-f45c-4f8a-8d32-b5e2e65d2191',\n",
       " '3c358028aacf94b4bf4f536a2c377e70a29aa5f52dd4957bf5037eea069ace6a': 'db51054e-9b2c-4d05-b0f9-268f88391d1b',\n",
       " '633a9136eef85d4e8232373ebc0248b2348e1aa8f9703f145bfd59aa1ae05e44': '547fa2da-b60b-4795-b17f-c518e1d5a339',\n",
       " '17fdac8e5bcc6bb6146208158000f2863a3be1bc8581186d0d881faba69c1cba': 'da348f26-e45b-4d20-8489-2ff7fd215937',\n",
       " '48615737b53cbcb40e85392b6da5b41d2b2471b4f50482d09577491abfaa5379': '418b3d97-7c82-492e-9743-804954511a9f',\n",
       " 'cc73881c4daf42c13bbe47c46358d4a0593094d8d1c94cf8ed6b9da05b6967fc': '6079f479-d70f-4093-af27-78fcd395ea61',\n",
       " 'b6e290dd0d6670b3fb239bd705890c733b52663e874e11cc0dfb5d3d7ba851b7': '93b4085d-88f6-4fdc-8857-a91bd346f5e8',\n",
       " 'f9a273487d2839b6913d19f716b64dde4fc1cac40b2bb459e16015494a16cffb': 'a8e6c363-3464-41b1-8ebc-1101b6d0f7c0',\n",
       " '62ca0498358f8897d2e3a929a2ee99917b0270e0454b0686a0358e05f0954a09': '3a6ef2c7-a505-4fa9-a571-7e8fcf727424',\n",
       " '4e3a899d16c2491ab0d7af9224ea51a3b23226b574c292ad0da1feae1405441e': 'a2e6176b-aa9a-4376-8113-1e6215b14735',\n",
       " '39b5269e582ab280b8085952a71c2cfd225e24e3b0f4e785577cd6649fb88805': '99239151-159c-4589-915f-d5179eeb39ef',\n",
       " '6424cdefe7831d71a3341210957e6521e630c239ecd17fe6a40bee906d551e6c': 'e85f7f5c-d43f-4c55-b92e-1dc56fdc7ef1',\n",
       " '85f465377b10ddc40d92b60f6e09c6524950eaab9cb073de82da9fef780171d9': 'a79ed667-e6b8-4158-984d-9a0312370556',\n",
       " '6f6e439813a0a201e8c50965c5c397ed59b07e9f0622b7771800cd465b131394': '0db70bca-9d67-4cff-9661-6c98318f2428',\n",
       " '5a72a0ea952f6970a2004d1639eca05be08f0617caf4a8a221ec40cf4390ba1e': 'a3d736a2-a1f7-4c13-8855-4d641b8b3cb3',\n",
       " 'c500c0db323792bc2553c79b1419e6d292bb47d46ea698df87ada7751e6a2545': 'c601a835-3d2e-47b2-b163-daf0413ddd81',\n",
       " '58ee7eb38879e03e0b1bc33cdc836659d59ff57e11437c049d31a88a1d28362e': '302fe505-a3e2-473e-a6d9-3df813a72ac7',\n",
       " '1b89b7278df5de130e8a72d9a051ffb4adaabebfd0c909bffe584b32f982951d': '236185b2-2fc7-42bd-b4bf-5c854604973d',\n",
       " '6eeb9bbeefe138ee41934a8c61db7c005bc9680e8dff1a9373bc2424fb3839e5': '9fb2862f-fe64-48c3-945d-4e061dda160e',\n",
       " 'a1dbb6dc577b9dc42faa11fb5c7a27d4ce65dcdf9164b9e29d7bd3fd85bb2f61': 'd9e963a7-b2ff-436e-90d5-3ec103d92e04',\n",
       " 'd0d0ba4aed875b2e933c7dbcf0cec7b9c1aece4d538a10e7f3aecc69bbafa569': '63aa606a-66da-4564-8c22-756ca493da87',\n",
       " '5087e389c2caf3742b05ea1169096efd06382d41da65ac225d1fe611f70084f6': '8e5fe1d7-da7a-4a8b-9b56-2ea99a76f584',\n",
       " '5fda39c9fdedd49470766cffac58c665015df6633bb077717b6c2cce4d631605': 'ff3c03c4-9c8f-42ac-9899-e7f0ab773f6b',\n",
       " '18d9903581e285be36239a02ee461c74f03b4f3d1c7b77c7292131db0a53d3c8': '5f12ca62-2d0b-4e86-a05a-b8a5ad9e56c5',\n",
       " 'c92c7b04041df90ed384002c5c77341bf4cce4fe4d43df3cd907041f1ab6acf1': '167bcd0a-33bd-4570-92e2-68e8e793f66b',\n",
       " '07c33b546d0b43d12d19319cb8f2f0b7f872c883bf3d133e37f7b72a38d9fc19': '96592315-b8e0-471f-8570-9115a978e1a5',\n",
       " '7eeca0371fb21cb3b064c16cec3ee46df38e41b19e1c2302607fd28eac6af5c6': '43c94c2b-9b41-4b36-95c3-c0e11b1dc776',\n",
       " '32bc75c92c532a4a30f89c8c9536f6244953f45d492804cf7be37802dd84a9e5': '6e9f0d7a-8a8b-4121-9fb4-2d64cc9b2e10',\n",
       " 'b56d665711114e99c35e807272dd179325664f6223fa01c5e0cd11e18cef146d': 'e664718d-25f8-4772-b584-137e5cd685a2',\n",
       " '19cbd3cfe061a790d3d09dc28c2cc271f9b243eda498273f17d7da5aa2458ed9': 'b1b86ab3-263a-4dae-b6e0-3cbdaa149b1d',\n",
       " '40c3f5f1782843fca73f4da021b0d39aee2dde7248ec8f3da8e6528ffbf3ae65': '0f8f2846-4fae-4204-8efd-e33c337bad23',\n",
       " '85f400302a30a79a2dd58344b0cf220d3b2c6f79c6e4ebebc9b4e1243c3b6974': 'abb188a3-54af-4b09-93c5-912b63bb5e13',\n",
       " '5904e82f0296a3739bd5ef9dbf6d68fcce0c70041f9982acb1d47a49905669a7': '67d85674-699c-45a4-a521-8c47ba598629',\n",
       " '592ebb03ee725aef5c66bc6cf3ba51529b86bdfc07be491231e74b24e1dee580': '49c4e73d-3e95-473a-aed6-45e35726fe95',\n",
       " 'e54b3b616b27edf4d7a2c194e5dff3a39f9b8538797b6d7628acc38eba3a6b42': '11221978-074b-47f0-aaf2-534fe90a2724',\n",
       " '0b8da1b031d89b6a9a6417801bb8df18540231b416d552f4f1f9920728bfdc5c': 'e59204f7-9a28-4244-bf29-29e8a9061f72',\n",
       " 'ccfc620ddb784dcf0f7f5783a4fc2c2c84fa104f5a47dcbb6611d8f45d34d3f5': '12bbad3f-6854-4000-b2a9-4d1045f7b729',\n",
       " 'bbc34745a008784b732cd4dadef4f476701ccea941f58eb6ad6702b2de6a9740': '1a249b08-9ba6-40ac-ac7d-d96a14aad2f2',\n",
       " 'fa8a45f3104f9319b5da7f4efe069d19917ce62eeb4d85227597c6f2aa88f283': '442f8c9c-301d-4377-9889-0276f86aa7d2',\n",
       " 'b7bd55ea2aa317237cebcff6cbe5b37c745d8d82955075d82eaaa2ba831fb8b6': '03ba9b1a-e3a3-4eb9-87c4-46624b529675',\n",
       " 'a9e648de175db47f4bd14898ee7ee72e2dc66931568391f17e4c7a82dd143c69': 'bed8fe1a-8d6b-4f41-a25e-9f3a7d616ef4',\n",
       " '2ba882120d1529beaba64a64f830d99da649987151502ea15989714a980e83fa': 'ac25a55b-7ef8-42d5-b7ee-2eaf80d37760',\n",
       " 'a5ec85fb1f45a2ca044e3756cecb3860fcfd8df625c15b8b7d8d3a04724363b5': '7bbe9b5f-91bf-4b5a-9b00-bb91e24546ec',\n",
       " 'd065193314df6bdf7b720fb37ae93efb215741c39983b5387b022a46f3756fcf': '5a360940-9194-429f-a08c-6d04c1fde978',\n",
       " '3a7c407175cfc3fa59c7f57d90666dbebf069e059e02e07f6df4665f02dba71d': '92db3c95-bea3-4ea5-a36d-b19fea7717eb',\n",
       " 'b7a6a63617bcf7c345672acfabcdd715f399cfcf0f2988f0b5d07cc2716a24c9': '4825394d-5aec-4639-9534-e8d923436161',\n",
       " 'e35d9cb191bc95529a3652d8825db907b442f0b44bf91baa2dac71476a629e6b': 'd5f720a5-652b-43dc-859f-ae341119806c',\n",
       " 'cf5d9f0024913ae1a72e6f945936d5df6f83189cc0e8f13abb6f70e36680d663': 'c846f389-9d19-42be-827e-48eff2117c91',\n",
       " 'b49f4ac1dc70cb5890408488b36436758c588f14553d99f374ca5845b7012974': '105b2518-4b8b-4b9e-99c6-8ac1d103add7',\n",
       " '956eaac329418e08efc7a71ac53d9b3092f28192cc4ec08dad6500cfccedcc59': '550911b2-af19-4b0e-b8a1-03f26a3a7234',\n",
       " 'a0348ceb435a876e399cdc601d905eee3b23d4945c90f4d3572c54ac0db4b47d': 'bfbaa8a4-b4d9-4143-a49c-d8875f99b2eb',\n",
       " '084e6846f0573099d7dffe64afb8d3bd29094df95fb471666047fa1b9e8a9e7e': 'b03e396b-bc0c-486f-8fd5-ca8fc6ad39d8',\n",
       " 'a1cb7f8614197413e055ce5abf4572fe11915e127896a4201839abec97b3ee68': 'a9983b38-0e2a-43fb-b98a-a871561d2c52',\n",
       " '4595bd2927e065d7252af6de4960fc845a49b1cdb64b56a1f972a0ca4469011a': 'b325d74a-3b84-4e74-b0b0-64fd0d24caeb',\n",
       " 'ff2a4420989b13075926519e70f486a55df007cc1c0d56b461d3a77f1da5d6d7': '3a3fe521-354c-479b-9b8e-d3852f380f7f',\n",
       " 'c6ca28f21f30115bef4652bce32185f1229e8818eb1a79a88a2b8e37b4c5ea84': '30c64cfc-8c60-4539-ba85-ffa7a9260373',\n",
       " 'e2215aa658c50fce7fcb825b298002b7021d09783fd870b354682ec9f0d73d1f': 'cb36be3c-3d75-48f0-94e8-e7f97adffbaf',\n",
       " 'e25100b9693660255eb3dd240b030506100f613e71f4a221be59b0777f45e25f': 'c6eb1d29-35ab-42a9-af74-9b72056a5770',\n",
       " 'fef2889246451780ceaff2a8390aebb87b49b23cee3404b8a9a1bc711774d3ba': 'c4e37c4d-b31e-4a33-b656-e1a4a53e7c40',\n",
       " '0590c11cde5986048eeeeaabd0806b250bd23f034253b1aa60ec7313f76c05dc': '01d4a7ba-affb-4087-9005-837c1cb6dcd6',\n",
       " 'c99300354976769d960b7e5957119a5bbf434c5015f1c1babde47732a4579569': '6f723c92-0299-48a1-b20c-2b6cb922a4e4',\n",
       " 'ed81a7c28b99082a49c53dcbd71236e7e249f5cc88f3a5da90341943d1f437e1': 'e47bb5dc-9599-4252-9eef-2c3571ce25d3',\n",
       " '44a6af75b7c803784db216db1212894626f905c24dfa9fe23f3c97cf73fb42dd': '8606adb4-dbb9-42df-9ac2-c6faf96f1d17',\n",
       " '02fbbffae3da8d2850a963ffe8263e66a10ab1d838935bfa8c3d71175ec6f95d': '791c75d8-3fd0-4360-920f-b57d1e4e0af7',\n",
       " '3c56760838538cfa1250724ea6383c36d22460b55f1ba09939a66aa212f90b3f': '3ccfe271-dfe0-4a3a-8b17-6fb43cf4b38b',\n",
       " 'd88d515cdb64cb11a4725877a61cdd2d34a1220ba9fafbbf978e2e607bf0a715': '0e8b13fe-78e4-4623-b3c5-e486f2c33e03',\n",
       " '6414675f4d586e5f21c606bfdce367dc2c5f8d889fe75aafe2bcee9c48f6cfce': '3eff183e-c1c2-4448-8ded-a0bde6e1f411',\n",
       " 'bddd788d50702dc752068b7894c8f0083c2d4188fd17b3936438e75c3d567b13': 'ae45e902-1f9e-44b2-a178-1907b4a74bb2',\n",
       " '613d632ee663a4bdbeafef1555b52c4c7e9a30219b19b67f5fee68133bf83305': '14ffe1fa-a6fc-4317-8460-8441dd1a0d44',\n",
       " '8abce9e5e6fa4696dc53ffd7990ca21cb54ef610e33a6e16e798c7b64dff52ba': '95943dce-a4d8-44f8-a15b-0c17ecc0d3d6',\n",
       " 'c3b30def31868b893d403fa3b17ae91f1522ba968fee95c3d8fd1289005d538b': '9cc2e826-ab16-44ed-b983-e04876d1b454',\n",
       " '24a9bf192d1532c9faef03ec0b13833900a72d09cab3c4cdd26fd1d1bf24b465': 'eb658d75-11ce-4100-bcde-b7fca3dec3c2',\n",
       " 'e7a3e7604ed0e31abede32190aedc74292087439a8c89c3dc0dc4699b8ff135a': 'a141aaa2-3da9-4f0c-9fd4-825d17969733',\n",
       " '4da4b65016dad8407bd38d0ee92ebe46d611386c03b3a594212c63578df40f8e': '288f77c6-6239-4689-8116-50dc44e697d2',\n",
       " '84a09a13040fd28b06395a5728fbec1bc013a1c46b9a9907e44814f3da1894e5': '2771637b-322c-4b9a-964d-9b12e3a59562',\n",
       " '87bfa91533d0d0039c793ec2e97fefd5de85311062d8f786bbf07206d2fe8b4b': '61f29dd7-6988-49b9-b889-1ae945973550',\n",
       " '19c63d50fa5b9012a32a2a047d02fc06343cf968fadc49136be99469a187591d': '4b473c35-3c5d-4a12-a755-48cc9f6c8c72',\n",
       " 'd9f0fd582b7550d236d8a144556e8c325e89e6fd158ac00db2562e74deb76c3c': 'f585cd34-1f11-48ac-a481-4f7f6b3ba0de',\n",
       " 'dc5d829ee61df25a7907fb90a0fb0c46782dc146803f14ee5e4387ad917419a0': '37bf7a5b-9a21-4e0d-becf-c97fd42314b9',\n",
       " '36c7b8d949044e94bc809173553ff1b3f6b77dc05c7c956cb9dbfca46a3df975': '09c4b3d5-76e1-4b53-9914-0c891cc2c4d7',\n",
       " 'c913c948c72b83df5d819890ef02578adc4067dd9e422b958372a894440750cd': 'd23e40c9-c6cd-4415-94d3-c757bcd04997',\n",
       " 'dd0091a1d5e8234388de901185e5fdbe7102d9c431af202112c6b54c6d97142d': '914e7fa1-c11a-4dd0-b79c-27beafb691a0',\n",
       " '805c1396ea1b5a99a3a053f80754a80be813dcb3f5eb60deae65464225ed16f5': 'c76db60e-fc0e-4f36-933d-156e323dba7f',\n",
       " '93285f6ae34b99bab30fce497111bf397a4855f2b6a7ad92ce0726beb8037df1': '5aff5489-0834-408d-ae47-64229f6385f7',\n",
       " 'bb3265845864b4f733947ac02524f773069d71884c71853f9d0df8144cc01bfb': 'c55b0959-4139-43ee-a337-193e2650c3ee',\n",
       " '26d41c56e2c9f50a3d2bf41a96f5e2792132aa83e26c41853963850f87be3d9f': 'a93972e1-bc8e-47c7-930d-5f50d6619efb',\n",
       " '0f2c2aee4e9ce519e81ba1244564b563d57e160f613c5aa24b67877c57329d6e': '954af643-3a3a-4dc7-9b76-2907dafd6752',\n",
       " '240704cb380dce46294dad730aa12995e9648eea0222f3d92eb844e87e0af7e7': 'cdea9ec7-6585-4a69-82d2-f9d686726267',\n",
       " 'c853a3a4a4294a06fda8ee8db9ae7e0829f119c349f03339ef25f0381bc34eae': 'e6f6b87e-40b1-49de-be81-1ddc139939af',\n",
       " '036b6369c940e4306013edb7bc79f0636652469fbce81a2fffc538886e1739d3': '7709ac0c-695f-423a-8556-36c1706bee8a',\n",
       " '338ce4a7ad4d95b453cb68f1f7b9fa1241878c8b4cd642ec3e49eb1652bc09dc': '038640b8-b1ff-4e1d-b19a-ede86025010b',\n",
       " '38c40ad92bdcb714cb41970b90d06f3eaf097db315da18640fbeba8a11fac85d': '01e16ebb-c030-4eca-83ba-512ce67a6cc2',\n",
       " '70d0283c6b3ff55db2d464135969954310bc9352d37a88eda2631a0ea9beafad': '3926e345-e28e-4d06-b925-3109c292b0d5',\n",
       " '0daa874afa7cdebc6499a06b74eccbc22ea15e458cdfd00a644787392fbdbef6': 'dddd5170-1e7b-482d-8b20-7771c2dfdc59',\n",
       " 'c7bc9e491d0ec7b7420dc1caa79683cb817d4880083150484144602ff84c44f7': '01f6591a-6628-4016-b428-39d08a86240c',\n",
       " '1642042943a99f8de41e7dfc0640e033fa86e4d4d8f0da5baf5d417e396816c0': '1001875d-3d83-423b-9818-948bfb67eb2f',\n",
       " '4d3c04d9f32e39bcc4f5079875ac84bffdf962685387eed3de8cdaaa83eab265': 'd2acb819-3a1d-4ef1-aa8e-4f6ca0ab569e',\n",
       " '0441a60d2d9fa31946f1d51d5ef37b8f316bfc5de85298d49a75cf1521d52a19': 'd16d465b-a966-426f-ab0d-edd3995b6e4a',\n",
       " '38488b3b75e4a89f0985c89876a167591e94d04bdee38e52daa703f4ef64912a': '377ec6d2-d9f4-4a77-8f79-8c48ba38647e',\n",
       " 'cf0327a7289a8088f6328fee9d5e120caf4bbab8e6f2ae725f4b4feeae334208': 'd3fc8886-2d86-40e2-be54-f37422e67c1a'}"
      ]
     },
     "execution_count": 50,
     "metadata": {},
     "output_type": "execute_result"
    }
   ],
   "execution_count": 50
  },
  {
   "metadata": {
    "ExecuteTime": {
     "end_time": "2024-09-01T08:17:08.868100Z",
     "start_time": "2024-09-01T08:17:08.860606Z"
    }
   },
   "cell_type": "code",
   "source": "index.docstore.get_all_ref_doc_info()",
   "id": "2aed02b0b79ddffe",
   "outputs": [
    {
     "data": {
      "text/plain": [
       "{}"
      ]
     },
     "execution_count": 51,
     "metadata": {},
     "output_type": "execute_result"
    }
   ],
   "execution_count": 51
  },
  {
   "metadata": {
    "ExecuteTime": {
     "end_time": "2024-09-01T08:17:31.835361Z",
     "start_time": "2024-09-01T08:17:31.829777Z"
    }
   },
   "cell_type": "code",
   "source": "index.docstore.get_document('d3fc8886-2d86-40e2-be54-f37422e67c1a')",
   "id": "f83cc7816620728c",
   "outputs": [
    {
     "data": {
      "text/plain": [
       "TextNode(id_='d3fc8886-2d86-40e2-be54-f37422e67c1a', embedding=None, metadata={'block_type': 'NarrativeText', 'section_title': 'I Number of instances per dataset', 'description': 'This sentence describes the content of Table 7, indicating it shows the number of data points for training, development, and testing in each dataset used.', 'file_type': 'application/pdf', 'languages': \"['eng']\", 'page_number': 19, 'filename': 'Retrieval-Augmented Generation for Knowledge-Intensive NLP Tasks.pdf', 'authors': 'Patrick Lewis,Ethan Perez,Aleksandra Piktus,Fabio Petroni,Vladimir Karpukhin,Naman Goyal,Heinrich KÃ¼ttler,Mike Lewis,Wen-tau Yih,Tim RocktÃ¤schel,Sebastian Riedel,Douwe Kiela', 'research_lab': 'Facebook AI Research,University College London,New York University', 'publication_year': 2020, 'title': 'Retrieval-Augmented Generation for Knowledge-Intensive NLP Tasks'}, excluded_embed_metadata_keys=['title'], excluded_llm_metadata_keys=['authors', 'research_lab'], relationships={<NodeRelationship.PREVIOUS: '2'>: RelatedNodeInfo(node_id='220_Retrieval-Augmented Generation for Knowledge-Intensive NLP Tasks.pdf', node_type=None, metadata={}, hash=None)}, text='The number of training, development and test datapoints in each of our datasets is shown in Table 7.', mimetype='text/plain', start_char_idx=None, end_char_idx=None, text_template='{metadata_str}\\n\\n{content}', metadata_template='{key}: {value}', metadata_seperator='\\n')"
      ]
     },
     "execution_count": 54,
     "metadata": {},
     "output_type": "execute_result"
    }
   ],
   "execution_count": 54
  },
  {
   "metadata": {
    "ExecuteTime": {
     "end_time": "2024-09-01T08:27:38.540983Z",
     "start_time": "2024-09-01T08:27:38.537640Z"
    }
   },
   "cell_type": "code",
   "source": "retriver = index.as_retriever(similarity_top_k=5)",
   "id": "6dc6f964cb93594e",
   "outputs": [],
   "execution_count": 70
  },
  {
   "metadata": {
    "ExecuteTime": {
     "end_time": "2024-09-01T08:28:50.633432Z",
     "start_time": "2024-09-01T08:28:50.392004Z"
    }
   },
   "cell_type": "code",
   "source": [
    "r = retriver.retrieve('what is rag system?')\n",
    "for x in map(lambda x: (x.text, x.score), r):\n",
    "    print(x[0], x[1], sep='\\n', end='\\n\\n')"
   ],
   "id": "8f3830c48c867933",
   "outputs": [
    {
     "name": "stdout",
     "output_type": "stream",
     "text": [
      "To train the retriever and generator end-to-end, we treat the retrieved document as a latent variable. We propose two models that marginalize over the latent documents in different ways to produce a distribution over generated text. In one approach, RAG-Sequence, the model uses the same document to predict each target token. The second approach, RAG-Token, can predict each target token based on a different document. In the following, we formally introduce both models and then describe the pη and pθ components, as well as the training and decoding procedure.\n",
      "0.5721262892645856\n",
      "\n",
      "RAG-Token Model In the RAG-Token model we can draw a different latent document for each target token and marginalize accordingly. This allows the generator to choose content from several documents when producing an answer. Concretely, the top K documents are retrieved using the retriever, and then the generator produces a distribution for the next output token for each document, before marginalizing, and repeating the process with the following output token, Formally, we deﬁne:\n",
      "0.5701183627508022\n",
      "\n",
      "We endow pre-trained, parametric-memory generation models with a non-parametric memory through a general-purpose ﬁne-tuning approach which we refer to as retrieval-augmented generation (RAG). We build RAG models where the parametric memory is a pre-trained seq2seq transformer, and the non-parametric memory is a dense vector index of Wikipedia, accessed with a pre-trained neural retriever. We combine these components in a probabilistic model trained end-to-end (Fig. 1). The retriever (Dense Passage Retriever [26], henceforth DPR) provides latent documents conditioned on the input, and the seq2seq model (BART [32]) then conditions on these latent documents together with the input to generate the output. We marginalize the latent documents with a top-K approximation, either on a per-output basis (assuming the same document is responsible for all tokens) or a per-token basis (where different documents are responsible for different tokens). Like T5 [51] or BART, RAG can be ﬁne-tuned on any seq2seq task, whereby both the generator and retriever are jointly learned.\n",
      "0.5686008517020532\n",
      "\n",
      "We train all RAG models and BART baselines using Fairseq [45].2 We train with mixed precision ﬂoating point arithmetic [40], distributing training across 8, 32GB NVIDIA V100 GPUs, though training and inference can be run on one GPU. We ﬁnd that doing Maximum Inner Product Search with FAISS is sufﬁciently fast on CPU, so we store document index vectors on CPU, requiring ∼ 100 GB of CPU memory for all of Wikipedia. After submission, We have ported our code to HuggingFace Transformers [66]3, which achieves equivalent performance to the previous version but is a cleaner and easier to use implementation. This version is also open-sourced. We also compress the document index using FAISS’s compression tools, reducing the CPU memory requirement to 36GB. Scripts to run experiments with RAG can be found at https://github.com/huggingface/transformers/ blob/master/examples/rag/README.md and an interactive demo of a RAG model can be found at https://huggingface.co/rag/\n",
      "0.5667561942583553\n",
      "\n",
      "1Code to run experiments with RAG has been open-sourced as part of the HuggingFace Transform- ers Library [66] and can be found at https://github.com/huggingface/transformers/blob/master/ examples/rag/. An interactive demo of RAG models can be found at https://huggingface.co/rag/\n",
      "0.5666635846914078\n",
      "\n"
     ]
    }
   ],
   "execution_count": 73
  },
  {
   "metadata": {
    "ExecuteTime": {
     "end_time": "2024-09-01T08:39:35.769827Z",
     "start_time": "2024-09-01T08:39:32.179881Z"
    }
   },
   "cell_type": "code",
   "source": [
    "from llama_index.llms.vertex import Vertex\n",
    "from llama_index.core import VectorStoreIndex, get_response_synthesizer\n",
    "\n",
    "llm = Vertex(model=\"gemini-1.5-pro-001\")\n",
    "Settings.llm = llm\n",
    "llm.complete(\"Hello this is a sample text\").text"
   ],
   "id": "a6280091abdfac9",
   "outputs": [
    {
     "data": {
      "text/plain": [
       "'Please provide me with more context or information about what you would like me to do with the sample text \"Hello this is a sample text\". \\n\\nFor example, do you want me to:\\n\\n* Analyze the sentiment of the text?\\n* Translate it into another language?\\n* Identify the grammatical structure of the sentence?\\n* Use it as a starting point for a story?\\n\\nOnce I understand your goal, I can be more helpful. 😊 \\n'"
      ]
     },
     "execution_count": 76,
     "metadata": {},
     "output_type": "execute_result"
    }
   ],
   "execution_count": 76
  },
  {
   "metadata": {
    "ExecuteTime": {
     "end_time": "2024-09-01T08:54:27.364568Z",
     "start_time": "2024-09-01T08:54:27.360720Z"
    }
   },
   "cell_type": "code",
   "source": "query_engine = index.as_query_engine(verbose=True)",
   "id": "6d27733f560c0a0",
   "outputs": [],
   "execution_count": 88
  },
  {
   "metadata": {
    "ExecuteTime": {
     "end_time": "2024-09-01T08:54:32.553422Z",
     "start_time": "2024-09-01T08:54:29.970628Z"
    }
   },
   "cell_type": "code",
   "source": "print(query_engine.query('what is rag system?').response)",
   "id": "f11e50deea198ebf",
   "outputs": [
    {
     "name": "stdout",
     "output_type": "stream",
     "text": [
      "This system uses retrieved documents to predict and generate text. It employs two different models, one that utilizes a single document for prediction and another that leverages multiple documents to produce an answer. \n",
      "\n"
     ]
    }
   ],
   "execution_count": 89
  },
  {
   "metadata": {
    "ExecuteTime": {
     "end_time": "2024-09-01T08:41:28.818877Z",
     "start_time": "2024-09-01T08:41:26.083113Z"
    }
   },
   "cell_type": "code",
   "source": "print(query_engine.query('Que es un sistema rag?').response)",
   "id": "4cb3bd38183d068b",
   "outputs": [
    {
     "name": "stdout",
     "output_type": "stream",
     "text": [
      "Es un sistema que combina un modelo de lenguaje pre-entrenado con una memoria no paramétrica, como un índice de documentos, para mejorar la generación de texto en tareas que requieren un conocimiento extenso. \n",
      "\n"
     ]
    }
   ],
   "execution_count": 80
  },
  {
   "metadata": {
    "ExecuteTime": {
     "end_time": "2024-09-01T08:42:22.632214Z",
     "start_time": "2024-09-01T08:42:21.430183Z"
    }
   },
   "cell_type": "code",
   "source": "print(query_engine.query('Dame titulos de documentos que tengas?').response)",
   "id": "d128d7d2672c9830",
   "outputs": [
    {
     "name": "stdout",
     "output_type": "stream",
     "text": [
      "Retrieval-Augmented Generation for Knowledge-Intensive NLP Tasks. \n",
      "\n"
     ]
    }
   ],
   "execution_count": 81
  },
  {
   "metadata": {
    "ExecuteTime": {
     "end_time": "2024-09-01T08:42:59.777214Z",
     "start_time": "2024-09-01T08:42:58.262848Z"
    }
   },
   "cell_type": "code",
   "source": "print(query_engine.query('Quienes son los autores de: Retrieval-Augmented Generation for Knowledge-Intensive NLP Tasks.').response)",
   "id": "3cbd541686eb3e04",
   "outputs": [
    {
     "name": "stdout",
     "output_type": "stream",
     "text": [
      "Mike Lewis, Wen-tau Yih, Tim Rocktäschel, Sebastian Riedel, y Douwe Kiela. \n",
      "\n"
     ]
    }
   ],
   "execution_count": 82
  },
  {
   "metadata": {
    "ExecuteTime": {
     "end_time": "2024-09-01T08:44:37.853430Z",
     "start_time": "2024-09-01T08:44:32.780590Z"
    }
   },
   "cell_type": "code",
   "source": "print(query_engine.query('Dame el bloque completo de informacion, donde diga que Mike Lewis, Wen-tau Yih, Tim Rocktäschel, Sebastian Riedel, y Douwe Kiela. son autores').response)",
   "id": "691e7791101d3b6e",
   "outputs": [
    {
     "name": "stdout",
     "output_type": "stream",
     "text": [
      "```json\n",
      "{\n",
      "  \"block_type\": \"Author Names\",\n",
      "  \"section_title\": \"Retrieval-Augmented Generation for Knowledge-Intensive NLP Tasks\",\n",
      "  \"description\": \"Lists the authors of the research paper.\",\n",
      "  \"file_type\": \"application/pdf\",\n",
      "  \"languages\": [\n",
      "    \"eng\"\n",
      "  ],\n",
      "  \"page_number\": 1,\n",
      "  \"filename\": \"Retrieval-Augmented Generation for Knowledge-Intensive NLP Tasks.pdf\",\n",
      "  \"publication_year\": 2020,\n",
      "  \"title\": \"Retrieval-Augmented Generation for Knowledge-Intensive NLP Tasks\",\n",
      "  \"authors\": \"Mike Lewis†, Wen-tau Yih†, Tim Rocktäschel†‡, Sebastian Riedel†‡, Douwe Kiela†\"\n",
      "}\n",
      "```\n",
      "\n"
     ]
    }
   ],
   "execution_count": 84
  },
  {
   "metadata": {
    "ExecuteTime": {
     "end_time": "2024-09-01T08:46:14.331811Z",
     "start_time": "2024-09-01T08:46:08.517052Z"
    }
   },
   "cell_type": "code",
   "source": "print(query_engine.query('Puedes resumir el articulo: Retrieval-Augmented Generation for Knowledge-Intensive NLP Tasks.').response)",
   "id": "8f27ab471cf65b3c",
   "outputs": [
    {
     "name": "stdout",
     "output_type": "stream",
     "text": [
      "Este artículo explora modelos de lenguaje que combinan memoria paramétrica y no paramétrica para la generación de lenguaje. Se enfoca en modelos RAG que usan un modelo pre-entrenado seq2seq como memoria paramétrica y un índice vectorial denso de Wikipedia como memoria no paramétrica, a la que se accede con un recuperador neuronal pre-entrenado. \n",
      "\n",
      "El artículo compara dos formulaciones RAG: una que se condiciona en los mismos pasajes recuperados a través de toda la secuencia generada y otra que puede usar diferentes pasajes por token. Los modelos RAG se evalúan en una amplia gama de tareas de PNL de uso intensivo de conocimiento, incluyendo tareas de preguntas y respuestas de dominio abierto y tareas de generación de lenguaje. \n",
      "\n",
      "Los resultados muestran que los modelos RAG superan a los modelos seq2seq paramétricos y a las arquitecturas de recuperación y extracción específicas de la tarea en las tareas de preguntas y respuestas. Para las tareas de generación de lenguaje, los modelos RAG generan un lenguaje más específico, diverso y fáctico que una línea de base seq2seq de última generación.\n",
      "\n"
     ]
    }
   ],
   "execution_count": 85
  },
  {
   "metadata": {
    "ExecuteTime": {
     "end_time": "2024-09-01T08:52:54.340514Z",
     "start_time": "2024-09-01T08:52:42.371132Z"
    }
   },
   "cell_type": "code",
   "source": "chat_engine = index.as_chat_engine(chat_mode=\"react\", verbose=True)",
   "id": "59ad59deb1721ea2",
   "outputs": [],
   "execution_count": 86
  },
  {
   "metadata": {
    "ExecuteTime": {
     "end_time": "2024-09-01T08:54:55.515804Z",
     "start_time": "2024-09-01T08:54:48.023180Z"
    }
   },
   "cell_type": "code",
   "source": [
    "response = chat_engine.chat(\"Hola soy Nicolas, me puedes dar informacion sobre el sistema RAG?\")\n",
    "print(response)"
   ],
   "id": "a8422be464d9cfb4",
   "outputs": [
    {
     "name": "stdout",
     "output_type": "stream",
     "text": [
      "> Running step d9a03862-25db-4afc-9163-5c66d81063b4. Step input: Hola soy Nicolas, me puedes dar informacion sobre el sistema RAG?\n",
      "\u001B[1;3;38;5;200mThought: The current language of the user is: Spanish. I need to use a tool to help me answer the question.\n",
      "Action: query_engine_tool\n",
      "Action Input: {'input': 'What is RAG?'}\n",
      "\u001B[0m\u001B[1;3;34mObservation: RAG is a method that enhances pre-trained generation models by adding a non-parametric memory component. This approach uses a retriever to fetch relevant documents based on the input and a generator that utilizes these documents along with the input to produce the output. \n",
      "\n",
      "\u001B[0m> Running step a5452aa1-d485-4292-8e34-23877a948d54. Step input: None\n",
      "\u001B[1;3;38;5;200mThought: I can answer without using any more tools. I'll use the user's language to answer\n",
      "Answer: Hola Nicolas, RAG son las siglas en inglés de \"Recuperación Aumentada de Generación\". Es un método que mejora los modelos de lenguaje pre-entrenados al proporcionarles acceso a información externa, como documentos o bases de datos. \n",
      "\n",
      "En lugar de depender únicamente de su conocimiento interno, un sistema RAG utiliza un componente de \"recuperación\" para encontrar información relevante en una fuente externa, y luego un componente de \"generación\" para sintetizar esa información en una respuesta coherente. \n",
      "\n",
      "En resumen, RAG permite que los modelos de lenguaje sean más precisos y completos al aprovechar información del mundo real.\n",
      "\u001B[0mHola Nicolas, RAG son las siglas en inglés de \"Recuperación Aumentada de Generación\". Es un método que mejora los modelos de lenguaje pre-entrenados al proporcionarles acceso a información externa, como documentos o bases de datos. \n",
      "\n",
      "En lugar de depender únicamente de su conocimiento interno, un sistema RAG utiliza un componente de \"recuperación\" para encontrar información relevante en una fuente externa, y luego un componente de \"generación\" para sintetizar esa información en una respuesta coherente. \n",
      "\n",
      "En resumen, RAG permite que los modelos de lenguaje sean más precisos y completos al aprovechar información del mundo real.\n"
     ]
    }
   ],
   "execution_count": 90
  },
  {
   "metadata": {
    "ExecuteTime": {
     "end_time": "2024-09-01T08:55:28.399281Z",
     "start_time": "2024-09-01T08:55:27.418259Z"
    }
   },
   "cell_type": "code",
   "source": "chat_engine.chat('Recuerdas como me llamo?')",
   "id": "1bf5dddbaae9738e",
   "outputs": [
    {
     "name": "stdout",
     "output_type": "stream",
     "text": [
      "> Running step 2b29f316-a369-4978-8a62-e8c42f0272fd. Step input: Recuerdas como me llamo?\n",
      "\u001B[1;3;38;5;200mThought: (Implicit) I can answer without any more tools!\n",
      "Answer: Sí, recuerdo tu nombre. Te llamas Nicolas. 😊 \n",
      "\n",
      "\u001B[0m"
     ]
    },
    {
     "data": {
      "text/plain": [
       "AgentChatResponse(response='Sí, recuerdo tu nombre. Te llamas Nicolas. 😊 \\n', sources=[], source_nodes=[], is_dummy_stream=False, metadata=None)"
      ]
     },
     "execution_count": 91,
     "metadata": {},
     "output_type": "execute_result"
    }
   ],
   "execution_count": 91
  },
  {
   "metadata": {
    "ExecuteTime": {
     "end_time": "2024-09-01T08:57:44.674946Z",
     "start_time": "2024-09-01T08:57:34.781271Z"
    }
   },
   "cell_type": "code",
   "source": [
    "chat_engine = index.as_chat_engine(chat_mode=\"context\", verbose=True)\n",
    "response = chat_engine.chat(\"Hola soy Nicolas, me puedes dar informacion sobre el sistema RAG?\")\n",
    "print(response)"
   ],
   "id": "560dd7f7a669703c",
   "outputs": [
    {
     "name": "stdout",
     "output_type": "stream",
     "text": [
      "¡Hola Nicolas! Con gusto te puedo dar información sobre el sistema RAG (Retrieval-Augmented Generation):\n",
      "\n",
      "**¿Qué es RAG?**\n",
      "\n",
      "RAG significa \"Generación Aumentada por Recuperación\". Es un nuevo enfoque en el Procesamiento del Lenguaje Natural (PNL) que combina la capacidad de recuperación de información de los motores de búsqueda con la generación de texto de los modelos de lenguaje. \n",
      "\n",
      "**¿Cómo funciona RAG?**\n",
      "\n",
      "En lugar de generar texto basándose únicamente en el conocimiento aprendido durante el entrenamiento, RAG primero busca en una base de datos de documentos relevantes al tema dado. Luego, utiliza la información de estos documentos para generar una respuesta más completa y precisa.\n",
      "\n",
      "**Ventajas de usar RAG:**\n",
      "\n",
      "* **Respuestas más precisas y completas:** Al acceder a información externa, RAG puede generar respuestas que van más allá de su conocimiento pre-entrenado.\n",
      "* **Mitigación de \"alucinaciones\":** Los modelos de lenguaje tradicionales a veces \"inventan\" información. RAG reduce este problema al basar sus respuestas en documentos reales.\n",
      "* **Adaptabilidad a nuevos dominios:** Al cambiar la base de datos de documentos, RAG puede adaptarse fácilmente a diferentes áreas de conocimiento.\n",
      "\n",
      "**Aplicaciones de RAG:**\n",
      "\n",
      "* **Sistemas de Preguntas y Respuestas:** Proporcionar respuestas precisas a preguntas complejas.\n",
      "* **Generación de resúmenes:** Resumir documentos extensos de manera concisa y precisa.\n",
      "* **Traducción automática:** Mejorar la calidad de la traducción al acceder a información contextual.\n",
      "* **Clasificación de texto:** Clasificar documentos en diferentes categorías.\n",
      "\n",
      "**Información adicional del texto que proporcionaste:**\n",
      "\n",
      "* Puedes encontrar el código fuente de RAG en el repositorio de HuggingFace Transformers: [https://github.com/huggingface/transformers/blob/master/examples/rag/](https://github.com/huggingface/transformers/blob/master/examples/rag/)\n",
      "* También hay una demostración interactiva de los modelos RAG disponible en: [https://huggingface.co/rag/](https://huggingface.co/rag/)\n",
      "\n",
      "Espero que esta información te sea útil. Si tienes alguna otra pregunta, no dudes en preguntar. \n",
      "\n"
     ]
    }
   ],
   "execution_count": 95
  },
  {
   "metadata": {
    "ExecuteTime": {
     "end_time": "2024-09-01T08:59:38.589696Z",
     "start_time": "2024-09-01T08:59:35.603691Z"
    }
   },
   "cell_type": "code",
   "source": [
    "chat_engine = index.as_chat_engine(chat_mode=\"condense_plus_context\", verbose=True)\n",
    "response = chat_engine.chat(\"Hola soy Nicolas, me puedes dar informacion sobre el sistema RAG?\")\n",
    "print(response)"
   ],
   "id": "fe4c4497f35d811e",
   "outputs": [
    {
     "name": "stdout",
     "output_type": "stream",
     "text": [
      "Condensed question: Hola soy Nicolas, me puedes dar informacion sobre el sistema RAG?\n",
      "Context: block_type: NarrativeText\n",
      "section_title: 2.1 Models\n",
      "description: Explains how RAG can be applied to sequence classification tasks by treating the target class as a single-length target sequence, making RAG-Sequence and RAG-Token equivalent in this context.\n",
      "file_type: application/pdf\n",
      "languages: ['eng']\n",
      "page_number: 3\n",
      "filename: Retrieval-Augmented Generation for Knowledge-Intensive NLP Tasks.pdf\n",
      "publication_year: 2020\n",
      "title: Retrieval-Augmented Generation for Knowledge-Intensive NLP Tasks\n",
      "\n",
      "Finally, we note that RAG can be used for sequence classiﬁcation tasks by considering the target class as a target sequence of length one, in which case RAG-Sequence and RAG-Token are equivalent.\n",
      "\n",
      "block_type: NarrativeText\n",
      "section_title: 2 Methods\n",
      "description: Describes open-source code for RAG experiments and provides links to the code repository and an interactive demo.\n",
      "file_type: application/pdf\n",
      "languages: ['eng']\n",
      "page_number: 2\n",
      "filename: Retrieval-Augmented Generation for Knowledge-Intensive NLP Tasks.pdf\n",
      "publication_year: 2020\n",
      "title: Retrieval-Augmented Generation for Knowledge-Intensive NLP Tasks\n",
      "\n",
      "1Code to run experiments with RAG has been open-sourced as part of the HuggingFace Transform- ers Library [66] and can be found at https://github.com/huggingface/transformers/blob/master/ examples/rag/. An interactive demo of RAG models can be found at https://huggingface.co/rag/\n",
      "Hola Nicolas! 👋 \n",
      "\n",
      "Claro que sí. El sistema RAG, o Retrieval-Augmented Generation, puede usarse para tareas de clasificación de secuencias. \n",
      "\n",
      "Un detalle interesante que encontré en el documento \"Retrieval-Augmented Generation for Knowledge-Intensive NLP Tasks\" es que en este tipo de tareas, RAG trata la clase objetivo como una secuencia objetivo de una sola longitud.  Esto hace que RAG-Sequence y RAG-Token sean equivalentes en este contexto. \n",
      "\n",
      "Espero que esta información te sea útil. 😊 \n",
      "\n"
     ]
    }
   ],
   "execution_count": 97
  },
  {
   "metadata": {
    "ExecuteTime": {
     "end_time": "2024-09-01T09:01:55.759125Z",
     "start_time": "2024-09-01T09:01:52.882081Z"
    }
   },
   "cell_type": "code",
   "source": [
    "\n",
    "response = chat_engine.chat(\"recuerdas como me llamo?\")\n",
    "print(response)"
   ],
   "id": "e2bd89c1cfd2d7d5",
   "outputs": [
    {
     "name": "stdout",
     "output_type": "stream",
     "text": [
      "Condensed question: Standalone question: ¿Cómo te llamas? \n",
      "\n",
      "Context: block_type: Image\n",
      "section_title: B Human Evaluation\n",
      "description: Figure 4: Annotation interface for human evaluation of factuality. A pop-out for detailed instructions and a worked example appear when clicking \"view tool guide\".\n",
      "file_type: application/pdf\n",
      "languages: ['eng']\n",
      "page_number: 17\n",
      "filename: Retrieval-Augmented Generation for Knowledge-Intensive NLP Tasks.pdf\n",
      "publication_year: 2020\n",
      "title: Retrieval-Augmented Generation for Knowledge-Intensive NLP Tasks\n",
      "\n",
      "This image shows a question from a survey or test. \n",
      "\n",
      "**Left side:**\n",
      "* Instructions: \"View full instructions\" and \"View tool guide\"\n",
      "* Note: Explains that some questions are control questions requiring accurate answers for responses to be accepted.\n",
      "* Task:  \"Indicate which one of the following sentences is more factually true with respect to the subject. Using the internet to check whether the sentences are true is encouraged.\"\n",
      "\n",
      "**Right side:**\n",
      "* Question: \"Which sentence is more factually true?\"\n",
      "* Subject: Hemingway\n",
      "* Sentence A: \"The Sun Also Rises\" is a novel by this author of \"A Farewell to Arms\"\n",
      "* Sentence B: This author of \"The Sun Also Rises\" was born in Havana, Cuba, the son of Spanish immigrants\n",
      "* Answer choices:\n",
      "    1. Sentence A is more true\n",
      "    2. Sentence B is more true\n",
      "    3. Both sentences are true \n",
      "    4. Both sentences are completely untrue\n",
      "\n",
      "block_type: Bibliography\n",
      "section_title: References\n",
      "description: Bibliographic entry citing a research paper about long-form question answering.\n",
      "file_type: application/pdf\n",
      "languages: ['eng']\n",
      "page_number: 11\n",
      "filename: Retrieval-Augmented Generation for Knowledge-Intensive NLP Tasks.pdf\n",
      "publication_year: 2020\n",
      "title: Retrieval-Augmented Generation for Knowledge-Intensive NLP Tasks\n",
      "\n",
      "[12] Angela Fan, Yacine Jernite, Ethan Perez, David Grangier, Jason Weston, and Michael Auli. ELI5: Long form question answering. In Proceedings of the 57th Annual Meeting of the Association for Computational Linguistics, pages 3558–3567, Florence, Italy, July 2019. Association for Computational Linguistics. doi: 10.18653/v1/P19-1346. URL https://www.aclweb.org/ anthology/P19-1346.\n",
      "¡Sí, claro que sí!  Te llamas Nicolas. 😊 \n",
      "\n"
     ]
    }
   ],
   "execution_count": 98
  },
  {
   "metadata": {
    "ExecuteTime": {
     "end_time": "2024-09-01T12:21:59.844623Z",
     "start_time": "2024-09-01T12:21:52.979199Z"
    }
   },
   "cell_type": "code",
   "source": [
    "streaming_response = chat_engine.stream_chat(\"Hola soy Nicolas, me puedes dar informacion sobre el sistema RAG?\")\n",
    "for token in streaming_response.response_gen:\n",
    "    print(token, end=\"\")"
   ],
   "id": "b1cd103d42f59f0f",
   "outputs": [
    {
     "name": "stdout",
     "output_type": "stream",
     "text": [
      "Condensed question: Standalone question: Hola, ¿me puedes dar información sobre el sistema RAG? \n",
      "\n",
      "Context: block_type: NarrativeText\n",
      "section_title: 4.1 Open-domain Question Answering\n",
      "description: This paragraph discusses the performance of the RAG model on open-domain question answering tasks, comparing it to other state-of-the-art models. It highlights RAG's advantages, such as its flexibility and strong results without needing specialized pre-training or components like re-rankers or extractive readers.\n",
      "file_type: application/pdf\n",
      "languages: ['eng']\n",
      "page_number: 5\n",
      "filename: Retrieval-Augmented Generation for Knowledge-Intensive NLP Tasks.pdf\n",
      "publication_year: 2020\n",
      "title: Retrieval-Augmented Generation for Knowledge-Intensive NLP Tasks\n",
      "\n",
      "Table 1 shows results for RAG along with state-of-the-art models. On all four open-domain QA tasks, RAG sets a new state of the art (only on the T5-comparable split for TQA). RAG combines the generation ﬂexibility of the “closed-book” (parametric only) approaches and the performance of \"open-book\" retrieval-based approaches. Unlike REALM and T5+SSM, RAG enjoys strong results without expensive, specialized “salient span masking” pre-training [20]. It is worth noting that RAG’s retriever is initialized using DPR’s retriever, which uses retrieval supervision on Natural Questions and TriviaQA. RAG compares favourably to the DPR QA system, which uses a BERT-based “cross- encoder” to re-rank documents, along with an extractive reader. RAG demonstrates that neither a re-ranker nor extractive reader is necessary for state-of-the-art performance.\n",
      "\n",
      "block_type: NarrativeText\n",
      "section_title: 4.2 Abstractive Question Answering\n",
      "description: This block discusses the performance of the RAG-Sequence model compared to BART on a specific task. It highlights the strengths of RAG-Sequence, such as its ability to generate more factually correct and diverse text while hallucinating less than BART.\n",
      "file_type: application/pdf\n",
      "languages: ['eng']\n",
      "page_number: 6\n",
      "filename: Retrieval-Augmented Generation for Knowledge-Intensive NLP Tasks.pdf\n",
      "publication_year: 2020\n",
      "title: Retrieval-Augmented Generation for Knowledge-Intensive NLP Tasks\n",
      "\n",
      "As shown in Table 2, RAG-Sequence outperforms BART on Open MS-MARCO NLG by 2.6 Bleu points and 2.6 Rouge-L points. RAG approaches state-of-the-art model performance, which is impressive given that (i) those models access gold passages with speciﬁc information required to generate the reference answer , (ii) many questions are unanswerable without the gold passages, and (iii) not all questions are answerable from Wikipedia alone. Table 3 shows some generated answers from our models. Qualitatively, we ﬁnd that RAG models hallucinate less and generate factually correct text more often than BART. Later, we also show that RAG generations are more diverse than BART generations (see §4.5).\n",
      "Hola de nuevo Nicolas! 😄  Claro que sí, con gusto te puedo dar información sobre el sistema RAG. \n",
      "\n",
      "RAG significa \"Retrieval-Augmented Generation\".  Básicamente, es un sistema que combina la generación de lenguaje natural con la capacidad de recuperar información de documentos externos. \n",
      "\n",
      "Imagina que tienes un modelo de lenguaje como GPT-3, que es muy bueno generando texto, pero que no tiene acceso a información específica del mundo real.  Ahí es donde entra RAG.  En lugar de simplemente generar texto al azar, RAG primero busca en una base de datos de documentos relevantes a la tarea en cuestión.  Luego, utiliza la información de esos documentos para generar una respuesta más precisa y completa. \n",
      "\n",
      "¿Te gustaría que te cuente sobre alguna característica específica de RAG? Por ejemplo, ¿te interesa saber cómo se compara con otros modelos de lenguaje? 🤔 \n"
     ]
    }
   ],
   "execution_count": 100
  },
  {
   "metadata": {
    "ExecuteTime": {
     "end_time": "2024-09-01T14:35:55.613851Z",
     "start_time": "2024-09-01T14:35:51.480492Z"
    }
   },
   "cell_type": "code",
   "source": [
    "chat_engine = index.as_chat_engine(chat_mode=\"react\", verbose=False)\n",
    "streaming_response = chat_engine.stream_chat(\"Hola como estas\")\n",
    "for token in streaming_response.response_gen:\n",
    "    print(token, end=\"\")"
   ],
   "id": "ef868487cf550a1",
   "outputs": [
    {
     "name": "stdout",
     "output_type": "stream",
     "text": [
      "'s language to answer\n",
      "Answer: Hola, estoy bien, ¿cómo estás? \n"
     ]
    }
   ],
   "execution_count": 109
  },
  {
   "metadata": {
    "ExecuteTime": {
     "end_time": "2024-09-01T14:35:47.426067Z",
     "start_time": "2024-09-01T14:35:42.789383Z"
    }
   },
   "cell_type": "code",
   "source": [
    "chat_engine = index.as_chat_engine(chat_mode=\"react\", verbose=False)\n",
    "streaming_response = chat_engine.chat(\"Hola como estas\")\n",
    "print(streaming_response)"
   ],
   "id": "d1e34e456ee6520e",
   "outputs": [
    {
     "name": "stdout",
     "output_type": "stream",
     "text": [
      "Hola, estoy bien, ¿y tú?\n"
     ]
    }
   ],
   "execution_count": 108
  }
 ],
 "metadata": {
  "kernelspec": {
   "display_name": "Python 3",
   "language": "python",
   "name": "python3"
  },
  "language_info": {
   "codemirror_mode": {
    "name": "ipython",
    "version": 2
   },
   "file_extension": ".py",
   "mimetype": "text/x-python",
   "name": "python",
   "nbconvert_exporter": "python",
   "pygments_lexer": "ipython2",
   "version": "2.7.6"
  }
 },
 "nbformat": 4,
 "nbformat_minor": 5
}
