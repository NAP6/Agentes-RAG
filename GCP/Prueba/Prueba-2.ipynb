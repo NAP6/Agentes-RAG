{
 "cells": [
  {
   "cell_type": "code",
   "id": "initial_id",
   "metadata": {
    "collapsed": true,
    "ExecuteTime": {
     "end_time": "2024-09-08T21:26:11.419953Z",
     "start_time": "2024-09-08T21:26:07.983044Z"
    }
   },
   "source": [
    "import pickle\n",
    "from collections import defaultdict\n",
    "from typing import Sequence\n",
    "\n",
    "from llama_index.core.schema import BaseNode, MetadataMode\n"
   ],
   "outputs": [],
   "execution_count": 3
  },
  {
   "metadata": {
    "ExecuteTime": {
     "end_time": "2024-09-08T22:04:24.476848Z",
     "start_time": "2024-09-08T22:04:24.460278Z"
    }
   },
   "cell_type": "code",
   "source": [
    "with open('C:/Agentes-RAG/src/data/nodes/Retrieval-Augmented Generation for Knowledge-Intensive NLP Tasks.temporal2.pk', 'rb') as file:\n",
    "    model:Sequence[BaseNode] = pickle.load(file)"
   ],
   "id": "988f65884f7afcf5",
   "outputs": [],
   "execution_count": 14
  },
  {
   "metadata": {
    "ExecuteTime": {
     "end_time": "2024-09-08T22:04:26.217601Z",
     "start_time": "2024-09-08T22:04:26.214114Z"
    }
   },
   "cell_type": "code",
   "source": [
    "print(model[4].get_content(MetadataMode.ALL))\n",
    "print(len(model))"
   ],
   "id": "1984266c5ac56e9c",
   "outputs": [
    {
     "name": "stdout",
     "output_type": "stream",
     "text": [
      "block_type: Author Names\n",
      "file_type: application/pdf\n",
      "languages: ['eng']\n",
      "page_number: 1\n",
      "file_name: Retrieval-Augmented Generation for Knowledge-Intensive NLP Tasks.pdf\n",
      "title_of_the_document: Retrieval-Augmented Generation for Knowledge-Intensive NLP Tasks\n",
      "image_path: nan\n",
      "makes_sense: True\n",
      "description: Lists the authors of the document.\n",
      "\n",
      "Mike Lewis†, Wen-tau Yih†, Tim Rocktäschel†‡, Sebastian Riedel†‡, Douwe Kiela†\n",
      "11\n"
     ]
    }
   ],
   "execution_count": 15
  },
  {
   "metadata": {
    "ExecuteTime": {
     "end_time": "2024-09-08T21:11:19.363464Z",
     "start_time": "2024-09-08T21:11:19.355851Z"
    }
   },
   "cell_type": "code",
   "source": [
    "from llama_index.core.schema import NodeRelationship\n",
    "\n",
    "node: BaseNode = model[10]\n",
    "print(node.node_id)\n",
    "print(node.text)\n",
    "print(node.metadata['block_type'])\n",
    "print(node.metadata['image_path'])\n",
    "node.relationships[NodeRelationship.PREVIOUS].node_id\n",
    "res = list(filter(\n",
    "    lambda x: x.node_id == '0_Retrieval-Augmented Generation for Knowledge-Intensive NLP Tasks', \n",
    "    model\n",
    "))\n",
    "# if len(res) > 0:\n",
    "#     print(res[0].text)\n",
    "node.metadata\n",
    "\n",
    "res"
   ],
   "id": "64a5403152605402",
   "outputs": [
    {
     "name": "stdout",
     "output_type": "stream",
     "text": [
      "5_Retrieval-Augmented Generation for Knowledge-Intensive NLP Tasks\n",
      "Aleksandra Piktus†, Fabio Petroni†, Vladimir Karpukhin†, Naman Goyal†, Heinrich Küttler†,\n",
      "Author Names\n",
      "nan\n"
     ]
    },
    {
     "data": {
      "text/plain": [
       "[Document(id_='0_Retrieval-Augmented Generation for Knowledge-Intensive NLP Tasks', embedding=None, metadata={'block_type': 'UncategorizedText', 'file_type': 'application/pdf', 'languages': ['eng'], 'page_number': 1, 'file_name': 'Retrieval-Augmented Generation for Knowledge-Intensive NLP Tasks.pdf', 'title_of_the_document': 'Retrieval-Augmented Generation for Knowledge-Intensive NLP Tasks', 'image_path': nan, 'makes_sense': False, 'description': 'The text block contains a sequence of numbers without any context or explanation, making it nonsensical.'}, excluded_embed_metadata_keys=[], excluded_llm_metadata_keys=[], relationships={<NodeRelationship.NEXT: '3'>: RelatedNodeInfo(node_id='1_Retrieval-Augmented Generation for Knowledge-Intensive NLP Tasks', node_type=None, metadata={}, hash=None)}, text='1 2 0 2', mimetype='text/plain', start_char_idx=None, end_char_idx=None, text_template='{metadata_str}\\n\\n{content}', metadata_template='{key}: {value}', metadata_seperator='\\n')]"
      ]
     },
     "execution_count": 89,
     "metadata": {},
     "output_type": "execute_result"
    }
   ],
   "execution_count": 89
  },
  {
   "metadata": {
    "ExecuteTime": {
     "end_time": "2024-09-08T15:48:02.807881Z",
     "start_time": "2024-09-08T15:48:02.799652Z"
    }
   },
   "cell_type": "code",
   "source": [
    "node.metadata['makes_sense'] = True\n",
    "node.metadata['title_of_the_document']"
   ],
   "id": "d60d95f8bbd02db4",
   "outputs": [
    {
     "data": {
      "text/plain": [
       "'Retrieval-Augmented Generation for Knowledge-Intensive NLP Tasks'"
      ]
     },
     "execution_count": 59,
     "metadata": {},
     "output_type": "execute_result"
    }
   ],
   "execution_count": 59
  },
  {
   "metadata": {
    "ExecuteTime": {
     "end_time": "2024-09-08T21:14:30.015360Z",
     "start_time": "2024-09-08T21:14:30.001203Z"
    }
   },
   "cell_type": "code",
   "source": "res[0].node_id, res[0].relationships.get(NodeRelationship.PREVIOUS).node_id",
   "id": "7a85de9f0dc79bfe",
   "outputs": [
    {
     "ename": "AttributeError",
     "evalue": "'NoneType' object has no attribute 'node_id'",
     "output_type": "error",
     "traceback": [
      "\u001B[1;31m---------------------------------------------------------------------------\u001B[0m",
      "\u001B[1;31mAttributeError\u001B[0m                            Traceback (most recent call last)",
      "Cell \u001B[1;32mIn[99], line 1\u001B[0m\n\u001B[1;32m----> 1\u001B[0m res[\u001B[38;5;241m0\u001B[39m]\u001B[38;5;241m.\u001B[39mnode_id, \u001B[43mres\u001B[49m\u001B[43m[\u001B[49m\u001B[38;5;241;43m0\u001B[39;49m\u001B[43m]\u001B[49m\u001B[38;5;241;43m.\u001B[39;49m\u001B[43mrelationships\u001B[49m\u001B[38;5;241;43m.\u001B[39;49m\u001B[43mget\u001B[49m\u001B[43m(\u001B[49m\u001B[43mNodeRelationship\u001B[49m\u001B[38;5;241;43m.\u001B[39;49m\u001B[43mPREVIOUS\u001B[49m\u001B[43m)\u001B[49m\u001B[38;5;241;43m.\u001B[39;49m\u001B[43mnode_id\u001B[49m\n",
      "\u001B[1;31mAttributeError\u001B[0m: 'NoneType' object has no attribute 'node_id'"
     ]
    }
   ],
   "execution_count": 99
  },
  {
   "metadata": {
    "ExecuteTime": {
     "end_time": "2024-09-08T15:57:49.494145Z",
     "start_time": "2024-09-08T15:57:49.488654Z"
    }
   },
   "cell_type": "code",
   "source": [
    "from src.Ingestion.lib.library_custom.llama_index.transformations import Unstructured_Medatata_PostProcessor\n",
    "tranformation = Unstructured_Medatata_PostProcessor()\n",
    "model[3:5]"
   ],
   "id": "b98ee9cf697299df",
   "outputs": [
    {
     "data": {
      "text/plain": [
       "[Document(id_='3_Retrieval-Augmented Generation for Knowledge-Intensive NLP Tasks', embedding=None, metadata={'block_type': 'Title', 'file_type': 'application/pdf', 'languages': ['eng'], 'page_number': 1, 'file_name': 'Retrieval-Augmented Generation for Knowledge-Intensive NLP Tasks.pdf', 'title_of_the_document': 'Retrieval-Augmented Generation for Knowledge-Intensive NLP Tasks', 'image_path': nan}, excluded_embed_metadata_keys=[], excluded_llm_metadata_keys=[], relationships={<NodeRelationship.PREVIOUS: '2'>: RelatedNodeInfo(node_id='2_Retrieval-Augmented Generation for Knowledge-Intensive NLP Tasks', node_type=None, metadata={}, hash=None), <NodeRelationship.NEXT: '3'>: RelatedNodeInfo(node_id='4_Retrieval-Augmented Generation for Knowledge-Intensive NLP Tasks', node_type=None, metadata={}, hash=None)}, text='Retrieval-Augmented Generation for Knowledge-Intensive NLP Tasks', mimetype='text/plain', start_char_idx=None, end_char_idx=None, text_template='{metadata_str}\\n\\n{content}', metadata_template='{key}: {value}', metadata_seperator='\\n'),\n",
       " Document(id_='4_Retrieval-Augmented Generation for Knowledge-Intensive NLP Tasks', embedding=None, metadata={'block_type': 'NarrativeText', 'file_type': 'application/pdf', 'languages': ['eng'], 'page_number': 1, 'file_name': 'Retrieval-Augmented Generation for Knowledge-Intensive NLP Tasks.pdf', 'title_of_the_document': 'Retrieval-Augmented Generation for Knowledge-Intensive NLP Tasks', 'image_path': nan}, excluded_embed_metadata_keys=[], excluded_llm_metadata_keys=[], relationships={<NodeRelationship.PREVIOUS: '2'>: RelatedNodeInfo(node_id='3_Retrieval-Augmented Generation for Knowledge-Intensive NLP Tasks', node_type=None, metadata={}, hash=None), <NodeRelationship.NEXT: '3'>: RelatedNodeInfo(node_id='5_Retrieval-Augmented Generation for Knowledge-Intensive NLP Tasks', node_type=None, metadata={}, hash=None)}, text=\"Patrick Lewis'?, Ethan Perez*,\", mimetype='text/plain', start_char_idx=None, end_char_idx=None, text_template='{metadata_str}\\n\\n{content}', metadata_template='{key}: {value}', metadata_seperator='\\n')]"
      ]
     },
     "execution_count": 63,
     "metadata": {},
     "output_type": "execute_result"
    }
   ],
   "execution_count": 63
  },
  {
   "metadata": {},
   "cell_type": "code",
   "outputs": [],
   "execution_count": null,
   "source": "",
   "id": "3401eb199601a667"
  }
 ],
 "metadata": {
  "kernelspec": {
   "display_name": "Python 3",
   "language": "python",
   "name": "python3"
  },
  "language_info": {
   "codemirror_mode": {
    "name": "ipython",
    "version": 2
   },
   "file_extension": ".py",
   "mimetype": "text/x-python",
   "name": "python",
   "nbconvert_exporter": "python",
   "pygments_lexer": "ipython2",
   "version": "2.7.6"
  }
 },
 "nbformat": 4,
 "nbformat_minor": 5
}
